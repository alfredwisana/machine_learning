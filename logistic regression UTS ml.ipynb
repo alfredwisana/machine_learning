{
 "cells": [
  {
   "cell_type": "code",
   "execution_count": 147,
   "id": "c4c89dd5-5a07-4120-88bb-98690e61e318",
   "metadata": {},
   "outputs": [],
   "source": [
    "import pandas as pd\n",
    "from sklearn.linear_model import LogisticRegression\n",
    "from sklearn.model_selection import train_test_split, cross_val_score, cross_val_predict, KFold\n",
    "from sklearn.metrics import confusion_matrix, roc_auc_score, mean_squared_error, accuracy_score\n",
    "from sklearn.preprocessing import StandardScaler, MinMaxScaler\n",
    "import statsmodels.api as sm\n",
    "import seaborn as sns\n",
    "import matplotlib.pyplot as plt"
   ]
  },
  {
   "cell_type": "code",
   "execution_count": 148,
   "id": "b51e6c4c-98e4-453f-bdcb-8bbb12f5d6a7",
   "metadata": {},
   "outputs": [],
   "source": [
    "df = pd.read_csv(r\"C:\\Users\\LENOVO\\Documents\\school\\SEM 5\\Machine Learning\\datasets\\spam.csv\")"
   ]
  },
  {
   "cell_type": "code",
   "execution_count": 149,
   "id": "2db973c6-85ee-4c93-a026-ccd0f5baa726",
   "metadata": {},
   "outputs": [
    {
     "name": "stdout",
     "output_type": "stream",
     "text": [
      "crl.tot    0\n",
      "dollar     0\n",
      "bang       0\n",
      "money      0\n",
      "n000       0\n",
      "make       0\n",
      "yesno      0\n",
      "dtype: int64\n"
     ]
    },
    {
     "data": {
      "text/html": [
       "<div>\n",
       "<style scoped>\n",
       "    .dataframe tbody tr th:only-of-type {\n",
       "        vertical-align: middle;\n",
       "    }\n",
       "\n",
       "    .dataframe tbody tr th {\n",
       "        vertical-align: top;\n",
       "    }\n",
       "\n",
       "    .dataframe thead th {\n",
       "        text-align: right;\n",
       "    }\n",
       "</style>\n",
       "<table border=\"1\" class=\"dataframe\">\n",
       "  <thead>\n",
       "    <tr style=\"text-align: right;\">\n",
       "      <th></th>\n",
       "      <th>crl.tot</th>\n",
       "      <th>dollar</th>\n",
       "      <th>bang</th>\n",
       "      <th>money</th>\n",
       "      <th>n000</th>\n",
       "      <th>make</th>\n",
       "      <th>yesno</th>\n",
       "    </tr>\n",
       "  </thead>\n",
       "  <tbody>\n",
       "    <tr>\n",
       "      <th>0</th>\n",
       "      <td>278</td>\n",
       "      <td>0.000</td>\n",
       "      <td>0.778</td>\n",
       "      <td>0.00</td>\n",
       "      <td>0.00</td>\n",
       "      <td>0.00</td>\n",
       "      <td>1</td>\n",
       "    </tr>\n",
       "    <tr>\n",
       "      <th>1</th>\n",
       "      <td>1028</td>\n",
       "      <td>0.180</td>\n",
       "      <td>0.372</td>\n",
       "      <td>0.43</td>\n",
       "      <td>0.43</td>\n",
       "      <td>0.21</td>\n",
       "      <td>1</td>\n",
       "    </tr>\n",
       "    <tr>\n",
       "      <th>2</th>\n",
       "      <td>2259</td>\n",
       "      <td>0.184</td>\n",
       "      <td>0.276</td>\n",
       "      <td>0.06</td>\n",
       "      <td>1.16</td>\n",
       "      <td>0.06</td>\n",
       "      <td>1</td>\n",
       "    </tr>\n",
       "    <tr>\n",
       "      <th>3</th>\n",
       "      <td>191</td>\n",
       "      <td>0.000</td>\n",
       "      <td>0.137</td>\n",
       "      <td>0.00</td>\n",
       "      <td>0.00</td>\n",
       "      <td>0.00</td>\n",
       "      <td>1</td>\n",
       "    </tr>\n",
       "    <tr>\n",
       "      <th>4</th>\n",
       "      <td>191</td>\n",
       "      <td>0.000</td>\n",
       "      <td>0.135</td>\n",
       "      <td>0.00</td>\n",
       "      <td>0.00</td>\n",
       "      <td>0.00</td>\n",
       "      <td>1</td>\n",
       "    </tr>\n",
       "  </tbody>\n",
       "</table>\n",
       "</div>"
      ],
      "text/plain": [
       "   crl.tot  dollar   bang  money  n000  make  yesno\n",
       "0      278   0.000  0.778   0.00  0.00  0.00      1\n",
       "1     1028   0.180  0.372   0.43  0.43  0.21      1\n",
       "2     2259   0.184  0.276   0.06  1.16  0.06      1\n",
       "3      191   0.000  0.137   0.00  0.00  0.00      1\n",
       "4      191   0.000  0.135   0.00  0.00  0.00      1"
      ]
     },
     "execution_count": 149,
     "metadata": {},
     "output_type": "execute_result"
    }
   ],
   "source": [
    "# encoding preprocessing cleaning\n",
    "df['yesno'] = df['yesno'].replace('y',1)\n",
    "df['yesno'] = df['yesno'].replace('n',0)\n",
    "print(df.isnull().sum())\n",
    "df.head()"
   ]
  },
  {
   "cell_type": "code",
   "execution_count": 150,
   "id": "092cc286-a4d8-4311-af13-a1f030f3357d",
   "metadata": {
    "tags": []
   },
   "outputs": [
    {
     "data": {
      "text/html": [
       "<div>\n",
       "<style scoped>\n",
       "    .dataframe tbody tr th:only-of-type {\n",
       "        vertical-align: middle;\n",
       "    }\n",
       "\n",
       "    .dataframe tbody tr th {\n",
       "        vertical-align: top;\n",
       "    }\n",
       "\n",
       "    .dataframe thead th {\n",
       "        text-align: right;\n",
       "    }\n",
       "</style>\n",
       "<table border=\"1\" class=\"dataframe\">\n",
       "  <thead>\n",
       "    <tr style=\"text-align: right;\">\n",
       "      <th></th>\n",
       "      <th>crl.tot</th>\n",
       "      <th>dollar</th>\n",
       "      <th>bang</th>\n",
       "      <th>money</th>\n",
       "      <th>n000</th>\n",
       "      <th>make</th>\n",
       "      <th>yesno</th>\n",
       "    </tr>\n",
       "  </thead>\n",
       "  <tbody>\n",
       "    <tr>\n",
       "      <th>crl.tot</th>\n",
       "      <td>1.000000</td>\n",
       "      <td>0.201948</td>\n",
       "      <td>0.036321</td>\n",
       "      <td>0.080993</td>\n",
       "      <td>0.165977</td>\n",
       "      <td>0.089165</td>\n",
       "      <td>0.249164</td>\n",
       "    </tr>\n",
       "    <tr>\n",
       "      <th>dollar</th>\n",
       "      <td>0.201948</td>\n",
       "      <td>1.000000</td>\n",
       "      <td>0.142913</td>\n",
       "      <td>0.104691</td>\n",
       "      <td>0.310971</td>\n",
       "      <td>0.117419</td>\n",
       "      <td>0.323629</td>\n",
       "    </tr>\n",
       "    <tr>\n",
       "      <th>bang</th>\n",
       "      <td>0.036321</td>\n",
       "      <td>0.142913</td>\n",
       "      <td>1.000000</td>\n",
       "      <td>0.051076</td>\n",
       "      <td>0.070103</td>\n",
       "      <td>0.058292</td>\n",
       "      <td>0.241888</td>\n",
       "    </tr>\n",
       "    <tr>\n",
       "      <th>money</th>\n",
       "      <td>0.080993</td>\n",
       "      <td>0.104691</td>\n",
       "      <td>0.051076</td>\n",
       "      <td>1.000000</td>\n",
       "      <td>0.052587</td>\n",
       "      <td>0.188155</td>\n",
       "      <td>0.216111</td>\n",
       "    </tr>\n",
       "    <tr>\n",
       "      <th>n000</th>\n",
       "      <td>0.165977</td>\n",
       "      <td>0.310971</td>\n",
       "      <td>0.070103</td>\n",
       "      <td>0.052587</td>\n",
       "      <td>1.000000</td>\n",
       "      <td>0.134072</td>\n",
       "      <td>0.334787</td>\n",
       "    </tr>\n",
       "    <tr>\n",
       "      <th>make</th>\n",
       "      <td>0.089165</td>\n",
       "      <td>0.117419</td>\n",
       "      <td>0.058292</td>\n",
       "      <td>0.188155</td>\n",
       "      <td>0.134072</td>\n",
       "      <td>1.000000</td>\n",
       "      <td>0.126208</td>\n",
       "    </tr>\n",
       "    <tr>\n",
       "      <th>yesno</th>\n",
       "      <td>0.249164</td>\n",
       "      <td>0.323629</td>\n",
       "      <td>0.241888</td>\n",
       "      <td>0.216111</td>\n",
       "      <td>0.334787</td>\n",
       "      <td>0.126208</td>\n",
       "      <td>1.000000</td>\n",
       "    </tr>\n",
       "  </tbody>\n",
       "</table>\n",
       "</div>"
      ],
      "text/plain": [
       "          crl.tot    dollar      bang     money      n000      make     yesno\n",
       "crl.tot  1.000000  0.201948  0.036321  0.080993  0.165977  0.089165  0.249164\n",
       "dollar   0.201948  1.000000  0.142913  0.104691  0.310971  0.117419  0.323629\n",
       "bang     0.036321  0.142913  1.000000  0.051076  0.070103  0.058292  0.241888\n",
       "money    0.080993  0.104691  0.051076  1.000000  0.052587  0.188155  0.216111\n",
       "n000     0.165977  0.310971  0.070103  0.052587  1.000000  0.134072  0.334787\n",
       "make     0.089165  0.117419  0.058292  0.188155  0.134072  1.000000  0.126208\n",
       "yesno    0.249164  0.323629  0.241888  0.216111  0.334787  0.126208  1.000000"
      ]
     },
     "execution_count": 150,
     "metadata": {},
     "output_type": "execute_result"
    }
   ],
   "source": [
    "# correlation matrix\n",
    "df.corr()"
   ]
  },
  {
   "cell_type": "code",
   "execution_count": 151,
   "id": "9f964bc9-1d00-4f9a-918e-37bc666dad3f",
   "metadata": {
    "tags": []
   },
   "outputs": [
    {
     "data": {
      "text/html": [
       "<div>\n",
       "<style scoped>\n",
       "    .dataframe tbody tr th:only-of-type {\n",
       "        vertical-align: middle;\n",
       "    }\n",
       "\n",
       "    .dataframe tbody tr th {\n",
       "        vertical-align: top;\n",
       "    }\n",
       "\n",
       "    .dataframe thead th {\n",
       "        text-align: right;\n",
       "    }\n",
       "</style>\n",
       "<table border=\"1\" class=\"dataframe\">\n",
       "  <thead>\n",
       "    <tr style=\"text-align: right;\">\n",
       "      <th></th>\n",
       "      <th>crl.tot</th>\n",
       "      <th>dollar</th>\n",
       "      <th>bang</th>\n",
       "      <th>money</th>\n",
       "      <th>n000</th>\n",
       "      <th>make</th>\n",
       "      <th>yesno</th>\n",
       "    </tr>\n",
       "  </thead>\n",
       "  <tbody>\n",
       "    <tr>\n",
       "      <th>count</th>\n",
       "      <td>4601.000000</td>\n",
       "      <td>4601.000000</td>\n",
       "      <td>4601.000000</td>\n",
       "      <td>4601.000000</td>\n",
       "      <td>4601.000000</td>\n",
       "      <td>4601.000000</td>\n",
       "      <td>4601.000000</td>\n",
       "    </tr>\n",
       "    <tr>\n",
       "      <th>mean</th>\n",
       "      <td>283.289285</td>\n",
       "      <td>0.075811</td>\n",
       "      <td>0.269071</td>\n",
       "      <td>0.094269</td>\n",
       "      <td>0.101645</td>\n",
       "      <td>0.104553</td>\n",
       "      <td>0.394045</td>\n",
       "    </tr>\n",
       "    <tr>\n",
       "      <th>std</th>\n",
       "      <td>606.347851</td>\n",
       "      <td>0.245882</td>\n",
       "      <td>0.815672</td>\n",
       "      <td>0.442636</td>\n",
       "      <td>0.350286</td>\n",
       "      <td>0.305358</td>\n",
       "      <td>0.488698</td>\n",
       "    </tr>\n",
       "    <tr>\n",
       "      <th>min</th>\n",
       "      <td>1.000000</td>\n",
       "      <td>0.000000</td>\n",
       "      <td>0.000000</td>\n",
       "      <td>0.000000</td>\n",
       "      <td>0.000000</td>\n",
       "      <td>0.000000</td>\n",
       "      <td>0.000000</td>\n",
       "    </tr>\n",
       "    <tr>\n",
       "      <th>25%</th>\n",
       "      <td>35.000000</td>\n",
       "      <td>0.000000</td>\n",
       "      <td>0.000000</td>\n",
       "      <td>0.000000</td>\n",
       "      <td>0.000000</td>\n",
       "      <td>0.000000</td>\n",
       "      <td>0.000000</td>\n",
       "    </tr>\n",
       "    <tr>\n",
       "      <th>50%</th>\n",
       "      <td>95.000000</td>\n",
       "      <td>0.000000</td>\n",
       "      <td>0.000000</td>\n",
       "      <td>0.000000</td>\n",
       "      <td>0.000000</td>\n",
       "      <td>0.000000</td>\n",
       "      <td>0.000000</td>\n",
       "    </tr>\n",
       "    <tr>\n",
       "      <th>75%</th>\n",
       "      <td>266.000000</td>\n",
       "      <td>0.052000</td>\n",
       "      <td>0.315000</td>\n",
       "      <td>0.000000</td>\n",
       "      <td>0.000000</td>\n",
       "      <td>0.000000</td>\n",
       "      <td>1.000000</td>\n",
       "    </tr>\n",
       "    <tr>\n",
       "      <th>max</th>\n",
       "      <td>15841.000000</td>\n",
       "      <td>6.003000</td>\n",
       "      <td>32.478000</td>\n",
       "      <td>12.500000</td>\n",
       "      <td>5.450000</td>\n",
       "      <td>4.540000</td>\n",
       "      <td>1.000000</td>\n",
       "    </tr>\n",
       "  </tbody>\n",
       "</table>\n",
       "</div>"
      ],
      "text/plain": [
       "            crl.tot       dollar         bang        money         n000  \\\n",
       "count   4601.000000  4601.000000  4601.000000  4601.000000  4601.000000   \n",
       "mean     283.289285     0.075811     0.269071     0.094269     0.101645   \n",
       "std      606.347851     0.245882     0.815672     0.442636     0.350286   \n",
       "min        1.000000     0.000000     0.000000     0.000000     0.000000   \n",
       "25%       35.000000     0.000000     0.000000     0.000000     0.000000   \n",
       "50%       95.000000     0.000000     0.000000     0.000000     0.000000   \n",
       "75%      266.000000     0.052000     0.315000     0.000000     0.000000   \n",
       "max    15841.000000     6.003000    32.478000    12.500000     5.450000   \n",
       "\n",
       "              make        yesno  \n",
       "count  4601.000000  4601.000000  \n",
       "mean      0.104553     0.394045  \n",
       "std       0.305358     0.488698  \n",
       "min       0.000000     0.000000  \n",
       "25%       0.000000     0.000000  \n",
       "50%       0.000000     0.000000  \n",
       "75%       0.000000     1.000000  \n",
       "max       4.540000     1.000000  "
      ]
     },
     "execution_count": 151,
     "metadata": {},
     "output_type": "execute_result"
    }
   ],
   "source": [
    "df.describe()"
   ]
  },
  {
   "cell_type": "code",
   "execution_count": 152,
   "id": "f732d2d4-7e0a-4b63-a516-4ca03f33be3e",
   "metadata": {},
   "outputs": [],
   "source": [
    "df_copy = df.copy(deep=True)"
   ]
  },
  {
   "cell_type": "code",
   "execution_count": 153,
   "id": "8c9cd473-29f1-4668-8bd2-d6171767a3ae",
   "metadata": {
    "tags": []
   },
   "outputs": [
    {
     "data": {
      "text/html": [
       "<div>\n",
       "<style scoped>\n",
       "    .dataframe tbody tr th:only-of-type {\n",
       "        vertical-align: middle;\n",
       "    }\n",
       "\n",
       "    .dataframe tbody tr th {\n",
       "        vertical-align: top;\n",
       "    }\n",
       "\n",
       "    .dataframe thead th {\n",
       "        text-align: right;\n",
       "    }\n",
       "</style>\n",
       "<table border=\"1\" class=\"dataframe\">\n",
       "  <thead>\n",
       "    <tr style=\"text-align: right;\">\n",
       "      <th></th>\n",
       "      <th>crl.tot</th>\n",
       "      <th>dollar</th>\n",
       "      <th>bang</th>\n",
       "      <th>money</th>\n",
       "      <th>n000</th>\n",
       "      <th>make</th>\n",
       "      <th>yesno</th>\n",
       "    </tr>\n",
       "  </thead>\n",
       "  <tbody>\n",
       "    <tr>\n",
       "      <th>0</th>\n",
       "      <td>0.017487</td>\n",
       "      <td>0.000</td>\n",
       "      <td>0.778</td>\n",
       "      <td>0.00</td>\n",
       "      <td>0.00</td>\n",
       "      <td>0.00</td>\n",
       "      <td>1</td>\n",
       "    </tr>\n",
       "    <tr>\n",
       "      <th>1</th>\n",
       "      <td>0.064836</td>\n",
       "      <td>0.180</td>\n",
       "      <td>0.372</td>\n",
       "      <td>0.43</td>\n",
       "      <td>0.43</td>\n",
       "      <td>0.21</td>\n",
       "      <td>1</td>\n",
       "    </tr>\n",
       "    <tr>\n",
       "      <th>2</th>\n",
       "      <td>0.142551</td>\n",
       "      <td>0.184</td>\n",
       "      <td>0.276</td>\n",
       "      <td>0.06</td>\n",
       "      <td>1.16</td>\n",
       "      <td>0.06</td>\n",
       "      <td>1</td>\n",
       "    </tr>\n",
       "    <tr>\n",
       "      <th>3</th>\n",
       "      <td>0.011995</td>\n",
       "      <td>0.000</td>\n",
       "      <td>0.137</td>\n",
       "      <td>0.00</td>\n",
       "      <td>0.00</td>\n",
       "      <td>0.00</td>\n",
       "      <td>1</td>\n",
       "    </tr>\n",
       "    <tr>\n",
       "      <th>4</th>\n",
       "      <td>0.011995</td>\n",
       "      <td>0.000</td>\n",
       "      <td>0.135</td>\n",
       "      <td>0.00</td>\n",
       "      <td>0.00</td>\n",
       "      <td>0.00</td>\n",
       "      <td>1</td>\n",
       "    </tr>\n",
       "    <tr>\n",
       "      <th>...</th>\n",
       "      <td>...</td>\n",
       "      <td>...</td>\n",
       "      <td>...</td>\n",
       "      <td>...</td>\n",
       "      <td>...</td>\n",
       "      <td>...</td>\n",
       "      <td>...</td>\n",
       "    </tr>\n",
       "    <tr>\n",
       "      <th>4596</th>\n",
       "      <td>0.005492</td>\n",
       "      <td>0.000</td>\n",
       "      <td>0.000</td>\n",
       "      <td>0.00</td>\n",
       "      <td>0.00</td>\n",
       "      <td>0.31</td>\n",
       "      <td>0</td>\n",
       "    </tr>\n",
       "    <tr>\n",
       "      <th>4597</th>\n",
       "      <td>0.000821</td>\n",
       "      <td>0.000</td>\n",
       "      <td>0.353</td>\n",
       "      <td>0.00</td>\n",
       "      <td>0.00</td>\n",
       "      <td>0.00</td>\n",
       "      <td>0</td>\n",
       "    </tr>\n",
       "    <tr>\n",
       "      <th>4598</th>\n",
       "      <td>0.007386</td>\n",
       "      <td>0.000</td>\n",
       "      <td>0.000</td>\n",
       "      <td>0.00</td>\n",
       "      <td>0.00</td>\n",
       "      <td>0.30</td>\n",
       "      <td>0</td>\n",
       "    </tr>\n",
       "    <tr>\n",
       "      <th>4599</th>\n",
       "      <td>0.004861</td>\n",
       "      <td>0.000</td>\n",
       "      <td>0.000</td>\n",
       "      <td>0.00</td>\n",
       "      <td>0.00</td>\n",
       "      <td>0.96</td>\n",
       "      <td>0</td>\n",
       "    </tr>\n",
       "    <tr>\n",
       "      <th>4600</th>\n",
       "      <td>0.002462</td>\n",
       "      <td>0.000</td>\n",
       "      <td>0.125</td>\n",
       "      <td>0.00</td>\n",
       "      <td>0.00</td>\n",
       "      <td>0.00</td>\n",
       "      <td>0</td>\n",
       "    </tr>\n",
       "  </tbody>\n",
       "</table>\n",
       "<p>4601 rows × 7 columns</p>\n",
       "</div>"
      ],
      "text/plain": [
       "       crl.tot  dollar   bang  money  n000  make  yesno\n",
       "0     0.017487   0.000  0.778   0.00  0.00  0.00      1\n",
       "1     0.064836   0.180  0.372   0.43  0.43  0.21      1\n",
       "2     0.142551   0.184  0.276   0.06  1.16  0.06      1\n",
       "3     0.011995   0.000  0.137   0.00  0.00  0.00      1\n",
       "4     0.011995   0.000  0.135   0.00  0.00  0.00      1\n",
       "...        ...     ...    ...    ...   ...   ...    ...\n",
       "4596  0.005492   0.000  0.000   0.00  0.00  0.31      0\n",
       "4597  0.000821   0.000  0.353   0.00  0.00  0.00      0\n",
       "4598  0.007386   0.000  0.000   0.00  0.00  0.30      0\n",
       "4599  0.004861   0.000  0.000   0.00  0.00  0.96      0\n",
       "4600  0.002462   0.000  0.125   0.00  0.00  0.00      0\n",
       "\n",
       "[4601 rows x 7 columns]"
      ]
     },
     "execution_count": 153,
     "metadata": {},
     "output_type": "execute_result"
    }
   ],
   "source": [
    "scaler = MinMaxScaler()\n",
    "df_copy['crl.tot'] = scaler.fit_transform(df_copy[['crl.tot']])\n",
    "df_copy"
   ]
  },
  {
   "cell_type": "code",
   "execution_count": 154,
   "id": "ca6bb86a-2460-4f1e-b8c3-1cc41e7e1fca",
   "metadata": {},
   "outputs": [],
   "source": [
    "X = df_copy.drop('yesno', axis=1)\n",
    "y = df_copy.yesno\n",
    "#data dipisah menjadi training dan testing\n",
    "X_temp, X_test, y_temp, y_test = train_test_split(X,y,test_size=0.2,random_state=123)\n",
    "#data dipisah menjadi trainging dan validation\n",
    "X_train, X_val, y_train, y_val = train_test_split(X_temp,y_temp,test_size=0.2,random_state=123)"
   ]
  },
  {
   "cell_type": "code",
   "execution_count": 155,
   "id": "c6f7d522-b51c-4d65-849e-842bf9f010f2",
   "metadata": {},
   "outputs": [
    {
     "name": "stdout",
     "output_type": "stream",
     "text": [
      "Optimization terminated successfully.\n",
      "         Current function value: 0.599558\n",
      "         Iterations 8\n"
     ]
    },
    {
     "data": {
      "text/html": [
       "<table class=\"simpletable\">\n",
       "<caption>Logit Regression Results</caption>\n",
       "<tr>\n",
       "  <th>Dep. Variable:</th>         <td>yesno</td>      <th>  No. Observations:  </th>  <td>  2944</td>  \n",
       "</tr>\n",
       "<tr>\n",
       "  <th>Model:</th>                 <td>Logit</td>      <th>  Df Residuals:      </th>  <td>  2938</td>  \n",
       "</tr>\n",
       "<tr>\n",
       "  <th>Method:</th>                 <td>MLE</td>       <th>  Df Model:          </th>  <td>     5</td>  \n",
       "</tr>\n",
       "<tr>\n",
       "  <th>Date:</th>            <td>Sat, 14 Oct 2023</td> <th>  Pseudo R-squ.:     </th>  <td>0.1044</td>  \n",
       "</tr>\n",
       "<tr>\n",
       "  <th>Time:</th>                <td>11:55:17</td>     <th>  Log-Likelihood:    </th> <td> -1765.1</td> \n",
       "</tr>\n",
       "<tr>\n",
       "  <th>converged:</th>             <td>True</td>       <th>  LL-Null:           </th> <td> -1970.9</td> \n",
       "</tr>\n",
       "<tr>\n",
       "  <th>Covariance Type:</th>     <td>nonrobust</td>    <th>  LLR p-value:       </th> <td>8.962e-87</td>\n",
       "</tr>\n",
       "</table>\n",
       "<table class=\"simpletable\">\n",
       "<tr>\n",
       "     <td></td>        <th>coef</th>     <th>std err</th>      <th>z</th>      <th>P>|z|</th>  <th>[0.025</th>    <th>0.975]</th>  \n",
       "</tr>\n",
       "<tr>\n",
       "  <th>crl.tot</th> <td>   -2.2453</td> <td>    1.290</td> <td>   -1.740</td> <td> 0.082</td> <td>   -4.774</td> <td>    0.283</td>\n",
       "</tr>\n",
       "<tr>\n",
       "  <th>dollar</th>  <td>    4.0655</td> <td>    0.594</td> <td>    6.849</td> <td> 0.000</td> <td>    2.902</td> <td>    5.229</td>\n",
       "</tr>\n",
       "<tr>\n",
       "  <th>bang</th>    <td>    0.4862</td> <td>    0.104</td> <td>    4.689</td> <td> 0.000</td> <td>    0.283</td> <td>    0.689</td>\n",
       "</tr>\n",
       "<tr>\n",
       "  <th>money</th>   <td>    0.9213</td> <td>    0.229</td> <td>    4.029</td> <td> 0.000</td> <td>    0.473</td> <td>    1.369</td>\n",
       "</tr>\n",
       "<tr>\n",
       "  <th>n000</th>    <td>    3.1562</td> <td>    0.450</td> <td>    7.008</td> <td> 0.000</td> <td>    2.273</td> <td>    4.039</td>\n",
       "</tr>\n",
       "<tr>\n",
       "  <th>make</th>    <td>   -1.0247</td> <td>    0.186</td> <td>   -5.501</td> <td> 0.000</td> <td>   -1.390</td> <td>   -0.660</td>\n",
       "</tr>\n",
       "</table>"
      ],
      "text/plain": [
       "<class 'statsmodels.iolib.summary.Summary'>\n",
       "\"\"\"\n",
       "                           Logit Regression Results                           \n",
       "==============================================================================\n",
       "Dep. Variable:                  yesno   No. Observations:                 2944\n",
       "Model:                          Logit   Df Residuals:                     2938\n",
       "Method:                           MLE   Df Model:                            5\n",
       "Date:                Sat, 14 Oct 2023   Pseudo R-squ.:                  0.1044\n",
       "Time:                        11:55:17   Log-Likelihood:                -1765.1\n",
       "converged:                       True   LL-Null:                       -1970.9\n",
       "Covariance Type:            nonrobust   LLR p-value:                 8.962e-87\n",
       "==============================================================================\n",
       "                 coef    std err          z      P>|z|      [0.025      0.975]\n",
       "------------------------------------------------------------------------------\n",
       "crl.tot       -2.2453      1.290     -1.740      0.082      -4.774       0.283\n",
       "dollar         4.0655      0.594      6.849      0.000       2.902       5.229\n",
       "bang           0.4862      0.104      4.689      0.000       0.283       0.689\n",
       "money          0.9213      0.229      4.029      0.000       0.473       1.369\n",
       "n000           3.1562      0.450      7.008      0.000       2.273       4.039\n",
       "make          -1.0247      0.186     -5.501      0.000      -1.390      -0.660\n",
       "==============================================================================\n",
       "\"\"\""
      ]
     },
     "execution_count": 155,
     "metadata": {},
     "output_type": "execute_result"
    }
   ],
   "source": [
    "#mencari p value\n",
    "model_sm = sm.Logit(y_train,X_train)\n",
    "result = model_sm.fit()\n",
    "result.summary()"
   ]
  },
  {
   "cell_type": "raw",
   "id": "0c6078c4-6422-4d25-873b-e2d3d632f8be",
   "metadata": {},
   "source": [
    "h0 tidak ada relasi kuat antara predictor dan response\n",
    "h0 ditolak karena p value <=0.05"
   ]
  },
  {
   "cell_type": "raw",
   "id": "9b8a8763-217a-46f6-85ce-3ee71df2c3c0",
   "metadata": {},
   "source": [
    "semua attribute penting karena memiliki nilai significant yang kuat"
   ]
  },
  {
   "cell_type": "code",
   "execution_count": 156,
   "id": "fba197d4-7e89-46d4-950c-d54908df5ba7",
   "metadata": {},
   "outputs": [
    {
     "data": {
      "text/plain": [
       "0.8125"
      ]
     },
     "execution_count": 156,
     "metadata": {},
     "output_type": "execute_result"
    }
   ],
   "source": [
    "#validasi menggunakan validation set\n",
    "logistic_regression = LogisticRegression(solver='lbfgs',max_iter=200, random_state=1234)\n",
    "logistic_regression.fit(X_train,y_train)\n",
    "\n",
    "y_val_pred = logistic_regression.predict(X_val)\n",
    "accuracy_score(y_val,y_val_pred)"
   ]
  },
  {
   "cell_type": "code",
   "execution_count": 157,
   "id": "c6aba9d2-3c14-4f51-8007-ace046f789a7",
   "metadata": {},
   "outputs": [
    {
     "data": {
      "text/plain": [
       "0.1875"
      ]
     },
     "execution_count": 157,
     "metadata": {},
     "output_type": "execute_result"
    }
   ],
   "source": [
    "#hitung mse untuk validation set\n",
    "mse = mean_squared_error(y_val,y_val_pred)\n",
    "mse"
   ]
  },
  {
   "cell_type": "code",
   "execution_count": 158,
   "id": "64858b05-6b4c-4435-bdd1-b2a302fa47ec",
   "metadata": {},
   "outputs": [
    {
     "data": {
      "image/png": "[encoded data removed]",
      "text/plain": [
       "<Figure size 300x200 with 2 Axes>"
      ]
     },
     "metadata": {},
     "output_type": "display_data"
    }
   ],
   "source": [
    "cf = confusion_matrix(y_val, y_val_pred, normalize='true')\n",
    "plt.figure(figsize=(3,2))\n",
    "sns.heatmap(cf, annot=True)\n",
    "plt.xlabel('Prediction')\n",
    "plt.ylabel('Target')\n",
    "plt.title('{} Confusion Matrix'.format('validation'));"
   ]
  },
  {
   "cell_type": "code",
   "execution_count": 159,
   "id": "96caa52c-984f-499b-b3db-c44d2b2820bd",
   "metadata": {},
   "outputs": [
    {
     "name": "stdout",
     "output_type": "stream",
     "text": [
      "roc_auc_score 0.7795800653096103\n"
     ]
    }
   ],
   "source": [
    "print('roc_auc_score',roc_auc_score(y_val,y_val_pred))"
   ]
  },
  {
   "cell_type": "code",
   "execution_count": 160,
   "id": "61431a16-0391-4ccc-8072-82a29ce3cbb6",
   "metadata": {},
   "outputs": [
    {
     "data": {
      "text/plain": [
       "0.8230335524040123"
      ]
     },
     "execution_count": 160,
     "metadata": {},
     "output_type": "execute_result"
    }
   ],
   "source": [
    "# k-fold cross validation\n",
    "score = cross_val_score(logistic_regression,X_train,y_train,scoring=None,cv=10)\n",
    "score.mean()"
   ]
  },
  {
   "cell_type": "code",
   "execution_count": 161,
   "id": "e6aae282-31aa-4536-961a-7d9c46308c96",
   "metadata": {},
   "outputs": [
    {
     "name": "stdout",
     "output_type": "stream",
     "text": [
      "Average MSE Across All Folds: 0.17418478260869566\n",
      "score: 0.9375\n"
     ]
    }
   ],
   "source": [
    "#evaluasi menggunakan kfold cross validation\n",
    "kf = KFold(n_splits=10)\n",
    "mse_scores = []\n",
    "\n",
    "for train_index, val_index in kf.split(X_temp):\n",
    "    X_train, X_val = X.iloc[train_index], X.iloc[val_index]\n",
    "    y_train, y_val = y.iloc[train_index], y.iloc[val_index]\n",
    "    logistic_regression.fit(X_train,y_train)\n",
    "    y_pred = logistic_regression.predict(X_val)\n",
    "    \n",
    "    mse = mean_squared_error(y_val,y_pred)\n",
    "    mse_scores.append(mse)\n",
    "    \n",
    "avg_mse = sum(mse_scores)/len(mse_scores)\n",
    "print(\"Average MSE Across All Folds:\", avg_mse)\n",
    "print(\"score:\", accuracy_score(y_val,y_pred))"
   ]
  },
  {
   "cell_type": "code",
   "execution_count": 164,
   "id": "cb45e313-3aab-467d-a464-5df9069f97e3",
   "metadata": {},
   "outputs": [
    {
     "data": {
      "text/plain": [
       "0.8642779587404995"
      ]
     },
     "execution_count": 164,
     "metadata": {},
     "output_type": "execute_result"
    }
   ],
   "source": [
    "#testing data\n",
    "y_test_pred = logistic_regression.predict(X_test)\n",
    "accuracy_score(y_test,y_test_pred)"
   ]
  },
  {
   "cell_type": "markdown",
   "id": "9d29ab8e-e8a3-4018-aa2b-257481a0f184",
   "metadata": {},
   "source": [
    "1. Validation Set (Validasi Set):\n",
    "\n",
    "Bias: Validation set dapat menghasilkan perkiraan bias yang lebih tinggi daripada K-Fold Cross-Validation. Ini karena Anda hanya mengukur kinerja model pada satu subset data validasi.\n",
    "\n",
    "Varians: Pengukuran bias yang tinggi pada satu set data validasi bisa mengakibatkan model menjadi overfit pada data tersebut, menghasilkan varians yang tinggi.\n",
    "\n",
    "2. K-Fold Cross-Validation:\n",
    "\n",
    "Bias: K-Fold Cross-Validation cenderung memberikan perkiraan bias yang lebih baik karena Anda mengukur kinerja model pada berbagai subset data pengujian yang berbeda.\n",
    "\n",
    "Varians: Dengan menggunakan lebih banyak data pengujian dalam K-Fold Cross-Validation, model memiliki kesempatan untuk menggeneralis lebih baik, mengurangi risiko overfitting, dan menghasilkan varians yang lebih rendah."
   ]
  },
  {
   "cell_type": "code",
   "execution_count": null,
   "id": "286e53f7-beed-4c87-84a0-8555113f963b",
   "metadata": {},
   "outputs": [],
   "source": []
  },
  {
   "cell_type": "code",
   "execution_count": null,
   "id": "4a6a7266-736b-4fd5-8975-415a84c4fd7d",
   "metadata": {},
   "outputs": [],
   "source": []
  }
 ],
 "metadata": {
  "kernelspec": {
   "display_name": "Python 3 (ipykernel)",
   "language": "python",
   "name": "python3"
  },
  "language_info": {
   "codemirror_mode": {
    "name": "ipython",
    "version": 3
   },
   "file_extension": ".py",
   "mimetype": "text/x-python",
   "name": "python",
   "nbconvert_exporter": "python",
   "pygments_lexer": "ipython3",
   "version": "3.10.9"
  }
 },
 "nbformat": 4,
 "nbformat_minor": 5
}
