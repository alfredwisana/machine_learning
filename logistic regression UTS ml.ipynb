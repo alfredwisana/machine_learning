{
 "cells": [
  {
   "cell_type": "code",
   "execution_count": 319,
   "id": "c4c89dd5-5a07-4120-88bb-98690e61e318",
   "metadata": {},
   "outputs": [],
   "source": [
    "import pandas as pd\n",
    "from sklearn.linear_model import LogisticRegression\n",
    "from sklearn.model_selection import train_test_split, cross_val_score, cross_val_predict, KFold\n",
    "from sklearn.metrics import confusion_matrix, roc_auc_score, mean_squared_error, accuracy_score\n",
    "from sklearn.preprocessing import StandardScaler, MinMaxScaler\n",
    "import statsmodels.api as sm\n",
    "import seaborn as sns\n",
    "import matplotlib.pyplot as plt\n",
    "from scipy import stats"
   ]
  },
  {
   "cell_type": "markdown",
   "id": "3810a1e0",
   "metadata": {},
   "source": [
    "No 1: Introduction to Dataset"
   ]
  },
  {
   "cell_type": "code",
   "execution_count": 320,
   "id": "b51e6c4c-98e4-453f-bdcb-8bbb12f5d6a7",
   "metadata": {},
   "outputs": [],
   "source": [
    "url = 'https://github.com/alfredwisana/machine_learning/raw/main/spam.csv'\n",
    "df = pd.read_csv(url)"
   ]
  },
  {
   "cell_type": "markdown",
   "id": "8714aadd",
   "metadata": {},
   "source": [
    "No 2: Data Preprocessing"
   ]
  },
  {
   "cell_type": "code",
   "execution_count": 321,
   "id": "2db973c6-85ee-4c93-a026-ccd0f5baa726",
   "metadata": {},
   "outputs": [
    {
     "name": "stdout",
     "output_type": "stream",
     "text": [
      "crl.tot    0\n",
      "dollar     0\n",
      "bang       0\n",
      "money      0\n",
      "n000       0\n",
      "make       0\n",
      "yesno      0\n",
      "dtype: int64\n"
     ]
    },
    {
     "data": {
      "text/html": [
       "<div>\n",
       "<style scoped>\n",
       "    .dataframe tbody tr th:only-of-type {\n",
       "        vertical-align: middle;\n",
       "    }\n",
       "\n",
       "    .dataframe tbody tr th {\n",
       "        vertical-align: top;\n",
       "    }\n",
       "\n",
       "    .dataframe thead th {\n",
       "        text-align: right;\n",
       "    }\n",
       "</style>\n",
       "<table border=\"1\" class=\"dataframe\">\n",
       "  <thead>\n",
       "    <tr style=\"text-align: right;\">\n",
       "      <th></th>\n",
       "      <th>crl.tot</th>\n",
       "      <th>dollar</th>\n",
       "      <th>bang</th>\n",
       "      <th>money</th>\n",
       "      <th>n000</th>\n",
       "      <th>make</th>\n",
       "      <th>yesno</th>\n",
       "    </tr>\n",
       "  </thead>\n",
       "  <tbody>\n",
       "    <tr>\n",
       "      <th>0</th>\n",
       "      <td>278</td>\n",
       "      <td>0.000</td>\n",
       "      <td>0.778</td>\n",
       "      <td>0.00</td>\n",
       "      <td>0.00</td>\n",
       "      <td>0.00</td>\n",
       "      <td>1</td>\n",
       "    </tr>\n",
       "    <tr>\n",
       "      <th>1</th>\n",
       "      <td>1028</td>\n",
       "      <td>0.180</td>\n",
       "      <td>0.372</td>\n",
       "      <td>0.43</td>\n",
       "      <td>0.43</td>\n",
       "      <td>0.21</td>\n",
       "      <td>1</td>\n",
       "    </tr>\n",
       "    <tr>\n",
       "      <th>2</th>\n",
       "      <td>2259</td>\n",
       "      <td>0.184</td>\n",
       "      <td>0.276</td>\n",
       "      <td>0.06</td>\n",
       "      <td>1.16</td>\n",
       "      <td>0.06</td>\n",
       "      <td>1</td>\n",
       "    </tr>\n",
       "    <tr>\n",
       "      <th>3</th>\n",
       "      <td>191</td>\n",
       "      <td>0.000</td>\n",
       "      <td>0.137</td>\n",
       "      <td>0.00</td>\n",
       "      <td>0.00</td>\n",
       "      <td>0.00</td>\n",
       "      <td>1</td>\n",
       "    </tr>\n",
       "    <tr>\n",
       "      <th>4</th>\n",
       "      <td>191</td>\n",
       "      <td>0.000</td>\n",
       "      <td>0.135</td>\n",
       "      <td>0.00</td>\n",
       "      <td>0.00</td>\n",
       "      <td>0.00</td>\n",
       "      <td>1</td>\n",
       "    </tr>\n",
       "  </tbody>\n",
       "</table>\n",
       "</div>"
      ],
      "text/plain": [
       "   crl.tot  dollar   bang  money  n000  make  yesno\n",
       "0      278   0.000  0.778   0.00  0.00  0.00      1\n",
       "1     1028   0.180  0.372   0.43  0.43  0.21      1\n",
       "2     2259   0.184  0.276   0.06  1.16  0.06      1\n",
       "3      191   0.000  0.137   0.00  0.00  0.00      1\n",
       "4      191   0.000  0.135   0.00  0.00  0.00      1"
      ]
     },
     "execution_count": 321,
     "metadata": {},
     "output_type": "execute_result"
    }
   ],
   "source": [
    "# encoding preprocessing cleaning\n",
    "df['yesno'] = df['yesno'].replace('y',1)\n",
    "df['yesno'] = df['yesno'].replace('n',0)\n",
    "print(df.isnull().sum())\n",
    "df.head()"
   ]
  },
  {
   "cell_type": "code",
   "execution_count": 322,
   "id": "092cc286-a4d8-4311-af13-a1f030f3357d",
   "metadata": {
    "tags": []
   },
   "outputs": [
    {
     "data": {
      "text/html": [
       "<div>\n",
       "<style scoped>\n",
       "    .dataframe tbody tr th:only-of-type {\n",
       "        vertical-align: middle;\n",
       "    }\n",
       "\n",
       "    .dataframe tbody tr th {\n",
       "        vertical-align: top;\n",
       "    }\n",
       "\n",
       "    .dataframe thead th {\n",
       "        text-align: right;\n",
       "    }\n",
       "</style>\n",
       "<table border=\"1\" class=\"dataframe\">\n",
       "  <thead>\n",
       "    <tr style=\"text-align: right;\">\n",
       "      <th></th>\n",
       "      <th>crl.tot</th>\n",
       "      <th>dollar</th>\n",
       "      <th>bang</th>\n",
       "      <th>money</th>\n",
       "      <th>n000</th>\n",
       "      <th>make</th>\n",
       "      <th>yesno</th>\n",
       "    </tr>\n",
       "  </thead>\n",
       "  <tbody>\n",
       "    <tr>\n",
       "      <th>crl.tot</th>\n",
       "      <td>1.000000</td>\n",
       "      <td>0.201948</td>\n",
       "      <td>0.036321</td>\n",
       "      <td>0.080993</td>\n",
       "      <td>0.165977</td>\n",
       "      <td>0.089165</td>\n",
       "      <td>0.249164</td>\n",
       "    </tr>\n",
       "    <tr>\n",
       "      <th>dollar</th>\n",
       "      <td>0.201948</td>\n",
       "      <td>1.000000</td>\n",
       "      <td>0.142913</td>\n",
       "      <td>0.104691</td>\n",
       "      <td>0.310971</td>\n",
       "      <td>0.117419</td>\n",
       "      <td>0.323629</td>\n",
       "    </tr>\n",
       "    <tr>\n",
       "      <th>bang</th>\n",
       "      <td>0.036321</td>\n",
       "      <td>0.142913</td>\n",
       "      <td>1.000000</td>\n",
       "      <td>0.051076</td>\n",
       "      <td>0.070103</td>\n",
       "      <td>0.058292</td>\n",
       "      <td>0.241888</td>\n",
       "    </tr>\n",
       "    <tr>\n",
       "      <th>money</th>\n",
       "      <td>0.080993</td>\n",
       "      <td>0.104691</td>\n",
       "      <td>0.051076</td>\n",
       "      <td>1.000000</td>\n",
       "      <td>0.052587</td>\n",
       "      <td>0.188155</td>\n",
       "      <td>0.216111</td>\n",
       "    </tr>\n",
       "    <tr>\n",
       "      <th>n000</th>\n",
       "      <td>0.165977</td>\n",
       "      <td>0.310971</td>\n",
       "      <td>0.070103</td>\n",
       "      <td>0.052587</td>\n",
       "      <td>1.000000</td>\n",
       "      <td>0.134072</td>\n",
       "      <td>0.334787</td>\n",
       "    </tr>\n",
       "    <tr>\n",
       "      <th>make</th>\n",
       "      <td>0.089165</td>\n",
       "      <td>0.117419</td>\n",
       "      <td>0.058292</td>\n",
       "      <td>0.188155</td>\n",
       "      <td>0.134072</td>\n",
       "      <td>1.000000</td>\n",
       "      <td>0.126208</td>\n",
       "    </tr>\n",
       "    <tr>\n",
       "      <th>yesno</th>\n",
       "      <td>0.249164</td>\n",
       "      <td>0.323629</td>\n",
       "      <td>0.241888</td>\n",
       "      <td>0.216111</td>\n",
       "      <td>0.334787</td>\n",
       "      <td>0.126208</td>\n",
       "      <td>1.000000</td>\n",
       "    </tr>\n",
       "  </tbody>\n",
       "</table>\n",
       "</div>"
      ],
      "text/plain": [
       "          crl.tot    dollar      bang     money      n000      make     yesno\n",
       "crl.tot  1.000000  0.201948  0.036321  0.080993  0.165977  0.089165  0.249164\n",
       "dollar   0.201948  1.000000  0.142913  0.104691  0.310971  0.117419  0.323629\n",
       "bang     0.036321  0.142913  1.000000  0.051076  0.070103  0.058292  0.241888\n",
       "money    0.080993  0.104691  0.051076  1.000000  0.052587  0.188155  0.216111\n",
       "n000     0.165977  0.310971  0.070103  0.052587  1.000000  0.134072  0.334787\n",
       "make     0.089165  0.117419  0.058292  0.188155  0.134072  1.000000  0.126208\n",
       "yesno    0.249164  0.323629  0.241888  0.216111  0.334787  0.126208  1.000000"
      ]
     },
     "execution_count": 322,
     "metadata": {},
     "output_type": "execute_result"
    }
   ],
   "source": [
    "# correlation matrix\n",
    "df.corr()"
   ]
  },
  {
   "cell_type": "code",
   "execution_count": 323,
   "id": "9f964bc9-1d00-4f9a-918e-37bc666dad3f",
   "metadata": {
    "tags": []
   },
   "outputs": [
    {
     "data": {
      "text/html": [
       "<div>\n",
       "<style scoped>\n",
       "    .dataframe tbody tr th:only-of-type {\n",
       "        vertical-align: middle;\n",
       "    }\n",
       "\n",
       "    .dataframe tbody tr th {\n",
       "        vertical-align: top;\n",
       "    }\n",
       "\n",
       "    .dataframe thead th {\n",
       "        text-align: right;\n",
       "    }\n",
       "</style>\n",
       "<table border=\"1\" class=\"dataframe\">\n",
       "  <thead>\n",
       "    <tr style=\"text-align: right;\">\n",
       "      <th></th>\n",
       "      <th>crl.tot</th>\n",
       "      <th>dollar</th>\n",
       "      <th>bang</th>\n",
       "      <th>money</th>\n",
       "      <th>n000</th>\n",
       "      <th>make</th>\n",
       "      <th>yesno</th>\n",
       "    </tr>\n",
       "  </thead>\n",
       "  <tbody>\n",
       "    <tr>\n",
       "      <th>count</th>\n",
       "      <td>4601.000000</td>\n",
       "      <td>4601.000000</td>\n",
       "      <td>4601.000000</td>\n",
       "      <td>4601.000000</td>\n",
       "      <td>4601.000000</td>\n",
       "      <td>4601.000000</td>\n",
       "      <td>4601.000000</td>\n",
       "    </tr>\n",
       "    <tr>\n",
       "      <th>mean</th>\n",
       "      <td>283.289285</td>\n",
       "      <td>0.075811</td>\n",
       "      <td>0.269071</td>\n",
       "      <td>0.094269</td>\n",
       "      <td>0.101645</td>\n",
       "      <td>0.104553</td>\n",
       "      <td>0.394045</td>\n",
       "    </tr>\n",
       "    <tr>\n",
       "      <th>std</th>\n",
       "      <td>606.347851</td>\n",
       "      <td>0.245882</td>\n",
       "      <td>0.815672</td>\n",
       "      <td>0.442636</td>\n",
       "      <td>0.350286</td>\n",
       "      <td>0.305358</td>\n",
       "      <td>0.488698</td>\n",
       "    </tr>\n",
       "    <tr>\n",
       "      <th>min</th>\n",
       "      <td>1.000000</td>\n",
       "      <td>0.000000</td>\n",
       "      <td>0.000000</td>\n",
       "      <td>0.000000</td>\n",
       "      <td>0.000000</td>\n",
       "      <td>0.000000</td>\n",
       "      <td>0.000000</td>\n",
       "    </tr>\n",
       "    <tr>\n",
       "      <th>25%</th>\n",
       "      <td>35.000000</td>\n",
       "      <td>0.000000</td>\n",
       "      <td>0.000000</td>\n",
       "      <td>0.000000</td>\n",
       "      <td>0.000000</td>\n",
       "      <td>0.000000</td>\n",
       "      <td>0.000000</td>\n",
       "    </tr>\n",
       "    <tr>\n",
       "      <th>50%</th>\n",
       "      <td>95.000000</td>\n",
       "      <td>0.000000</td>\n",
       "      <td>0.000000</td>\n",
       "      <td>0.000000</td>\n",
       "      <td>0.000000</td>\n",
       "      <td>0.000000</td>\n",
       "      <td>0.000000</td>\n",
       "    </tr>\n",
       "    <tr>\n",
       "      <th>75%</th>\n",
       "      <td>266.000000</td>\n",
       "      <td>0.052000</td>\n",
       "      <td>0.315000</td>\n",
       "      <td>0.000000</td>\n",
       "      <td>0.000000</td>\n",
       "      <td>0.000000</td>\n",
       "      <td>1.000000</td>\n",
       "    </tr>\n",
       "    <tr>\n",
       "      <th>max</th>\n",
       "      <td>15841.000000</td>\n",
       "      <td>6.003000</td>\n",
       "      <td>32.478000</td>\n",
       "      <td>12.500000</td>\n",
       "      <td>5.450000</td>\n",
       "      <td>4.540000</td>\n",
       "      <td>1.000000</td>\n",
       "    </tr>\n",
       "  </tbody>\n",
       "</table>\n",
       "</div>"
      ],
      "text/plain": [
       "            crl.tot       dollar         bang        money         n000  \\\n",
       "count   4601.000000  4601.000000  4601.000000  4601.000000  4601.000000   \n",
       "mean     283.289285     0.075811     0.269071     0.094269     0.101645   \n",
       "std      606.347851     0.245882     0.815672     0.442636     0.350286   \n",
       "min        1.000000     0.000000     0.000000     0.000000     0.000000   \n",
       "25%       35.000000     0.000000     0.000000     0.000000     0.000000   \n",
       "50%       95.000000     0.000000     0.000000     0.000000     0.000000   \n",
       "75%      266.000000     0.052000     0.315000     0.000000     0.000000   \n",
       "max    15841.000000     6.003000    32.478000    12.500000     5.450000   \n",
       "\n",
       "              make        yesno  \n",
       "count  4601.000000  4601.000000  \n",
       "mean      0.104553     0.394045  \n",
       "std       0.305358     0.488698  \n",
       "min       0.000000     0.000000  \n",
       "25%       0.000000     0.000000  \n",
       "50%       0.000000     0.000000  \n",
       "75%       0.000000     1.000000  \n",
       "max       4.540000     1.000000  "
      ]
     },
     "execution_count": 323,
     "metadata": {},
     "output_type": "execute_result"
    }
   ],
   "source": [
    "df.describe()"
   ]
  },
  {
   "cell_type": "code",
   "execution_count": 324,
   "id": "f732d2d4-7e0a-4b63-a516-4ca03f33be3e",
   "metadata": {},
   "outputs": [],
   "source": [
    "df_copy = df.copy(deep=True)"
   ]
  },
  {
   "cell_type": "code",
   "execution_count": 325,
   "id": "8c9cd473-29f1-4668-8bd2-d6171767a3ae",
   "metadata": {
    "tags": []
   },
   "outputs": [
    {
     "data": {
      "text/html": [
       "<div>\n",
       "<style scoped>\n",
       "    .dataframe tbody tr th:only-of-type {\n",
       "        vertical-align: middle;\n",
       "    }\n",
       "\n",
       "    .dataframe tbody tr th {\n",
       "        vertical-align: top;\n",
       "    }\n",
       "\n",
       "    .dataframe thead th {\n",
       "        text-align: right;\n",
       "    }\n",
       "</style>\n",
       "<table border=\"1\" class=\"dataframe\">\n",
       "  <thead>\n",
       "    <tr style=\"text-align: right;\">\n",
       "      <th></th>\n",
       "      <th>crl.tot</th>\n",
       "      <th>dollar</th>\n",
       "      <th>bang</th>\n",
       "      <th>money</th>\n",
       "      <th>n000</th>\n",
       "      <th>make</th>\n",
       "      <th>yesno</th>\n",
       "    </tr>\n",
       "  </thead>\n",
       "  <tbody>\n",
       "    <tr>\n",
       "      <th>0</th>\n",
       "      <td>0.017487</td>\n",
       "      <td>0.000</td>\n",
       "      <td>0.778</td>\n",
       "      <td>0.00</td>\n",
       "      <td>0.00</td>\n",
       "      <td>0.00</td>\n",
       "      <td>1</td>\n",
       "    </tr>\n",
       "    <tr>\n",
       "      <th>1</th>\n",
       "      <td>0.064836</td>\n",
       "      <td>0.180</td>\n",
       "      <td>0.372</td>\n",
       "      <td>0.43</td>\n",
       "      <td>0.43</td>\n",
       "      <td>0.21</td>\n",
       "      <td>1</td>\n",
       "    </tr>\n",
       "    <tr>\n",
       "      <th>2</th>\n",
       "      <td>0.142551</td>\n",
       "      <td>0.184</td>\n",
       "      <td>0.276</td>\n",
       "      <td>0.06</td>\n",
       "      <td>1.16</td>\n",
       "      <td>0.06</td>\n",
       "      <td>1</td>\n",
       "    </tr>\n",
       "    <tr>\n",
       "      <th>3</th>\n",
       "      <td>0.011995</td>\n",
       "      <td>0.000</td>\n",
       "      <td>0.137</td>\n",
       "      <td>0.00</td>\n",
       "      <td>0.00</td>\n",
       "      <td>0.00</td>\n",
       "      <td>1</td>\n",
       "    </tr>\n",
       "    <tr>\n",
       "      <th>4</th>\n",
       "      <td>0.011995</td>\n",
       "      <td>0.000</td>\n",
       "      <td>0.135</td>\n",
       "      <td>0.00</td>\n",
       "      <td>0.00</td>\n",
       "      <td>0.00</td>\n",
       "      <td>1</td>\n",
       "    </tr>\n",
       "    <tr>\n",
       "      <th>...</th>\n",
       "      <td>...</td>\n",
       "      <td>...</td>\n",
       "      <td>...</td>\n",
       "      <td>...</td>\n",
       "      <td>...</td>\n",
       "      <td>...</td>\n",
       "      <td>...</td>\n",
       "    </tr>\n",
       "    <tr>\n",
       "      <th>4596</th>\n",
       "      <td>0.005492</td>\n",
       "      <td>0.000</td>\n",
       "      <td>0.000</td>\n",
       "      <td>0.00</td>\n",
       "      <td>0.00</td>\n",
       "      <td>0.31</td>\n",
       "      <td>0</td>\n",
       "    </tr>\n",
       "    <tr>\n",
       "      <th>4597</th>\n",
       "      <td>0.000821</td>\n",
       "      <td>0.000</td>\n",
       "      <td>0.353</td>\n",
       "      <td>0.00</td>\n",
       "      <td>0.00</td>\n",
       "      <td>0.00</td>\n",
       "      <td>0</td>\n",
       "    </tr>\n",
       "    <tr>\n",
       "      <th>4598</th>\n",
       "      <td>0.007386</td>\n",
       "      <td>0.000</td>\n",
       "      <td>0.000</td>\n",
       "      <td>0.00</td>\n",
       "      <td>0.00</td>\n",
       "      <td>0.30</td>\n",
       "      <td>0</td>\n",
       "    </tr>\n",
       "    <tr>\n",
       "      <th>4599</th>\n",
       "      <td>0.004861</td>\n",
       "      <td>0.000</td>\n",
       "      <td>0.000</td>\n",
       "      <td>0.00</td>\n",
       "      <td>0.00</td>\n",
       "      <td>0.96</td>\n",
       "      <td>0</td>\n",
       "    </tr>\n",
       "    <tr>\n",
       "      <th>4600</th>\n",
       "      <td>0.002462</td>\n",
       "      <td>0.000</td>\n",
       "      <td>0.125</td>\n",
       "      <td>0.00</td>\n",
       "      <td>0.00</td>\n",
       "      <td>0.00</td>\n",
       "      <td>0</td>\n",
       "    </tr>\n",
       "  </tbody>\n",
       "</table>\n",
       "<p>4601 rows × 7 columns</p>\n",
       "</div>"
      ],
      "text/plain": [
       "       crl.tot  dollar   bang  money  n000  make  yesno\n",
       "0     0.017487   0.000  0.778   0.00  0.00  0.00      1\n",
       "1     0.064836   0.180  0.372   0.43  0.43  0.21      1\n",
       "2     0.142551   0.184  0.276   0.06  1.16  0.06      1\n",
       "3     0.011995   0.000  0.137   0.00  0.00  0.00      1\n",
       "4     0.011995   0.000  0.135   0.00  0.00  0.00      1\n",
       "...        ...     ...    ...    ...   ...   ...    ...\n",
       "4596  0.005492   0.000  0.000   0.00  0.00  0.31      0\n",
       "4597  0.000821   0.000  0.353   0.00  0.00  0.00      0\n",
       "4598  0.007386   0.000  0.000   0.00  0.00  0.30      0\n",
       "4599  0.004861   0.000  0.000   0.00  0.00  0.96      0\n",
       "4600  0.002462   0.000  0.125   0.00  0.00  0.00      0\n",
       "\n",
       "[4601 rows x 7 columns]"
      ]
     },
     "execution_count": 325,
     "metadata": {},
     "output_type": "execute_result"
    }
   ],
   "source": [
    "scaler = MinMaxScaler()\n",
    "df_copy['crl.tot'] = scaler.fit_transform(df_copy[['crl.tot']])\n",
    "df_copy"
   ]
  },
  {
   "cell_type": "code",
   "execution_count": 326,
   "id": "ca6bb86a-2460-4f1e-b8c3-1cc41e7e1fca",
   "metadata": {},
   "outputs": [],
   "source": [
    "X = df_copy.drop('yesno', axis=1)\n",
    "y = df_copy.yesno\n",
    "#data dipisah menjadi training dan testing\n",
    "X_temp, X_test, y_temp, y_test = train_test_split(X,y,test_size=0.3,random_state=123)\n",
    "#data dipisah menjadi trainging dan validation\n",
    "X_train, X_val, y_train, y_val = train_test_split(X_temp,y_temp,test_size=0.3,random_state=123)"
   ]
  },
  {
   "cell_type": "markdown",
   "id": "6ef082be-427c-482a-a3a8-05431969f93e",
   "metadata": {},
   "source": [
    "MAKE IMPOSTOR"
   ]
  },
  {
   "cell_type": "markdown",
   "id": "b486a4b1",
   "metadata": {},
   "source": [
    "NO. 3: Machine Learning Algorithm Using Logistic Regression"
   ]
  },
  {
   "cell_type": "markdown",
   "id": "0a5c5c6b",
   "metadata": {},
   "source": [
    "P value Test dengan\n",
    "alpha = 5% (0.05)"
   ]
  },
  {
   "cell_type": "code",
   "execution_count": 327,
   "id": "c6f7d522-b51c-4d65-849e-842bf9f010f2",
   "metadata": {},
   "outputs": [
    {
     "name": "stdout",
     "output_type": "stream",
     "text": [
      "Optimization terminated successfully.\n",
      "         Current function value: 0.600864\n",
      "         Iterations 8\n"
     ]
    },
    {
     "data": {
      "text/html": [
       "<table class=\"simpletable\">\n",
       "<caption>Logit Regression Results</caption>\n",
       "<tr>\n",
       "  <th>Dep. Variable:</th>         <td>yesno</td>      <th>  No. Observations:  </th>  <td>  2254</td>  \n",
       "</tr>\n",
       "<tr>\n",
       "  <th>Model:</th>                 <td>Logit</td>      <th>  Df Residuals:      </th>  <td>  2248</td>  \n",
       "</tr>\n",
       "<tr>\n",
       "  <th>Method:</th>                 <td>MLE</td>       <th>  Df Model:          </th>  <td>     5</td>  \n",
       "</tr>\n",
       "<tr>\n",
       "  <th>Date:</th>            <td>Thu, 19 Oct 2023</td> <th>  Pseudo R-squ.:     </th>  <td>0.1004</td>  \n",
       "</tr>\n",
       "<tr>\n",
       "  <th>Time:</th>                <td>22:52:17</td>     <th>  Log-Likelihood:    </th> <td> -1354.3</td> \n",
       "</tr>\n",
       "<tr>\n",
       "  <th>converged:</th>             <td>True</td>       <th>  LL-Null:           </th> <td> -1505.5</td> \n",
       "</tr>\n",
       "<tr>\n",
       "  <th>Covariance Type:</th>     <td>nonrobust</td>    <th>  LLR p-value:       </th> <td>3.118e-63</td>\n",
       "</tr>\n",
       "</table>\n",
       "<table class=\"simpletable\">\n",
       "<tr>\n",
       "     <td></td>        <th>coef</th>     <th>std err</th>      <th>z</th>      <th>P>|z|</th>  <th>[0.025</th>    <th>0.975]</th>  \n",
       "</tr>\n",
       "<tr>\n",
       "  <th>crl.tot</th> <td>   -4.0250</td> <td>    1.718</td> <td>   -2.343</td> <td> 0.019</td> <td>   -7.392</td> <td>   -0.658</td>\n",
       "</tr>\n",
       "<tr>\n",
       "  <th>dollar</th>  <td>    4.2339</td> <td>    0.695</td> <td>    6.091</td> <td> 0.000</td> <td>    2.871</td> <td>    5.596</td>\n",
       "</tr>\n",
       "<tr>\n",
       "  <th>bang</th>    <td>    0.1137</td> <td>    0.071</td> <td>    1.593</td> <td> 0.111</td> <td>   -0.026</td> <td>    0.254</td>\n",
       "</tr>\n",
       "<tr>\n",
       "  <th>money</th>   <td>    1.6571</td> <td>    0.333</td> <td>    4.974</td> <td> 0.000</td> <td>    1.004</td> <td>    2.310</td>\n",
       "</tr>\n",
       "<tr>\n",
       "  <th>n000</th>    <td>    3.4547</td> <td>    0.568</td> <td>    6.079</td> <td> 0.000</td> <td>    2.341</td> <td>    4.569</td>\n",
       "</tr>\n",
       "<tr>\n",
       "  <th>make</th>    <td>   -0.9044</td> <td>    0.217</td> <td>   -4.167</td> <td> 0.000</td> <td>   -1.330</td> <td>   -0.479</td>\n",
       "</tr>\n",
       "</table>"
      ],
      "text/latex": [
       "\\begin{center}\n",
       "\\begin{tabular}{lclc}\n",
       "\\toprule\n",
       "\\textbf{Dep. Variable:}   &      yesno       & \\textbf{  No. Observations:  } &     2254    \\\\\n",
       "\\textbf{Model:}           &      Logit       & \\textbf{  Df Residuals:      } &     2248    \\\\\n",
       "\\textbf{Method:}          &       MLE        & \\textbf{  Df Model:          } &        5    \\\\\n",
       "\\textbf{Date:}            & Thu, 19 Oct 2023 & \\textbf{  Pseudo R-squ.:     } &   0.1004    \\\\\n",
       "\\textbf{Time:}            &     22:52:17     & \\textbf{  Log-Likelihood:    } &   -1354.3   \\\\\n",
       "\\textbf{converged:}       &       True       & \\textbf{  LL-Null:           } &   -1505.5   \\\\\n",
       "\\textbf{Covariance Type:} &    nonrobust     & \\textbf{  LLR p-value:       } & 3.118e-63   \\\\\n",
       "\\bottomrule\n",
       "\\end{tabular}\n",
       "\\begin{tabular}{lcccccc}\n",
       "                 & \\textbf{coef} & \\textbf{std err} & \\textbf{z} & \\textbf{P$> |$z$|$} & \\textbf{[0.025} & \\textbf{0.975]}  \\\\\n",
       "\\midrule\n",
       "\\textbf{crl.tot} &      -4.0250  &        1.718     &    -2.343  &         0.019        &       -7.392    &       -0.658     \\\\\n",
       "\\textbf{dollar}  &       4.2339  &        0.695     &     6.091  &         0.000        &        2.871    &        5.596     \\\\\n",
       "\\textbf{bang}    &       0.1137  &        0.071     &     1.593  &         0.111        &       -0.026    &        0.254     \\\\\n",
       "\\textbf{money}   &       1.6571  &        0.333     &     4.974  &         0.000        &        1.004    &        2.310     \\\\\n",
       "\\textbf{n000}    &       3.4547  &        0.568     &     6.079  &         0.000        &        2.341    &        4.569     \\\\\n",
       "\\textbf{make}    &      -0.9044  &        0.217     &    -4.167  &         0.000        &       -1.330    &       -0.479     \\\\\n",
       "\\bottomrule\n",
       "\\end{tabular}\n",
       "%\\caption{Logit Regression Results}\n",
       "\\end{center}"
      ],
      "text/plain": [
       "<class 'statsmodels.iolib.summary.Summary'>\n",
       "\"\"\"\n",
       "                           Logit Regression Results                           \n",
       "==============================================================================\n",
       "Dep. Variable:                  yesno   No. Observations:                 2254\n",
       "Model:                          Logit   Df Residuals:                     2248\n",
       "Method:                           MLE   Df Model:                            5\n",
       "Date:                Thu, 19 Oct 2023   Pseudo R-squ.:                  0.1004\n",
       "Time:                        22:52:17   Log-Likelihood:                -1354.3\n",
       "converged:                       True   LL-Null:                       -1505.5\n",
       "Covariance Type:            nonrobust   LLR p-value:                 3.118e-63\n",
       "==============================================================================\n",
       "                 coef    std err          z      P>|z|      [0.025      0.975]\n",
       "------------------------------------------------------------------------------\n",
       "crl.tot       -4.0250      1.718     -2.343      0.019      -7.392      -0.658\n",
       "dollar         4.2339      0.695      6.091      0.000       2.871       5.596\n",
       "bang           0.1137      0.071      1.593      0.111      -0.026       0.254\n",
       "money          1.6571      0.333      4.974      0.000       1.004       2.310\n",
       "n000           3.4547      0.568      6.079      0.000       2.341       4.569\n",
       "make          -0.9044      0.217     -4.167      0.000      -1.330      -0.479\n",
       "==============================================================================\n",
       "\"\"\""
      ]
     },
     "execution_count": 327,
     "metadata": {},
     "output_type": "execute_result"
    }
   ],
   "source": [
    "#mencari p value\n",
    "model_sm = sm.Logit(y_train,X_train)\n",
    "result = model_sm.fit()\n",
    "result.summary()"
   ]
  },
  {
   "cell_type": "markdown",
   "id": "480710c9",
   "metadata": {},
   "source": [
    "HO: Predictor tidak memiliki relasi yang signifikan terhadap response\n",
    "<br>\n",
    "H1: Predictor memiliki relasi yang signifikan terhadap response"
   ]
  },
  {
   "cell_type": "markdown",
   "id": "c2d3f324",
   "metadata": {},
   "source": [
    "H0 tidak ada relasi kuat antara predictor dan response\n",
    "<br>\n",
    "H0 ditolak karena p value <=0.05\n",
    "<br>\n",
    "untuk bang kita terima H0"
   ]
  },
  {
   "cell_type": "markdown",
   "id": "5c12733b",
   "metadata": {},
   "source": [
    "semua attribute penting karena memiliki nilai significant yang kuat"
   ]
  },
  {
   "cell_type": "code",
   "execution_count": 328,
   "id": "fba197d4-7e89-46d4-950c-d54908df5ba7",
   "metadata": {},
   "outputs": [
    {
     "name": "stdout",
     "output_type": "stream",
     "text": [
      "accuracy score = 0.83\n"
     ]
    }
   ],
   "source": [
    "#Akurasi test data\n",
    "logistic_regression = LogisticRegression(solver='lbfgs',max_iter=200, random_state=1234)\n",
    "logistic_regression.fit(X_train,y_train)\n",
    "\n",
    "y_test_pred = logistic_regression.predict(X_test)\n",
    "acc_score=accuracy_score(y_test,y_test_pred)\n",
    "print('accuracy score = %0.2f'%acc_score)"
   ]
  },
  {
   "cell_type": "markdown",
   "id": "a1f89917",
   "metadata": {},
   "source": [
    "Logistic Regression Graphic"
   ]
  },
  {
   "cell_type": "code",
   "execution_count": 329,
   "id": "0005a6e8",
   "metadata": {},
   "outputs": [
    {
     "data": {
      "image/png": "[encoded data removed]",
      "text/plain": [
       "<Figure size 1200x600 with 6 Axes>"
      ]
     },
     "metadata": {},
     "output_type": "display_data"
    }
   ],
   "source": [
    "plt.figure(figsize=(12,6))\n",
    "plt.subplot(2,3,1)\n",
    "sns.regplot(x=df['crl.tot'], y=df['yesno'], logistic=True, ci=None)\n",
    "plt.subplot(2,3,2)\n",
    "sns.regplot(x=df['dollar'], y=df['yesno'], logistic=True, ci=None)\n",
    "plt.subplot(2,3,3)\n",
    "sns.regplot(x=df['bang'], y=df['yesno'], logistic=True, ci=None)\n",
    "plt.subplot(2,3,4)\n",
    "sns.regplot(x=df['make'], y=df['yesno'], logistic=True, ci=None)\n",
    "plt.subplot(2,3,5)\n",
    "sns.regplot(x=df['money'], y=df['yesno'], logistic=True, ci=None)\n",
    "plt.subplot(2,3,6)\n",
    "sns.regplot(x=df['n000'], y=df['yesno'], logistic=True, ci=None)\n",
    "\n",
    "plt.tight_layout()\n",
    "plt.show()"
   ]
  },
  {
   "cell_type": "markdown",
   "id": "f5932a79",
   "metadata": {},
   "source": [
    "CONFOUNDING"
   ]
  },
  {
   "cell_type": "code",
   "execution_count": 330,
   "id": "4f35671c",
   "metadata": {},
   "outputs": [
    {
     "name": "stdout",
     "output_type": "stream",
     "text": [
      "Optimization terminated successfully.\n",
      "         Current function value: 0.679079\n",
      "         Iterations 6\n"
     ]
    },
    {
     "data": {
      "text/html": [
       "<table class=\"simpletable\">\n",
       "<caption>Logit Regression Results</caption>\n",
       "<tr>\n",
       "  <th>Dep. Variable:</th>         <td>yesno</td>      <th>  No. Observations:  </th>  <td>  2254</td> \n",
       "</tr>\n",
       "<tr>\n",
       "  <th>Model:</th>                 <td>Logit</td>      <th>  Df Residuals:      </th>  <td>  2252</td> \n",
       "</tr>\n",
       "<tr>\n",
       "  <th>Method:</th>                 <td>MLE</td>       <th>  Df Model:          </th>  <td>     1</td> \n",
       "</tr>\n",
       "<tr>\n",
       "  <th>Date:</th>            <td>Thu, 19 Oct 2023</td> <th>  Pseudo R-squ.:     </th> <td>-0.01668</td>\n",
       "</tr>\n",
       "<tr>\n",
       "  <th>Time:</th>                <td>22:52:17</td>     <th>  Log-Likelihood:    </th> <td> -1530.6</td>\n",
       "</tr>\n",
       "<tr>\n",
       "  <th>converged:</th>             <td>True</td>       <th>  LL-Null:           </th> <td> -1505.5</td>\n",
       "</tr>\n",
       "<tr>\n",
       "  <th>Covariance Type:</th>     <td>nonrobust</td>    <th>  LLR p-value:       </th>  <td> 1.000</td> \n",
       "</tr>\n",
       "</table>\n",
       "<table class=\"simpletable\">\n",
       "<tr>\n",
       "    <td></td>      <th>coef</th>     <th>std err</th>      <th>z</th>      <th>P>|z|</th>  <th>[0.025</th>    <th>0.975]</th>  \n",
       "</tr>\n",
       "<tr>\n",
       "  <th>bang</th> <td>    0.6601</td> <td>    0.107</td> <td>    6.166</td> <td> 0.000</td> <td>    0.450</td> <td>    0.870</td>\n",
       "</tr>\n",
       "<tr>\n",
       "  <th>make</th> <td>    0.1264</td> <td>    0.156</td> <td>    0.812</td> <td> 0.417</td> <td>   -0.179</td> <td>    0.432</td>\n",
       "</tr>\n",
       "</table>"
      ],
      "text/latex": [
       "\\begin{center}\n",
       "\\begin{tabular}{lclc}\n",
       "\\toprule\n",
       "\\textbf{Dep. Variable:}   &      yesno       & \\textbf{  No. Observations:  } &     2254    \\\\\n",
       "\\textbf{Model:}           &      Logit       & \\textbf{  Df Residuals:      } &     2252    \\\\\n",
       "\\textbf{Method:}          &       MLE        & \\textbf{  Df Model:          } &        1    \\\\\n",
       "\\textbf{Date:}            & Thu, 19 Oct 2023 & \\textbf{  Pseudo R-squ.:     } &  -0.01668   \\\\\n",
       "\\textbf{Time:}            &     22:52:17     & \\textbf{  Log-Likelihood:    } &   -1530.6   \\\\\n",
       "\\textbf{converged:}       &       True       & \\textbf{  LL-Null:           } &   -1505.5   \\\\\n",
       "\\textbf{Covariance Type:} &    nonrobust     & \\textbf{  LLR p-value:       } &    1.000    \\\\\n",
       "\\bottomrule\n",
       "\\end{tabular}\n",
       "\\begin{tabular}{lcccccc}\n",
       "              & \\textbf{coef} & \\textbf{std err} & \\textbf{z} & \\textbf{P$> |$z$|$} & \\textbf{[0.025} & \\textbf{0.975]}  \\\\\n",
       "\\midrule\n",
       "\\textbf{bang} &       0.6601  &        0.107     &     6.166  &         0.000        &        0.450    &        0.870     \\\\\n",
       "\\textbf{make} &       0.1264  &        0.156     &     0.812  &         0.417        &       -0.179    &        0.432     \\\\\n",
       "\\bottomrule\n",
       "\\end{tabular}\n",
       "%\\caption{Logit Regression Results}\n",
       "\\end{center}"
      ],
      "text/plain": [
       "<class 'statsmodels.iolib.summary.Summary'>\n",
       "\"\"\"\n",
       "                           Logit Regression Results                           \n",
       "==============================================================================\n",
       "Dep. Variable:                  yesno   No. Observations:                 2254\n",
       "Model:                          Logit   Df Residuals:                     2252\n",
       "Method:                           MLE   Df Model:                            1\n",
       "Date:                Thu, 19 Oct 2023   Pseudo R-squ.:                -0.01668\n",
       "Time:                        22:52:17   Log-Likelihood:                -1530.6\n",
       "converged:                       True   LL-Null:                       -1505.5\n",
       "Covariance Type:            nonrobust   LLR p-value:                     1.000\n",
       "==============================================================================\n",
       "                 coef    std err          z      P>|z|      [0.025      0.975]\n",
       "------------------------------------------------------------------------------\n",
       "bang           0.6601      0.107      6.166      0.000       0.450       0.870\n",
       "make           0.1264      0.156      0.812      0.417      -0.179       0.432\n",
       "==============================================================================\n",
       "\"\"\""
      ]
     },
     "execution_count": 330,
     "metadata": {},
     "output_type": "execute_result"
    }
   ],
   "source": [
    "X_crltot_bang = X_train[['bang','make']]\n",
    "model_confounding = sm.Logit(y_train,X_crltot_bang)\n",
    "res = model_confounding.fit()\n",
    "res.summary()"
   ]
  },
  {
   "cell_type": "markdown",
   "id": "a041ac9c",
   "metadata": {},
   "source": [
    "CONFUSION MATRIX"
   ]
  },
  {
   "cell_type": "code",
   "execution_count": 331,
   "id": "64858b05-6b4c-4435-bdd1-b2a302fa47ec",
   "metadata": {},
   "outputs": [
    {
     "data": {
      "image/png": "[encoded data removed]",
      "text/plain": [
       "<Figure size 300x200 with 2 Axes>"
      ]
     },
     "metadata": {},
     "output_type": "display_data"
    }
   ],
   "source": [
    "cf = confusion_matrix(y_test, y_test_pred, normalize='true')\n",
    "plt.figure(figsize=(3,2))\n",
    "sns.heatmap(cf, annot=True)\n",
    "plt.xlabel('Prediction')\n",
    "plt.ylabel('Target')\n",
    "plt.title('{} Confusion Matrix'.format('validation'));"
   ]
  },
  {
   "cell_type": "markdown",
   "id": "5a1749bf",
   "metadata": {},
   "source": [
    "ROC AUC SCORE"
   ]
  },
  {
   "cell_type": "code",
   "execution_count": 332,
   "id": "e3f807a1",
   "metadata": {},
   "outputs": [],
   "source": [
    "y_val_pred = logistic_regression.predict(X_val)\n",
    "y_train_pred = logistic_regression.predict(X_train)"
   ]
  },
  {
   "cell_type": "code",
   "execution_count": 333,
   "id": "96caa52c-984f-499b-b3db-c44d2b2820bd",
   "metadata": {},
   "outputs": [
    {
     "name": "stdout",
     "output_type": "stream",
     "text": [
      "roc_auc_score = 0.78\n"
     ]
    }
   ],
   "source": [
    "roc_val = roc_auc_score(y_val,y_val_pred)\n",
    "print('roc_auc_score = %0.2f'%roc_val)\n",
    "roc_val = round(roc_val,2)"
   ]
  },
  {
   "cell_type": "code",
   "execution_count": 334,
   "id": "c6d036fa",
   "metadata": {},
   "outputs": [
    {
     "name": "stdout",
     "output_type": "stream",
     "text": [
      "roc_auc_score = 0.78\n"
     ]
    }
   ],
   "source": [
    "# Training Data\n",
    "roc_train = roc_auc_score(y_train,y_train_pred)\n",
    "print('roc_auc_score = %0.2f'%roc_train)\n",
    "roc_train = round(roc_train,2)"
   ]
  },
  {
   "cell_type": "code",
   "execution_count": 335,
   "id": "e021503a",
   "metadata": {},
   "outputs": [
    {
     "name": "stdout",
     "output_type": "stream",
     "text": [
      "The Model is neither overfit nor underfit\n"
     ]
    }
   ],
   "source": [
    "if roc_val < roc_train:\n",
    "    print(\"The Model is overfit\")\n",
    "elif roc_val > roc_train:\n",
    "    print(\"The Model may be underfit\")\n",
    "else:\n",
    "    print(\"The Model is neither overfit nor underfit\")"
   ]
  },
  {
   "cell_type": "markdown",
   "id": "4f1936cb",
   "metadata": {},
   "source": [
    "NO 4. Resampling Method"
   ]
  },
  {
   "cell_type": "markdown",
   "id": "661292f0",
   "metadata": {},
   "source": [
    "VALIDATION SET"
   ]
  },
  {
   "cell_type": "code",
   "execution_count": 336,
   "id": "a6a33a96",
   "metadata": {},
   "outputs": [
    {
     "name": "stdout",
     "output_type": "stream",
     "text": [
      "MSE: 0.18\n"
     ]
    }
   ],
   "source": [
    "mse = mean_squared_error(y_val,y_val_pred)\n",
    "print(\"MSE: %0.2f\"%mse)"
   ]
  },
  {
   "cell_type": "code",
   "execution_count": 337,
   "id": "d8853080",
   "metadata": {},
   "outputs": [
    {
     "name": "stdout",
     "output_type": "stream",
     "text": [
      "accuracy score = 0.83\n"
     ]
    }
   ],
   "source": [
    "#Validation Data\n",
    "y_val_pred = logistic_regression.predict(X_val)\n",
    "acc_score_val=accuracy_score(y_val,y_val_pred)\n",
    "print('accuracy score = %0.2f'%acc_score)"
   ]
  },
  {
   "cell_type": "code",
   "execution_count": 338,
   "id": "63e6a226",
   "metadata": {},
   "outputs": [
    {
     "name": "stdout",
     "output_type": "stream",
     "text": [
      "accuracy score = 0.83\n"
     ]
    }
   ],
   "source": [
    "#Train Data\n",
    "y_train_pred = logistic_regression.predict(X_train)\n",
    "acc_score_train=accuracy_score(y_train,y_train_pred)\n",
    "print('accuracy score = %0.2f'%acc_score)"
   ]
  },
  {
   "cell_type": "code",
   "execution_count": 339,
   "id": "61431a16-0391-4ccc-8072-82a29ce3cbb6",
   "metadata": {},
   "outputs": [
    {
     "name": "stdout",
     "output_type": "stream",
     "text": [
      "Score Mean: 0.81\n"
     ]
    }
   ],
   "source": [
    "# k-fold cross validation\n",
    "score = cross_val_score(logistic_regression,X_train,y_train,scoring=None,cv=10)\n",
    "score_mean=score.mean()\n",
    "print('Score Mean: %0.2f'%score_mean)"
   ]
  },
  {
   "cell_type": "markdown",
   "id": "c07ccda0",
   "metadata": {},
   "source": [
    "KFOLD VALIDATION"
   ]
  },
  {
   "cell_type": "code",
   "execution_count": 340,
   "id": "e6aae282-31aa-4536-961a-7d9c46308c96",
   "metadata": {},
   "outputs": [
    {
     "name": "stdout",
     "output_type": "stream",
     "text": [
      "==================================================\n",
      "Fold : 1\n",
      "==================================================\n",
      "mean squared error 0.18\n",
      "accuracy score 0.82\n",
      "==================================================\n",
      "==================================================\n",
      "Fold : 2\n",
      "==================================================\n",
      "mean squared error 0.24\n",
      "accuracy score 0.76\n",
      "==================================================\n",
      "==================================================\n",
      "Fold : 3\n",
      "==================================================\n",
      "mean squared error 0.26\n",
      "accuracy score 0.74\n",
      "==================================================\n",
      "==================================================\n",
      "Fold : 4\n",
      "==================================================\n",
      "mean squared error 0.18\n",
      "accuracy score 0.82\n",
      "==================================================\n",
      "==================================================\n",
      "Fold : 5\n",
      "==================================================\n",
      "mean squared error 0.23\n",
      "accuracy score 0.77\n",
      "==================================================\n",
      "==================================================\n",
      "Fold : 6\n",
      "==================================================\n",
      "mean squared error 0.25\n",
      "accuracy score 0.75\n",
      "==================================================\n",
      "==================================================\n",
      "Fold : 7\n",
      "==================================================\n",
      "mean squared error 0.10\n",
      "accuracy score 0.90\n",
      "==================================================\n",
      "==================================================\n",
      "Fold : 8\n",
      "==================================================\n",
      "mean squared error 0.12\n",
      "accuracy score 0.88\n",
      "==================================================\n",
      "==================================================\n",
      "Fold : 9\n",
      "==================================================\n",
      "mean squared error 0.11\n",
      "accuracy score 0.89\n",
      "==================================================\n",
      "==================================================\n",
      "Fold : 10\n",
      "==================================================\n",
      "mean squared error 0.11\n",
      "accuracy score 0.89\n",
      "==================================================\n",
      "Average MSE Across All Folds: 0.1795031055900621\n",
      "score: 0.8881987577639752\n"
     ]
    }
   ],
   "source": [
    "#evaluasi menggunakan kfold cross validation\n",
    "kf = KFold(n_splits=10)\n",
    "mse_scores = []\n",
    "fold = 1\n",
    "for train_index, val_index in kf.split(X_temp):\n",
    "    X_train, X_val = X.iloc[train_index], X.iloc[val_index]\n",
    "    y_train, y_val = y.iloc[train_index], y.iloc[val_index]\n",
    "    logistic_regression.fit(X_train,y_train)\n",
    "    y_pred = logistic_regression.predict(X_val)\n",
    "    mse = mean_squared_error(y_val,y_pred)\n",
    "    acc_score = accuracy_score(y_val,y_pred)\n",
    "    mse_scores.append(mse)\n",
    "    print(\"=\"*50)\n",
    "    print(f\"Fold : {fold}\")\n",
    "    print(\"=\"*50)\n",
    "    print(\"mean squared error %0.2f\"%mse)\n",
    "    print(\"accuracy score %0.2f\"%acc_score)\n",
    "    print(\"=\"*50)\n",
    "    fold+=1\n",
    "    \n",
    "avg_mse = sum(mse_scores)/len(mse_scores)\n",
    "print(\"Average MSE Across All Folds:\", avg_mse)\n",
    "print(\"score:\", accuracy_score(y_val,y_pred))"
   ]
  },
  {
   "cell_type": "code",
   "execution_count": 341,
   "id": "cb45e313-3aab-467d-a464-5df9069f97e3",
   "metadata": {},
   "outputs": [
    {
     "name": "stdout",
     "output_type": "stream",
     "text": [
      "Accuracy: 0.85\n"
     ]
    }
   ],
   "source": [
    "#testing data\n",
    "y_test_pred = logistic_regression.predict(X_test)\n",
    "acc=accuracy_score(y_test,y_test_pred)\n",
    "print(\"Accuracy: %0.2f\"%acc)"
   ]
  },
  {
   "cell_type": "markdown",
   "id": "5cfe556f",
   "metadata": {},
   "source": [
    "BIAS VARIANCE TRADE OFF"
   ]
  },
  {
   "cell_type": "markdown",
   "id": "9d29ab8e-e8a3-4018-aa2b-257481a0f184",
   "metadata": {},
   "source": [
    "1. Validation Set (Validasi Set):\n",
    "\n",
    "Bias: Validation set dapat menghasilkan perkiraan bias yang lebih tinggi daripada K-Fold Cross-Validation. Ini karena Anda hanya mengukur kinerja model pada satu subset data validasi.\n",
    "\n",
    "Varians: Pengukuran bias yang tinggi pada satu set data validasi bisa mengakibatkan model menjadi overfit pada data tersebut, menghasilkan varians yang tinggi.\n",
    "\n",
    "2. K-Fold Cross-Validation:\n",
    "\n",
    "Bias: K-Fold Cross-Validation cenderung memberikan perkiraan bias yang lebih baik karena Anda mengukur kinerja model pada berbagai subset data pengujian yang berbeda.\n",
    "\n",
    "Varians: Dengan menggunakan lebih banyak data pengujian dalam K-Fold Cross-Validation, model memiliki kesempatan untuk menggeneralis lebih baik, mengurangi risiko overfitting, dan menghasilkan varians yang lebih rendah."
   ]
  },
  {
   "cell_type": "markdown",
   "id": "ec775251",
   "metadata": {},
   "source": [
    "NO. 5: Pemilihan Model dan metode memperbaiki model"
   ]
  },
  {
   "cell_type": "code",
   "execution_count": 342,
   "id": "4a6a7266-736b-4fd5-8975-415a84c4fd7d",
   "metadata": {},
   "outputs": [],
   "source": [
    "from sklearn.naive_bayes import GaussianNB"
   ]
  },
  {
   "cell_type": "code",
   "execution_count": 343,
   "id": "c8fdeb55",
   "metadata": {},
   "outputs": [],
   "source": [
    "X_temp, X_test, y_temp, y_test = train_test_split(X,y,test_size=0.3,random_state=123)\n",
    "#data dipisah menjadi trainging dan validation\n",
    "X_train, X_val, y_train, y_val = train_test_split(X_temp,y_temp,test_size=0.3,random_state=123)"
   ]
  },
  {
   "cell_type": "markdown",
   "id": "4a70c844",
   "metadata": {},
   "source": [
    "NAIVE BAYES MODEL"
   ]
  },
  {
   "cell_type": "code",
   "execution_count": 344,
   "id": "a7cc5c1d-426a-4ae5-9d42-8fa94d3c58d2",
   "metadata": {},
   "outputs": [],
   "source": [
    "gaussianNB = GaussianNB()"
   ]
  },
  {
   "cell_type": "code",
   "execution_count": 345,
   "id": "b4a33982-c601-4dcd-8a1c-29f0748f53f8",
   "metadata": {},
   "outputs": [],
   "source": [
    "gaussianNB.fit(X_train,y_train)\n",
    "gaussianNB_y_pred_val = gaussianNB.predict(X_val)"
   ]
  },
  {
   "cell_type": "code",
   "execution_count": 346,
   "id": "fc1aa86c-b72f-45bf-9125-35d44387582d",
   "metadata": {},
   "outputs": [
    {
     "name": "stdout",
     "output_type": "stream",
     "text": [
      "Gaussian Accuracy Score: 0.75\n"
     ]
    }
   ],
   "source": [
    "gaussianNB_acc_score = accuracy_score(y_val,gaussianNB_y_pred_val)\n",
    "print(\"Gaussian Accuracy Score: %0.2f\" %gaussianNB_acc_score)"
   ]
  },
  {
   "cell_type": "code",
   "execution_count": 347,
   "id": "ff89abd4-ff7b-4f06-9a11-6501a72cfefc",
   "metadata": {},
   "outputs": [],
   "source": [
    "gaussianNB_y_pred_test = gaussianNB.predict(X_test)"
   ]
  },
  {
   "cell_type": "code",
   "execution_count": 348,
   "id": "5eb3893d-ef28-46f0-9c16-e7e364ca0215",
   "metadata": {},
   "outputs": [
    {
     "name": "stdout",
     "output_type": "stream",
     "text": [
      "Gaussian Accuracy Score: 0.75\n"
     ]
    }
   ],
   "source": [
    "gaussianNB_acc_score_test = accuracy_score(y_test,gaussianNB_y_pred_test)\n",
    "print(\"Gaussian Accuracy Score: %0.2f\" %gaussianNB_acc_score_test)"
   ]
  },
  {
   "cell_type": "code",
   "execution_count": 349,
   "id": "70300f28",
   "metadata": {},
   "outputs": [
    {
     "data": {
      "image/png": "[encoded data removed]",
      "text/plain": [
       "<Figure size 300x200 with 2 Axes>"
      ]
     },
     "metadata": {},
     "output_type": "display_data"
    }
   ],
   "source": [
    "cf = confusion_matrix(y_val, gaussianNB_y_pred_val, normalize='true')\n",
    "plt.figure(figsize=(3,2))\n",
    "sns.heatmap(cf, annot=True)\n",
    "plt.xlabel('Prediction')\n",
    "plt.ylabel('Target')\n",
    "plt.title('{} Confusion Matrix'.format('validation'));"
   ]
  },
  {
   "cell_type": "markdown",
   "id": "8968f27d-043d-4781-9e55-36db68c5bbbe",
   "metadata": {},
   "source": [
    "Untuk model naive bayes untuk prediction lbh baik dibandingkan logistic regression\n",
    "<br>\n",
    "namun untuk score antara model dan test bisa jadi underfiting"
   ]
  },
  {
   "cell_type": "code",
   "execution_count": 350,
   "id": "ee6a71e1-9a25-4f7f-a8e3-71d0b32ade16",
   "metadata": {},
   "outputs": [],
   "source": [
    "from sklearn.discriminant_analysis import LinearDiscriminantAnalysis,QuadraticDiscriminantAnalysis"
   ]
  },
  {
   "cell_type": "markdown",
   "id": "3f6b693a",
   "metadata": {},
   "source": [
    "LDA METHOD"
   ]
  },
  {
   "cell_type": "code",
   "execution_count": 351,
   "id": "6b55b9f7-4c7d-4a78-a526-5f6d1c232ef7",
   "metadata": {},
   "outputs": [],
   "source": [
    "LDA = LinearDiscriminantAnalysis()"
   ]
  },
  {
   "cell_type": "code",
   "execution_count": 352,
   "id": "c0176e3f-d595-4783-99e5-e1e69fbe6480",
   "metadata": {},
   "outputs": [],
   "source": [
    "LDA.fit(X_train,y_train)\n",
    "LDA_y_pred_val = LDA.predict(X_val)"
   ]
  },
  {
   "cell_type": "code",
   "execution_count": 353,
   "id": "bd019351-75c1-49e9-b45b-5414f3264f1c",
   "metadata": {},
   "outputs": [
    {
     "name": "stdout",
     "output_type": "stream",
     "text": [
      "LDA Accuracy Score: 0.75\n"
     ]
    }
   ],
   "source": [
    "LDA_acc_score = accuracy_score(y_val,LDA_y_pred_val)\n",
    "print('LDA Accuracy Score: %0.2f'%LDA_acc_score)\n",
    "# LDA_acc_score"
   ]
  },
  {
   "cell_type": "code",
   "execution_count": 354,
   "id": "5d4212c3-f6cb-458d-87d1-dd60eed7d54c",
   "metadata": {},
   "outputs": [],
   "source": [
    "LDA_y_pred_test = LDA.predict(X_test)"
   ]
  },
  {
   "cell_type": "code",
   "execution_count": 355,
   "id": "af936b1f-2130-4551-92b3-80800eae26ff",
   "metadata": {},
   "outputs": [
    {
     "name": "stdout",
     "output_type": "stream",
     "text": [
      "LDA Accuracy Score: 0.76\n"
     ]
    }
   ],
   "source": [
    "LDA_acc_score_test = accuracy_score(y_test,LDA_y_pred_test)\n",
    "print(\"LDA Accuracy Score: %0.2f\" %LDA_acc_score_test)"
   ]
  },
  {
   "cell_type": "code",
   "execution_count": 356,
   "id": "5c3d531a-b01b-4ad9-8a52-cb8b3f5f67a2",
   "metadata": {},
   "outputs": [
    {
     "data": {
      "image/png": "[encoded data removed]",
      "text/plain": [
       "<Figure size 300x200 with 2 Axes>"
      ]
     },
     "metadata": {},
     "output_type": "display_data"
    }
   ],
   "source": [
    "cf = confusion_matrix(y_val, LDA_y_pred_val, normalize='true')\n",
    "plt.figure(figsize=(3,2))\n",
    "sns.heatmap(cf, annot=True)\n",
    "plt.xlabel('Prediction')\n",
    "plt.ylabel('Target')\n",
    "plt.title('{} Confusion Matrix'.format('validation'));"
   ]
  },
  {
   "cell_type": "markdown",
   "id": "8543c485-9c0e-4016-9693-e837328216fc",
   "metadata": {},
   "source": [
    "Untuk model LDA untuk prediction lbh jelek dibandingkan logistic regression\n",
    "<br>\n",
    "namun untuk score antara model dan tes overfit"
   ]
  },
  {
   "cell_type": "markdown",
   "id": "e81befa8",
   "metadata": {},
   "source": [
    "QDA METHOD"
   ]
  },
  {
   "cell_type": "code",
   "execution_count": 357,
   "id": "f74210da-6838-40d8-8c03-776e04c62fc4",
   "metadata": {},
   "outputs": [],
   "source": [
    "QDA = QuadraticDiscriminantAnalysis()"
   ]
  },
  {
   "cell_type": "code",
   "execution_count": 358,
   "id": "298ee890-82fb-4b2a-a334-17564dde1207",
   "metadata": {},
   "outputs": [],
   "source": [
    "QDA.fit(X_train,y_train)\n",
    "QDA_y_pred_val = QDA.predict(X_val)"
   ]
  },
  {
   "cell_type": "code",
   "execution_count": 359,
   "id": "f3464966-da05-4f4e-a82a-39418d4d5ec3",
   "metadata": {},
   "outputs": [
    {
     "name": "stdout",
     "output_type": "stream",
     "text": [
      "QDA Accuracy Score: 0.75\n"
     ]
    }
   ],
   "source": [
    "QDA_acc_score = accuracy_score(y_val,QDA_y_pred_val)\n",
    "print(\"QDA Accuracy Score: %0.2f\"%QDA_acc_score)"
   ]
  },
  {
   "cell_type": "code",
   "execution_count": 360,
   "id": "75908334-8f25-452b-8c5e-ede41e91085a",
   "metadata": {},
   "outputs": [],
   "source": [
    "QDA_y_pred_test = QDA.predict(X_test)"
   ]
  },
  {
   "cell_type": "code",
   "execution_count": 361,
   "id": "0b472335-bf1c-471d-b3bc-1dda7d8f70e0",
   "metadata": {},
   "outputs": [
    {
     "name": "stdout",
     "output_type": "stream",
     "text": [
      "QDA Accuracy Score: 0.75\n"
     ]
    }
   ],
   "source": [
    "QDA_acc_score_test = accuracy_score(y_test,QDA_y_pred_test)\n",
    "print(\"QDA Accuracy Score: %0.2f\" %gaussianNB_acc_score_test)"
   ]
  },
  {
   "cell_type": "code",
   "execution_count": 362,
   "id": "9afd70ba-ebe5-4995-8b73-ee19e20072ff",
   "metadata": {},
   "outputs": [
    {
     "data": {
      "image/png": "[encoded data removed]",
      "text/plain": [
       "<Figure size 300x200 with 2 Axes>"
      ]
     },
     "metadata": {},
     "output_type": "display_data"
    }
   ],
   "source": [
    "cf = confusion_matrix(y_val, QDA_y_pred_val, normalize='true')\n",
    "plt.figure(figsize=(3,2))\n",
    "sns.heatmap(cf, annot=True)\n",
    "plt.xlabel('Prediction')\n",
    "plt.ylabel('Target')\n",
    "plt.title('{} Confusion Matrix'.format('validation'));"
   ]
  }
 ],
 "metadata": {
  "kernelspec": {
   "display_name": "Python 3 (ipykernel)",
   "language": "python",
   "name": "python3"
  },
  "language_info": {
   "codemirror_mode": {
    "name": "ipython",
    "version": 3
   },
   "file_extension": ".py",
   "mimetype": "text/x-python",
   "name": "python",
   "nbconvert_exporter": "python",
   "pygments_lexer": "ipython3",
   "version": "3.10.9"
  }
 },
 "nbformat": 4,
 "nbformat_minor": 5
}
