{
 "cells": [
  {
   "cell_type": "code",
   "execution_count": 1,
   "id": "0b965f6d-221e-459c-a0e7-5323a2be5719",
   "metadata": {
    "tags": []
   },
   "outputs": [],
   "source": [
    "import tensorflow as tf\n",
    "from tensorflow import keras\n",
    "\n",
    "import pandas as pd\n",
    "import os\n",
    "\n",
    "import cv2\n",
    "import numpy as np\n",
    "import matplotlib.pylab as plt\n",
    "import pickle\n",
    "import random"
   ]
  },
  {
   "cell_type": "code",
   "execution_count": 2,
   "id": "d6cbfbc1-441b-462c-b140-c29294370a80",
   "metadata": {
    "tags": []
   },
   "outputs": [],
   "source": [
    "DIRECTORY_train_cats =r\"C:\\Users\\LENOVO\\Documents\\school\\SEM 5\\Machine Learning\\datasets\\dataset_dogs_vs_cats\\train\\cats\"\n",
    "DIRECTORY_train_dogs =r\"C:\\Users\\LENOVO\\Documents\\school\\SEM 5\\Machine Learning\\datasets\\dataset_dogs_vs_cats\\train\\dogs\"\n",
    "DIRECTORY_test_cats =r\"C:\\Users\\LENOVO\\Documents\\school\\SEM 5\\Machine Learning\\datasets\\dataset_dogs_vs_cats\\test\\cats\"\n",
    "DIRECTORY_test_dogs =r\"C:\\Users\\LENOVO\\Documents\\school\\SEM 5\\Machine Learning\\datasets\\dataset_dogs_vs_cats\\test\\dogs\""
   ]
  },
  {
   "cell_type": "code",
   "execution_count": 3,
   "id": "8312b039-7fdb-4e23-90f8-fc113987d285",
   "metadata": {
    "tags": []
   },
   "outputs": [],
   "source": [
    "img_size = 100\n",
    "train_data = []\n",
    "test_data = []"
   ]
  },
  {
   "cell_type": "code",
   "execution_count": 4,
   "id": "21be41ee-07f3-4811-9927-cc9ce68ae64c",
   "metadata": {
    "tags": []
   },
   "outputs": [
    {
     "name": "stdout",
     "output_type": "stream",
     "text": [
      "jumlah train cat =  9945\n"
     ]
    }
   ],
   "source": [
    "count = 0\n",
    "for img in os.listdir(DIRECTORY_train_cats):\n",
    "    img_path = os.path.join(DIRECTORY_train_cats, img)\n",
    "    img_arr = cv2.imread(img_path)\n",
    "    img_arr = cv2.resize(img_arr, (img_size, img_size))\n",
    "    train_data.append([img_arr, 0])\n",
    "    count+=1\n",
    "print('jumlah train cat = ',count)"
   ]
  },
  {
   "cell_type": "code",
   "execution_count": 5,
   "id": "67aa6e85-bb97-4108-8859-90fb8e3e1de0",
   "metadata": {
    "tags": []
   },
   "outputs": [
    {
     "name": "stdout",
     "output_type": "stream",
     "text": [
      "jumlah train dog =  9965\n"
     ]
    }
   ],
   "source": [
    "count = 0\n",
    "for img in os.listdir(DIRECTORY_train_dogs):\n",
    "    img_path = os.path.join(DIRECTORY_train_dogs, img)\n",
    "    img_arr = cv2.imread(img_path)\n",
    "    img_arr = cv2.resize(img_arr, (img_size, img_size))\n",
    "    train_data.append([img_arr, 1])\n",
    "    count+=1\n",
    "print('jumlah train dog = ',count)"
   ]
  },
  {
   "cell_type": "code",
   "execution_count": 6,
   "id": "df460984-9134-4987-a685-21cd0544d80f",
   "metadata": {
    "tags": []
   },
   "outputs": [
    {
     "name": "stdout",
     "output_type": "stream",
     "text": [
      "jumlah test cat =  2555\n"
     ]
    }
   ],
   "source": [
    "count = 0\n",
    "for img in os.listdir(DIRECTORY_test_cats):\n",
    "    img_path = os.path.join(DIRECTORY_test_cats, img)\n",
    "    img_arr = cv2.imread(img_path)\n",
    "    img_arr = cv2.resize(img_arr, (img_size, img_size))\n",
    "    test_data.append([img_arr, 0])\n",
    "    count+=1\n",
    "print('jumlah test cat = ',count)"
   ]
  },
  {
   "cell_type": "code",
   "execution_count": 7,
   "id": "94fe4806-c054-43d3-bacc-ad511e282700",
   "metadata": {
    "tags": []
   },
   "outputs": [
    {
     "name": "stdout",
     "output_type": "stream",
     "text": [
      "jumlah test dog =  2535\n"
     ]
    }
   ],
   "source": [
    "count = 0\n",
    "for img in os.listdir(DIRECTORY_test_dogs):\n",
    "    img_path = os.path.join(DIRECTORY_test_dogs, img)\n",
    "    img_arr = cv2.imread(img_path)\n",
    "    img_arr = cv2.resize(img_arr, (img_size, img_size))\n",
    "    test_data.append([img_arr, 1])\n",
    "    count+=1\n",
    "print('jumlah test dog = ',count)"
   ]
  },
  {
   "cell_type": "code",
   "execution_count": 8,
   "id": "585b8030-ce44-493e-aad2-6fbf5fb75c63",
   "metadata": {
    "tags": []
   },
   "outputs": [
    {
     "name": "stdout",
     "output_type": "stream",
     "text": [
      "19910\n",
      "5090\n"
     ]
    }
   ],
   "source": [
    "print(len(train_data))\n",
    "print(len(test_data))"
   ]
  },
  {
   "cell_type": "code",
   "execution_count": 9,
   "id": "a187f72a-13bc-4882-a80d-3184356cb81a",
   "metadata": {
    "tags": []
   },
   "outputs": [],
   "source": [
    "random.shuffle(train_data)\n",
    "random.shuffle(test_data)"
   ]
  },
  {
   "cell_type": "code",
   "execution_count": 10,
   "id": "cdd53a97-b116-45d4-8d57-56c502b62c98",
   "metadata": {
    "tags": []
   },
   "outputs": [],
   "source": [
    "X_train = []\n",
    "y_train = []\n",
    "X_test = []\n",
    "y_test = []\n",
    "\n",
    "for features, labels in train_data:\n",
    "    X_train.append(features)\n",
    "    y_train.append(labels)\n",
    "    \n",
    "for features, labels in test_data:\n",
    "    X_test.append(features)\n",
    "    y_test.append(labels)"
   ]
  },
  {
   "cell_type": "code",
   "execution_count": 11,
   "id": "7d1fbdbe-3072-444d-80fd-3a4adc887044",
   "metadata": {
    "tags": []
   },
   "outputs": [
    {
     "data": {
      "text/plain": [
       "19910"
      ]
     },
     "execution_count": 11,
     "metadata": {},
     "output_type": "execute_result"
    }
   ],
   "source": [
    "len(X_train)"
   ]
  },
  {
   "cell_type": "code",
   "execution_count": 12,
   "id": "69d529b4-2791-4862-b5d4-7516d4013a4b",
   "metadata": {
    "tags": []
   },
   "outputs": [
    {
     "data": {
      "text/plain": [
       "5090"
      ]
     },
     "execution_count": 12,
     "metadata": {},
     "output_type": "execute_result"
    }
   ],
   "source": [
    "len(X_test)"
   ]
  },
  {
   "cell_type": "code",
   "execution_count": 13,
   "id": "ef35bfcc-6da6-46a9-9fc4-adf8bc4dc7e5",
   "metadata": {
    "tags": []
   },
   "outputs": [],
   "source": [
    "X_train = np.array(X_train)\n",
    "y_train = np.array(y_train)\n",
    "X_test = np.array(X_test)\n",
    "y_test = np.array(y_test)"
   ]
  },
  {
   "cell_type": "code",
   "execution_count": 14,
   "id": "6fcfe319-e8c7-4027-bee0-27b43f47249e",
   "metadata": {
    "tags": []
   },
   "outputs": [],
   "source": [
    "pickle.dump(X_train, open('X_train.pkl','wb'))\n",
    "pickle.dump(y_train, open('y_train.pkl','wb'))\n",
    "pickle.dump(X_test, open('X_test.pkl','wb'))\n",
    "pickle.dump(y_test, open('y_test.pkl','wb'))"
   ]
  },
  {
   "cell_type": "code",
   "execution_count": null,
   "id": "89935072-0573-41e8-893d-e5ce8c5c66b8",
   "metadata": {},
   "outputs": [],
   "source": []
  }
 ],
 "metadata": {
  "kernelspec": {
   "display_name": "Python 3 (ipykernel)",
   "language": "python",
   "name": "python3"
  },
  "language_info": {
   "codemirror_mode": {
    "name": "ipython",
    "version": 3
   },
   "file_extension": ".py",
   "mimetype": "text/x-python",
   "name": "python",
   "nbconvert_exporter": "python",
   "pygments_lexer": "ipython3",
   "version": "3.10.12"
  }
 },
 "nbformat": 4,
 "nbformat_minor": 5
}
