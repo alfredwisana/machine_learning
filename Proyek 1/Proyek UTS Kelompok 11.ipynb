{
 "cells": [
  {
   "cell_type": "markdown",
   "id": "bbda37ea",
   "metadata": {},
   "source": [
    "Kelompok 11\n",
    "<br>\n",
    "C14210005 - Joshua Briantama Hanjaya\n",
    "<br>\n",
    "C14210177 - Alfred Wisana\n",
    "<br>\n",
    "C14210185 - Frederika Handoyo"
   ]
  },
  {
   "cell_type": "code",
   "execution_count": null,
   "id": "c4c89dd5-5a07-4120-88bb-98690e61e318",
   "metadata": {
    "tags": []
   },
   "outputs": [],
   "source": [
    "import pandas as pd\n",
    "from sklearn.linear_model import LogisticRegression\n",
    "from sklearn.model_selection import train_test_split, cross_val_score, cross_val_predict, KFold\n",
    "from sklearn.metrics import confusion_matrix, roc_auc_score, mean_squared_error, accuracy_score\n",
    "from sklearn.preprocessing import StandardScaler, MinMaxScaler\n",
    "import statsmodels.api as sm\n",
    "import seaborn as sns\n",
    "import matplotlib.pyplot as plt\n",
    "from scipy import stats"
   ]
  },
  {
   "cell_type": "markdown",
   "id": "3810a1e0",
   "metadata": {},
   "source": [
    "No 1: Introduction to Dataset"
   ]
  },
  {
   "cell_type": "code",
   "execution_count": null,
   "id": "b51e6c4c-98e4-453f-bdcb-8bbb12f5d6a7",
   "metadata": {},
   "outputs": [],
   "source": [
    "df = pd.read_csv(url)"
   ]
  },
  {
   "cell_type": "code",
   "execution_count": null,
   "id": "2db973c6-85ee-4c93-a026-ccd0f5baa726",
   "metadata": {},
   "outputs": [],
   "source": [
    "# encoding preprocessing cleaning\n",
    "df['yesno'] = df['yesno'].replace('y',1)\n",
    "df['yesno'] = df['yesno'].replace('n',0)\n",
    "print(df.isnull().sum())\n",
    "df.head()"
   ]
  },
  {
   "cell_type": "code",
   "execution_count": null,
   "id": "092cc286-a4d8-4311-af13-a1f030f3357d",
   "metadata": {
    "tags": []
   },
   "outputs": [],
   "source": [
    "# correlation matrix\n",
    "df.corr()"
   ]
  },
  {
   "cell_type": "code",
   "execution_count": null,
   "id": "9f964bc9-1d00-4f9a-918e-37bc666dad3f",
   "metadata": {
    "tags": []
   },
   "outputs": [],
   "source": [
    "df.describe()"
   ]
  },
  {
   "cell_type": "code",
   "execution_count": null,
   "id": "f732d2d4-7e0a-4b63-a516-4ca03f33be3e",
   "metadata": {},
   "outputs": [],
   "source": [
    "df_copy = df.copy(deep=True)"
   ]
  },
  {
   "cell_type": "code",
   "execution_count": null,
   "id": "8c9cd473-29f1-4668-8bd2-d6171767a3ae",
   "metadata": {
    "tags": []
   },
   "outputs": [],
   "source": [
    "scaler = MinMaxScaler()\n",
    "df_copy['crl.tot'] = scaler.fit_transform(df_copy[['crl.tot']])\n",
    "df_copy"
   ]
  },
  {
   "cell_type": "code",
   "execution_count": null,
   "id": "ca6bb86a-2460-4f1e-b8c3-1cc41e7e1fca",
   "metadata": {},
   "outputs": [],
   "source": [
    "X = df_copy.drop('yesno', axis=1)\n",
    "y = df_copy.yesno\n",
    "#data dipisah menjadi training dan testing\n",
    "X_temp, X_test, y_temp, y_test = train_test_split(X,y,test_size=0.3,random_state=123)\n",
    "#data dipisah menjadi trainging dan validation\n",
    "X_train, X_val, y_train, y_val = train_test_split(X_temp,y_temp,test_size=0.3,random_state=123)"
   ]
  },
  {
   "cell_type": "markdown",
   "id": "b486a4b1",
   "metadata": {},
   "source": [
    "NO. 3: Machine Learning Algorithm Using Logistic Regression"
   ]
  },
  {
   "cell_type": "code",
   "execution_count": null,
   "id": "c6f7d522-b51c-4d65-849e-842bf9f010f2",
   "metadata": {},
   "outputs": [],
   "source": [
    "#mencari p value\n",
    "model_sm = sm.Logit(y_train,X_train)\n",
    "result = model_sm.fit()\n",
    "result.summary()"
   ]
  },
  {
   "cell_type": "code",
   "execution_count": null,
   "id": "fba197d4-7e89-46d4-950c-d54908df5ba7",
   "metadata": {},
   "outputs": [],
   "source": [
    "#Akurasi test data\n",
    "logistic_regression = LogisticRegression(solver='lbfgs',max_iter=200, random_state=1234)\n",
    "logistic_regression.fit(X_train,y_train)\n",
    "\n",
    "y_test_pred = logistic_regression.predict(X_test)\n",
    "acc_score=accuracy_score(y_test,y_test_pred)\n",
    "print('accuracy score = %0.2f'%acc_score)"
   ]
  },
  {
   "cell_type": "code",
   "execution_count": null,
   "id": "85ce3924",
   "metadata": {},
   "outputs": [],
   "source": [
    "auc_score = roc_auc_score(y_test,y_test_pred)\n",
    "print('AUC Score: %0.2f'%auc_score)"
   ]
  },
  {
   "cell_type": "markdown",
   "id": "a1f89917",
   "metadata": {},
   "source": [
    "Logistic Regression Graphic"
   ]
  },
  {
   "cell_type": "code",
   "execution_count": null,
   "id": "0005a6e8",
   "metadata": {},
   "outputs": [],
   "source": [
    "plt.figure(figsize=(12,6))\n",
    "plt.subplot(2,3,1)\n",
    "sns.regplot(x=df['crl.tot'], y=df['yesno'], logistic=True, ci=None)\n",
    "plt.subplot(2,3,2)\n",
    "sns.regplot(x=df['dollar'], y=df['yesno'], logistic=True, ci=None)\n",
    "plt.subplot(2,3,3)\n",
    "sns.regplot(x=df['bang'], y=df['yesno'], logistic=True, ci=None)\n",
    "plt.subplot(2,3,4)\n",
    "sns.regplot(x=df['make'], y=df['yesno'], logistic=True, ci=None)\n",
    "plt.subplot(2,3,5)\n",
    "sns.regplot(x=df['money'], y=df['yesno'], logistic=True, ci=None)\n",
    "plt.subplot(2,3,6)\n",
    "sns.regplot(x=df['n000'], y=df['yesno'], logistic=True, ci=None)\n",
    "\n",
    "plt.tight_layout()\n",
    "plt.show()"
   ]
  },
  {
   "cell_type": "markdown",
   "id": "f5932a79",
   "metadata": {},
   "source": [
    "CONFOUNDING"
   ]
  },
  {
   "cell_type": "code",
   "execution_count": null,
   "id": "4f35671c",
   "metadata": {},
   "outputs": [],
   "source": [
    "X_crltot_bang = X_train[['bang','make']]\n",
    "model_confounding = sm.Logit(y_train,X_crltot_bang)\n",
    "res = model_confounding.fit()\n",
    "res.summary()"
   ]
  },
  {
   "cell_type": "code",
   "execution_count": null,
   "id": "be7de489-1d54-4549-9a7a-276585387821",
   "metadata": {},
   "outputs": [],
   "source": [
    "lr = LogisticRegression()\n",
    "lr.fit(X_train[['make']],y_train)\n",
    "y_cf_pred = lr.predict(X_val[['make']])\n",
    "roc_auc_score(y_val,y_cf_pred)"
   ]
  },
  {
   "cell_type": "code",
   "execution_count": null,
   "id": "1c998f59-4ecf-4ca8-b324-f5802aae6091",
   "metadata": {},
   "outputs": [],
   "source": [
    "lr = LogisticRegression()\n",
    "lr.fit(X_train[['bang']],y_train)\n",
    "y_cf_pred = lr.predict(X_val[['bang']])\n",
    "roc_auc_score(y_val,y_cf_pred)"
   ]
  },
  {
   "cell_type": "code",
   "execution_count": null,
   "id": "7f511ea0-3d6a-47f9-ab47-458ede300081",
   "metadata": {},
   "outputs": [],
   "source": [
    "lr = LogisticRegression()\n",
    "lr.fit(X_train[['bang','make']],y_train)\n",
    "y_cf_pred = lr.predict(X_val[['bang','make']])\n",
    "roc_auc_score(y_val,y_cf_pred)"
   ]
  },
  {
   "cell_type": "code",
   "execution_count": null,
   "id": "2e1d1ab5-8a7f-410e-8ab7-4b2646df33e6",
   "metadata": {},
   "outputs": [],
   "source": [
    "lr = LogisticRegression()\n",
    "lr.fit(X_train.drop('make',axis=1),y_train)\n",
    "y_cf_pred = lr.predict(X_val.drop('make',axis=1))\n",
    "roc_auc_score(y_val,y_cf_pred)"
   ]
  },
  {
   "cell_type": "code",
   "execution_count": null,
   "id": "204cabb4-df73-4265-ad39-3a693bf5c065",
   "metadata": {},
   "outputs": [],
   "source": [
    "lr = LogisticRegression()\n",
    "lr.fit(X_train.drop('crl.tot',axis=1),y_train)\n",
    "y_cf_pred = lr.predict(X_val.drop('crl.tot',axis=1))\n",
    "roc_auc_score(y_val,y_cf_pred)"
   ]
  },
  {
   "cell_type": "code",
   "execution_count": null,
   "id": "7803ec69-ce60-4382-beb6-3d718b2dbfd0",
   "metadata": {},
   "outputs": [],
   "source": [
    "lr = LogisticRegression()\n",
    "lr.fit(X_train.drop('bang',axis=1),y_train)\n",
    "y_cf_pred = lr.predict(X_val.drop('bang',axis=1))\n",
    "roc_auc_score(y_val,y_cf_pred)"
   ]
  },
  {
   "cell_type": "code",
   "execution_count": null,
   "id": "f3738704-d9ee-4d4d-87de-6ea102e3fb7f",
   "metadata": {},
   "outputs": [],
   "source": [
    "lr = LogisticRegression()\n",
    "lr.fit(X_train.drop('money',axis=1),y_train)\n",
    "y_cf_pred = lr.predict(X_val.drop('money',axis=1))\n",
    "roc_auc_score(y_val,y_cf_pred)"
   ]
  },
  {
   "cell_type": "code",
   "execution_count": null,
   "id": "309a314c-58a3-4e35-a27e-717809a5ae08",
   "metadata": {},
   "outputs": [],
   "source": [
    "lr = LogisticRegression()\n",
    "lr.fit(X_train.drop('n000',axis=1),y_train)\n",
    "y_cf_pred = lr.predict(X_val.drop('n000',axis=1))\n",
    "roc_auc_score(y_val,y_cf_pred)"
   ]
  },
  {
   "cell_type": "code",
   "execution_count": null,
   "id": "51cc5998-8e4f-4a09-9b1c-0f204b31e2e1",
   "metadata": {},
   "outputs": [],
   "source": [
    "lr = LogisticRegression()\n",
    "lr.fit(X_train.drop('dollar',axis=1),y_train)\n",
    "y_cf_pred = lr.predict(X_val.drop('dollar',axis=1))\n",
    "roc_auc_score(y_val,y_cf_pred)"
   ]
  },
  {
   "cell_type": "markdown",
   "id": "a041ac9c",
   "metadata": {},
   "source": [
    "CONFUSION MATRIX"
   ]
  },
  {
   "cell_type": "code",
   "execution_count": null,
   "id": "64858b05-6b4c-4435-bdd1-b2a302fa47ec",
   "metadata": {},
   "outputs": [],
   "source": [
    "cf = confusion_matrix(y_test, y_test_pred, normalize='true')\n",
    "plt.figure(figsize=(3,2))\n",
    "sns.heatmap(cf, annot=True)\n",
    "plt.xlabel('Prediction')\n",
    "plt.ylabel('Target')\n",
    "plt.title('{} Confusion Matrix'.format('validation'));"
   ]
  },
  {
   "cell_type": "markdown",
   "id": "5a1749bf",
   "metadata": {},
   "source": [
    "ROC AUC SCORE"
   ]
  },
  {
   "cell_type": "code",
   "execution_count": null,
   "id": "e3f807a1",
   "metadata": {},
   "outputs": [],
   "source": [
    "y_val_pred = logistic_regression.predict(X_val)\n",
    "y_train_pred = logistic_regression.predict(X_train)"
   ]
  },
  {
   "cell_type": "code",
   "execution_count": null,
   "id": "96caa52c-984f-499b-b3db-c44d2b2820bd",
   "metadata": {},
   "outputs": [],
   "source": [
    "roc_val = roc_auc_score(y_val,y_val_pred)\n",
    "print('roc_auc_score = %0.2f'%roc_val)\n",
    "roc_val = round(roc_val,2)"
   ]
  },
  {
   "cell_type": "code",
   "execution_count": null,
   "id": "c6d036fa",
   "metadata": {},
   "outputs": [],
   "source": [
    "# Training Data\n",
    "roc_train = roc_auc_score(y_train,y_train_pred)\n",
    "print('roc_auc_score = %0.2f'%roc_train)\n",
    "roc_train = round(roc_train,2)"
   ]
  },
  {
   "cell_type": "code",
   "execution_count": null,
   "id": "e021503a",
   "metadata": {},
   "outputs": [],
   "source": [
    "if roc_val < roc_train:\n",
    "    print(\"The Model is overfit\")\n",
    "elif roc_val > roc_train:\n",
    "    print(\"The Model may be underfit\")\n",
    "else:\n",
    "    print(\"The Model is neither overfit nor underfit\")"
   ]
  },
  {
   "cell_type": "markdown",
   "id": "4f1936cb",
   "metadata": {},
   "source": [
    "NO 4. Resampling Method"
   ]
  },
  {
   "cell_type": "markdown",
   "id": "661292f0",
   "metadata": {},
   "source": [
    "Resampling menggunakan validation set."
   ]
  },
  {
   "cell_type": "code",
   "execution_count": null,
   "id": "a6a33a96",
   "metadata": {},
   "outputs": [],
   "source": [
    "mse = mean_squared_error(y_val,y_val_pred)\n",
    "print(\"MSE: %0.2f\"%mse)"
   ]
  },
  {
   "cell_type": "code",
   "execution_count": null,
   "id": "d8853080",
   "metadata": {},
   "outputs": [],
   "source": [
    "#Validation Data\n",
    "y_val_pred = logistic_regression.predict(X_val)\n",
    "acc_score_val=accuracy_score(y_val,y_val_pred)\n",
    "print('accuracy score = %0.2f'%acc_score)"
   ]
  },
  {
   "cell_type": "code",
   "execution_count": null,
   "id": "63e6a226",
   "metadata": {},
   "outputs": [],
   "source": [
    "#Train Data\n",
    "y_train_pred = logistic_regression.predict(X_train)\n",
    "acc_score_train=accuracy_score(y_train,y_train_pred)\n",
    "print('accuracy score = %0.2f'%acc_score)"
   ]
  },
  {
   "cell_type": "code",
   "execution_count": null,
   "id": "61431a16-0391-4ccc-8072-82a29ce3cbb6",
   "metadata": {},
   "outputs": [],
   "source": [
    "# k-fold cross validation\n",
    "score = cross_val_score(logistic_regression,X_train,y_train,scoring=None,cv=10)\n",
    "score_mean=score.mean()\n",
    "print('Score Mean: %0.2f'%score_mean)"
   ]
  },
  {
   "cell_type": "markdown",
   "id": "c07ccda0",
   "metadata": {},
   "source": [
    "KFOLD VALIDATION"
   ]
  },
  {
   "cell_type": "code",
   "execution_count": null,
   "id": "e6aae282-31aa-4536-961a-7d9c46308c96",
   "metadata": {},
   "outputs": [],
   "source": [
    "#evaluasi menggunakan kfold cross validation\n",
    "kf = KFold(n_splits=10)\n",
    "# pembagian ke dalam 10 fold untuk kfold cross validation\n",
    "mse_scores = []\n",
    "fold = 1\n",
    "for train_index, val_index in kf.split(X_temp):\n",
    "    X_train, X_val = X.iloc[train_index], X.iloc[val_index]\n",
    "    y_train, y_val = y.iloc[train_index], y.iloc[val_index]\n",
    "    logistic_regression.fit(X_train,y_train)\n",
    "    y_pred = logistic_regression.predict(X_val)\n",
    "    mse = mean_squared_error(y_val,y_pred)\n",
    "    acc_score = accuracy_score(y_val,y_pred)\n",
    "    mse_scores.append(mse)\n",
    "    print(\"=\"*50)\n",
    "    print(f\"Fold : {fold}\")\n",
    "    print(\"=\"*50)\n",
    "    print(\"mean squared error %0.2f\"%mse)\n",
    "    print(\"accuracy score %0.2f\"%acc_score)\n",
    "    print(\"=\"*50)\n",
    "    fold+=1\n",
    "    \n",
    "avg_mse = sum(mse_scores)/len(mse_scores)\n",
    "print(\"Average MSE Across All Folds:\", avg_mse)\n",
    "print(\"score:\", accuracy_score(y_val,y_pred))"
   ]
  },
  {
   "cell_type": "code",
   "execution_count": null,
   "id": "cb45e313-3aab-467d-a464-5df9069f97e3",
   "metadata": {},
   "outputs": [],
   "source": [
    "#testing data\n",
    "y_test_pred = logistic_regression.predict(X_test)\n",
    "acc=accuracy_score(y_test,y_test_pred)\n",
    "print(\"Accuracy: %0.2f\"%acc)"
   ]
  },
  {
   "cell_type": "markdown",
   "id": "ec775251",
   "metadata": {},
   "source": [
    "NO. 5: Pemilihan Model dan metode memperbaiki model"
   ]
  },
  {
   "cell_type": "code",
   "execution_count": null,
   "id": "4a6a7266-736b-4fd5-8975-415a84c4fd7d",
   "metadata": {},
   "outputs": [],
   "source": [
    "from sklearn.naive_bayes import GaussianNB"
   ]
  },
  {
   "cell_type": "code",
   "execution_count": null,
   "id": "c8fdeb55",
   "metadata": {},
   "outputs": [],
   "source": [
    "X_temp, X_test, y_temp, y_test = train_test_split(X,y,test_size=0.3,random_state=123)\n",
    "#data dipisah menjadi trainging dan validation\n",
    "X_train, X_val, y_train, y_val = train_test_split(X_temp,y_temp,test_size=0.3,random_state=123)"
   ]
  },
  {
   "cell_type": "markdown",
   "id": "4a70c844",
   "metadata": {},
   "source": [
    "NAIVE BAYES MODEL"
   ]
  },
  {
   "cell_type": "code",
   "execution_count": null,
   "id": "a7cc5c1d-426a-4ae5-9d42-8fa94d3c58d2",
   "metadata": {},
   "outputs": [],
   "source": [
    "gaussianNB = GaussianNB()"
   ]
  },
  {
   "cell_type": "code",
   "execution_count": null,
   "id": "b4a33982-c601-4dcd-8a1c-29f0748f53f8",
   "metadata": {},
   "outputs": [],
   "source": [
    "gaussianNB.fit(X_train,y_train)\n",
    "gaussianNB_y_pred_val = gaussianNB.predict(X_val)"
   ]
  },
  {
   "cell_type": "code",
   "execution_count": null,
   "id": "fc1aa86c-b72f-45bf-9125-35d44387582d",
   "metadata": {},
   "outputs": [],
   "source": [
    "gaussianNB_acc_score = accuracy_score(y_val,gaussianNB_y_pred_val)\n",
    "print(\"Gaussian Accuracy Score: %0.2f\" %gaussianNB_acc_score)"
   ]
  },
  {
   "cell_type": "code",
   "execution_count": null,
   "id": "ff89abd4-ff7b-4f06-9a11-6501a72cfefc",
   "metadata": {},
   "outputs": [],
   "source": [
    "gaussianNB_y_pred_test = gaussianNB.predict(X_test)"
   ]
  },
  {
   "cell_type": "code",
   "execution_count": null,
   "id": "5eb3893d-ef28-46f0-9c16-e7e364ca0215",
   "metadata": {},
   "outputs": [],
   "source": [
    "gaussianNB_acc_score_test = accuracy_score(y_test,gaussianNB_y_pred_test)\n",
    "print(\"Gaussian Accuracy Score: %0.2f\" %gaussianNB_acc_score_test)"
   ]
  },
  {
   "cell_type": "code",
   "execution_count": null,
   "id": "70300f28",
   "metadata": {},
   "outputs": [],
   "source": [
    "cf = confusion_matrix(y_val, gaussianNB_y_pred_val, normalize='true')\n",
    "plt.figure(figsize=(3,2))\n",
    "sns.heatmap(cf, annot=True)\n",
    "plt.xlabel('Prediction')\n",
    "plt.ylabel('Target')\n",
    "plt.title('{} Confusion Matrix'.format('validation'));"
   ]
  },
  {
   "cell_type": "code",
   "execution_count": null,
   "id": "ee6a71e1-9a25-4f7f-a8e3-71d0b32ade16",
   "metadata": {},
   "outputs": [],
   "source": [
    "from sklearn.discriminant_analysis import LinearDiscriminantAnalysis,QuadraticDiscriminantAnalysis"
   ]
  },
  {
   "cell_type": "markdown",
   "id": "3f6b693a",
   "metadata": {},
   "source": [
    "LDA METHOD"
   ]
  },
  {
   "cell_type": "code",
   "execution_count": null,
   "id": "6b55b9f7-4c7d-4a78-a526-5f6d1c232ef7",
   "metadata": {},
   "outputs": [],
   "source": [
    "LDA = LinearDiscriminantAnalysis()"
   ]
  },
  {
   "cell_type": "code",
   "execution_count": null,
   "id": "c0176e3f-d595-4783-99e5-e1e69fbe6480",
   "metadata": {},
   "outputs": [],
   "source": [
    "LDA.fit(X_train,y_train)\n",
    "LDA_y_pred_val = LDA.predict(X_val)"
   ]
  },
  {
   "cell_type": "code",
   "execution_count": null,
   "id": "bd019351-75c1-49e9-b45b-5414f3264f1c",
   "metadata": {},
   "outputs": [],
   "source": [
    "LDA_acc_score = accuracy_score(y_val,LDA_y_pred_val)\n",
    "print('LDA Accuracy Score: %0.2f'%LDA_acc_score)\n",
    "# LDA_acc_score"
   ]
  },
  {
   "cell_type": "code",
   "execution_count": null,
   "id": "5d4212c3-f6cb-458d-87d1-dd60eed7d54c",
   "metadata": {},
   "outputs": [],
   "source": [
    "LDA_y_pred_test = LDA.predict(X_test)"
   ]
  },
  {
   "cell_type": "code",
   "execution_count": null,
   "id": "af936b1f-2130-4551-92b3-80800eae26ff",
   "metadata": {},
   "outputs": [],
   "source": [
    "LDA_acc_score_test = accuracy_score(y_test,LDA_y_pred_test)\n",
    "print(\"LDA Accuracy Score: %0.2f\" %LDA_acc_score_test)"
   ]
  },
  {
   "cell_type": "code",
   "execution_count": null,
   "id": "5c3d531a-b01b-4ad9-8a52-cb8b3f5f67a2",
   "metadata": {},
   "outputs": [],
   "source": [
    "cf = confusion_matrix(y_val, LDA_y_pred_val, normalize='true')\n",
    "plt.figure(figsize=(3,2))\n",
    "sns.heatmap(cf, annot=True)\n",
    "plt.xlabel('Prediction')\n",
    "plt.ylabel('Target')\n",
    "plt.title('{} Confusion Matrix'.format('validation'));"
   ]
  },
  {
   "cell_type": "markdown",
   "id": "e81befa8",
   "metadata": {},
   "source": [
    "QDA METHOD"
   ]
  },
  {
   "cell_type": "code",
   "execution_count": null,
   "id": "f74210da-6838-40d8-8c03-776e04c62fc4",
   "metadata": {},
   "outputs": [],
   "source": [
    "QDA = QuadraticDiscriminantAnalysis()"
   ]
  },
  {
   "cell_type": "code",
   "execution_count": null,
   "id": "298ee890-82fb-4b2a-a334-17564dde1207",
   "metadata": {},
   "outputs": [],
   "source": [
    "QDA.fit(X_train,y_train)\n",
    "QDA_y_pred_val = QDA.predict(X_val)"
   ]
  },
  {
   "cell_type": "code",
   "execution_count": null,
   "id": "f3464966-da05-4f4e-a82a-39418d4d5ec3",
   "metadata": {},
   "outputs": [],
   "source": [
    "QDA_acc_score = accuracy_score(y_val,QDA_y_pred_val)\n",
    "print(\"QDA Accuracy Score: %0.2f\"%QDA_acc_score)"
   ]
  },
  {
   "cell_type": "code",
   "execution_count": null,
   "id": "75908334-8f25-452b-8c5e-ede41e91085a",
   "metadata": {},
   "outputs": [],
   "source": [
    "QDA_y_pred_test = QDA.predict(X_test)"
   ]
  },
  {
   "cell_type": "code",
   "execution_count": null,
   "id": "0b472335-bf1c-471d-b3bc-1dda7d8f70e0",
   "metadata": {},
   "outputs": [],
   "source": [
    "QDA_acc_score_test = accuracy_score(y_test,QDA_y_pred_test)\n",
    "print(\"QDA Accuracy Score: %0.2f\" %gaussianNB_acc_score_test)"
   ]
  },
  {
   "cell_type": "code",
   "execution_count": null,
   "id": "9afd70ba-ebe5-4995-8b73-ee19e20072ff",
   "metadata": {},
   "outputs": [],
   "source": [
    "cf = confusion_matrix(y_val, QDA_y_pred_val, normalize='true')\n",
    "plt.figure(figsize=(3,2))\n",
    "sns.heatmap(cf, annot=True)\n",
    "plt.xlabel('Prediction')\n",
    "plt.ylabel('Target')\n",
    "plt.title('{} Confusion Matrix'.format('validation'));"
   ]
  }
 ],
 "metadata": {
  "kernelspec": {
   "display_name": "Python 3 (ipykernel)",
   "language": "python",
   "name": "python3"
  },
  "language_info": {
   "codemirror_mode": {
    "name": "ipython",
    "version": 3
   },
   "file_extension": ".py",
   "mimetype": "text/x-python",
   "name": "python",
   "nbconvert_exporter": "python",
   "pygments_lexer": "ipython3",
   "version": "3.11.4"
  }
 },
 "nbformat": 4,
 "nbformat_minor": 5
}
