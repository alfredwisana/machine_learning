{
 "cells": [
  {
   "cell_type": "code",
   "execution_count": 1,
   "id": "37941c04-bff8-4057-ba78-4d69150323b6",
   "metadata": {
    "tags": []
   },
   "outputs": [],
   "source": [
    "import matplotlib.pyplot as plt\n",
    "import seaborn as sns\n",
    "from sklearn.model_selection import train_test_split\n",
    "from sklearn.preprocessing import StandardScaler\n",
    "from sklearn.metrics import roc_curve\n",
    "from sklearn.metrics import roc_auc_score\n",
    "from sklearn.ensemble import VotingClassifier\n",
    "from sklearn.linear_model import LogisticRegression\n",
    "from sklearn.ensemble import RandomForestClassifier\n",
    "from sklearn.svm import SVC\n",
    "from sklearn.metrics import accuracy_score\n",
    "from sklearn.ensemble import AdaBoostClassifier\n",
    "from sklearn.model_selection import cross_val_score"
   ]
  },
  {
   "cell_type": "code",
   "execution_count": 2,
   "id": "3a2352ab-bb1c-459e-8918-c5de9254bda8",
   "metadata": {
    "tags": []
   },
   "outputs": [],
   "source": [
    "import pandas as pd\n",
    "import numpy as np"
   ]
  },
  {
   "cell_type": "code",
   "execution_count": 3,
   "id": "e92477bf-c556-442e-8a38-3c8bdbe8a8a1",
   "metadata": {
    "collapsed": true,
    "jupyter": {
     "outputs_hidden": true
    },
    "tags": []
   },
   "outputs": [
    {
     "data": {
      "text/html": [
       "<div>\n",
       "<style scoped>\n",
       "    .dataframe tbody tr th:only-of-type {\n",
       "        vertical-align: middle;\n",
       "    }\n",
       "\n",
       "    .dataframe tbody tr th {\n",
       "        vertical-align: top;\n",
       "    }\n",
       "\n",
       "    .dataframe thead th {\n",
       "        text-align: right;\n",
       "    }\n",
       "</style>\n",
       "<table border=\"1\" class=\"dataframe\">\n",
       "  <thead>\n",
       "    <tr style=\"text-align: right;\">\n",
       "      <th></th>\n",
       "      <th>Time</th>\n",
       "      <th>Date</th>\n",
       "      <th>Day of the week</th>\n",
       "      <th>CarCount</th>\n",
       "      <th>BikeCount</th>\n",
       "      <th>BusCount</th>\n",
       "      <th>TruckCount</th>\n",
       "      <th>Total</th>\n",
       "      <th>Traffic Situation</th>\n",
       "    </tr>\n",
       "  </thead>\n",
       "  <tbody>\n",
       "    <tr>\n",
       "      <th>0</th>\n",
       "      <td>12:00:00 AM</td>\n",
       "      <td>10</td>\n",
       "      <td>Tuesday</td>\n",
       "      <td>31</td>\n",
       "      <td>0</td>\n",
       "      <td>4</td>\n",
       "      <td>4</td>\n",
       "      <td>39</td>\n",
       "      <td>low</td>\n",
       "    </tr>\n",
       "    <tr>\n",
       "      <th>1</th>\n",
       "      <td>12:15:00 AM</td>\n",
       "      <td>10</td>\n",
       "      <td>Tuesday</td>\n",
       "      <td>49</td>\n",
       "      <td>0</td>\n",
       "      <td>3</td>\n",
       "      <td>3</td>\n",
       "      <td>55</td>\n",
       "      <td>low</td>\n",
       "    </tr>\n",
       "    <tr>\n",
       "      <th>2</th>\n",
       "      <td>12:30:00 AM</td>\n",
       "      <td>10</td>\n",
       "      <td>Tuesday</td>\n",
       "      <td>46</td>\n",
       "      <td>0</td>\n",
       "      <td>3</td>\n",
       "      <td>6</td>\n",
       "      <td>55</td>\n",
       "      <td>low</td>\n",
       "    </tr>\n",
       "    <tr>\n",
       "      <th>3</th>\n",
       "      <td>12:45:00 AM</td>\n",
       "      <td>10</td>\n",
       "      <td>Tuesday</td>\n",
       "      <td>51</td>\n",
       "      <td>0</td>\n",
       "      <td>2</td>\n",
       "      <td>5</td>\n",
       "      <td>58</td>\n",
       "      <td>low</td>\n",
       "    </tr>\n",
       "    <tr>\n",
       "      <th>4</th>\n",
       "      <td>1:00:00 AM</td>\n",
       "      <td>10</td>\n",
       "      <td>Tuesday</td>\n",
       "      <td>57</td>\n",
       "      <td>6</td>\n",
       "      <td>15</td>\n",
       "      <td>16</td>\n",
       "      <td>94</td>\n",
       "      <td>normal</td>\n",
       "    </tr>\n",
       "    <tr>\n",
       "      <th>...</th>\n",
       "      <td>...</td>\n",
       "      <td>...</td>\n",
       "      <td>...</td>\n",
       "      <td>...</td>\n",
       "      <td>...</td>\n",
       "      <td>...</td>\n",
       "      <td>...</td>\n",
       "      <td>...</td>\n",
       "      <td>...</td>\n",
       "    </tr>\n",
       "    <tr>\n",
       "      <th>2971</th>\n",
       "      <td>10:45:00 PM</td>\n",
       "      <td>9</td>\n",
       "      <td>Thursday</td>\n",
       "      <td>16</td>\n",
       "      <td>3</td>\n",
       "      <td>1</td>\n",
       "      <td>36</td>\n",
       "      <td>56</td>\n",
       "      <td>normal</td>\n",
       "    </tr>\n",
       "    <tr>\n",
       "      <th>2972</th>\n",
       "      <td>11:00:00 PM</td>\n",
       "      <td>9</td>\n",
       "      <td>Thursday</td>\n",
       "      <td>11</td>\n",
       "      <td>0</td>\n",
       "      <td>1</td>\n",
       "      <td>30</td>\n",
       "      <td>42</td>\n",
       "      <td>normal</td>\n",
       "    </tr>\n",
       "    <tr>\n",
       "      <th>2973</th>\n",
       "      <td>11:15:00 PM</td>\n",
       "      <td>9</td>\n",
       "      <td>Thursday</td>\n",
       "      <td>15</td>\n",
       "      <td>4</td>\n",
       "      <td>1</td>\n",
       "      <td>25</td>\n",
       "      <td>45</td>\n",
       "      <td>normal</td>\n",
       "    </tr>\n",
       "    <tr>\n",
       "      <th>2974</th>\n",
       "      <td>11:30:00 PM</td>\n",
       "      <td>9</td>\n",
       "      <td>Thursday</td>\n",
       "      <td>16</td>\n",
       "      <td>5</td>\n",
       "      <td>0</td>\n",
       "      <td>27</td>\n",
       "      <td>48</td>\n",
       "      <td>normal</td>\n",
       "    </tr>\n",
       "    <tr>\n",
       "      <th>2975</th>\n",
       "      <td>11:45:00 PM</td>\n",
       "      <td>9</td>\n",
       "      <td>Thursday</td>\n",
       "      <td>14</td>\n",
       "      <td>3</td>\n",
       "      <td>1</td>\n",
       "      <td>15</td>\n",
       "      <td>33</td>\n",
       "      <td>normal</td>\n",
       "    </tr>\n",
       "  </tbody>\n",
       "</table>\n",
       "<p>2976 rows × 9 columns</p>\n",
       "</div>"
      ],
      "text/plain": [
       "             Time  Date Day of the week  CarCount  BikeCount  BusCount  \\\n",
       "0     12:00:00 AM    10         Tuesday        31          0         4   \n",
       "1     12:15:00 AM    10         Tuesday        49          0         3   \n",
       "2     12:30:00 AM    10         Tuesday        46          0         3   \n",
       "3     12:45:00 AM    10         Tuesday        51          0         2   \n",
       "4      1:00:00 AM    10         Tuesday        57          6        15   \n",
       "...           ...   ...             ...       ...        ...       ...   \n",
       "2971  10:45:00 PM     9        Thursday        16          3         1   \n",
       "2972  11:00:00 PM     9        Thursday        11          0         1   \n",
       "2973  11:15:00 PM     9        Thursday        15          4         1   \n",
       "2974  11:30:00 PM     9        Thursday        16          5         0   \n",
       "2975  11:45:00 PM     9        Thursday        14          3         1   \n",
       "\n",
       "      TruckCount  Total Traffic Situation  \n",
       "0              4     39               low  \n",
       "1              3     55               low  \n",
       "2              6     55               low  \n",
       "3              5     58               low  \n",
       "4             16     94            normal  \n",
       "...          ...    ...               ...  \n",
       "2971          36     56            normal  \n",
       "2972          30     42            normal  \n",
       "2973          25     45            normal  \n",
       "2974          27     48            normal  \n",
       "2975          15     33            normal  \n",
       "\n",
       "[2976 rows x 9 columns]"
      ]
     },
     "execution_count": 3,
     "metadata": {},
     "output_type": "execute_result"
    }
   ],
   "source": [
    "df = pd.read_csv(r\"C:\\Users\\LENOVO\\Documents\\school\\SEM 5\\Machine Learning\\Traffic.csv\")\n",
    "df"
   ]
  },
  {
   "cell_type": "code",
   "execution_count": 4,
   "id": "2ce71112-613c-496d-9208-676a0c0aacb4",
   "metadata": {
    "collapsed": true,
    "jupyter": {
     "outputs_hidden": true
    },
    "tags": []
   },
   "outputs": [
    {
     "name": "stdout",
     "output_type": "stream",
     "text": [
      "<class 'pandas.core.frame.DataFrame'>\n",
      "RangeIndex: 2976 entries, 0 to 2975\n",
      "Data columns (total 9 columns):\n",
      " #   Column             Non-Null Count  Dtype \n",
      "---  ------             --------------  ----- \n",
      " 0   Time               2976 non-null   object\n",
      " 1   Date               2976 non-null   int64 \n",
      " 2   Day of the week    2976 non-null   object\n",
      " 3   CarCount           2976 non-null   int64 \n",
      " 4   BikeCount          2976 non-null   int64 \n",
      " 5   BusCount           2976 non-null   int64 \n",
      " 6   TruckCount         2976 non-null   int64 \n",
      " 7   Total              2976 non-null   int64 \n",
      " 8   Traffic Situation  2976 non-null   object\n",
      "dtypes: int64(6), object(3)\n",
      "memory usage: 209.4+ KB\n"
     ]
    }
   ],
   "source": [
    "df.info()"
   ]
  },
  {
   "cell_type": "code",
   "execution_count": 5,
   "id": "3fc8e305-86c5-49f4-9d64-c0bf3cd0ec8a",
   "metadata": {
    "collapsed": true,
    "jupyter": {
     "outputs_hidden": true
    },
    "tags": []
   },
   "outputs": [
    {
     "data": {
      "text/html": [
       "<div>\n",
       "<style scoped>\n",
       "    .dataframe tbody tr th:only-of-type {\n",
       "        vertical-align: middle;\n",
       "    }\n",
       "\n",
       "    .dataframe tbody tr th {\n",
       "        vertical-align: top;\n",
       "    }\n",
       "\n",
       "    .dataframe thead th {\n",
       "        text-align: right;\n",
       "    }\n",
       "</style>\n",
       "<table border=\"1\" class=\"dataframe\">\n",
       "  <thead>\n",
       "    <tr style=\"text-align: right;\">\n",
       "      <th></th>\n",
       "      <th>Date</th>\n",
       "      <th>CarCount</th>\n",
       "      <th>BikeCount</th>\n",
       "      <th>BusCount</th>\n",
       "      <th>TruckCount</th>\n",
       "      <th>Total</th>\n",
       "    </tr>\n",
       "  </thead>\n",
       "  <tbody>\n",
       "    <tr>\n",
       "      <th>count</th>\n",
       "      <td>2976.000000</td>\n",
       "      <td>2976.000000</td>\n",
       "      <td>2976.000000</td>\n",
       "      <td>2976.000000</td>\n",
       "      <td>2976.000000</td>\n",
       "      <td>2976.000000</td>\n",
       "    </tr>\n",
       "    <tr>\n",
       "      <th>mean</th>\n",
       "      <td>16.000000</td>\n",
       "      <td>68.696573</td>\n",
       "      <td>14.917339</td>\n",
       "      <td>15.279570</td>\n",
       "      <td>15.324933</td>\n",
       "      <td>114.218414</td>\n",
       "    </tr>\n",
       "    <tr>\n",
       "      <th>std</th>\n",
       "      <td>8.945775</td>\n",
       "      <td>45.850693</td>\n",
       "      <td>12.847518</td>\n",
       "      <td>14.341986</td>\n",
       "      <td>10.603833</td>\n",
       "      <td>60.190627</td>\n",
       "    </tr>\n",
       "    <tr>\n",
       "      <th>min</th>\n",
       "      <td>1.000000</td>\n",
       "      <td>6.000000</td>\n",
       "      <td>0.000000</td>\n",
       "      <td>0.000000</td>\n",
       "      <td>0.000000</td>\n",
       "      <td>21.000000</td>\n",
       "    </tr>\n",
       "    <tr>\n",
       "      <th>25%</th>\n",
       "      <td>8.000000</td>\n",
       "      <td>19.000000</td>\n",
       "      <td>5.000000</td>\n",
       "      <td>1.000000</td>\n",
       "      <td>6.000000</td>\n",
       "      <td>55.000000</td>\n",
       "    </tr>\n",
       "    <tr>\n",
       "      <th>50%</th>\n",
       "      <td>16.000000</td>\n",
       "      <td>64.000000</td>\n",
       "      <td>12.000000</td>\n",
       "      <td>12.000000</td>\n",
       "      <td>14.000000</td>\n",
       "      <td>109.000000</td>\n",
       "    </tr>\n",
       "    <tr>\n",
       "      <th>75%</th>\n",
       "      <td>24.000000</td>\n",
       "      <td>107.000000</td>\n",
       "      <td>22.000000</td>\n",
       "      <td>25.000000</td>\n",
       "      <td>23.000000</td>\n",
       "      <td>164.000000</td>\n",
       "    </tr>\n",
       "    <tr>\n",
       "      <th>max</th>\n",
       "      <td>31.000000</td>\n",
       "      <td>180.000000</td>\n",
       "      <td>70.000000</td>\n",
       "      <td>50.000000</td>\n",
       "      <td>40.000000</td>\n",
       "      <td>279.000000</td>\n",
       "    </tr>\n",
       "  </tbody>\n",
       "</table>\n",
       "</div>"
      ],
      "text/plain": [
       "              Date     CarCount    BikeCount     BusCount   TruckCount  \\\n",
       "count  2976.000000  2976.000000  2976.000000  2976.000000  2976.000000   \n",
       "mean     16.000000    68.696573    14.917339    15.279570    15.324933   \n",
       "std       8.945775    45.850693    12.847518    14.341986    10.603833   \n",
       "min       1.000000     6.000000     0.000000     0.000000     0.000000   \n",
       "25%       8.000000    19.000000     5.000000     1.000000     6.000000   \n",
       "50%      16.000000    64.000000    12.000000    12.000000    14.000000   \n",
       "75%      24.000000   107.000000    22.000000    25.000000    23.000000   \n",
       "max      31.000000   180.000000    70.000000    50.000000    40.000000   \n",
       "\n",
       "             Total  \n",
       "count  2976.000000  \n",
       "mean    114.218414  \n",
       "std      60.190627  \n",
       "min      21.000000  \n",
       "25%      55.000000  \n",
       "50%     109.000000  \n",
       "75%     164.000000  \n",
       "max     279.000000  "
      ]
     },
     "execution_count": 5,
     "metadata": {},
     "output_type": "execute_result"
    }
   ],
   "source": [
    "df.describe()"
   ]
  },
  {
   "cell_type": "code",
   "execution_count": 6,
   "id": "1c9a5e4b-24bf-4e7c-94dc-98b7ba85f586",
   "metadata": {
    "collapsed": true,
    "jupyter": {
     "outputs_hidden": true
    },
    "tags": []
   },
   "outputs": [
    {
     "data": {
      "text/plain": [
       "Time                 0\n",
       "Date                 0\n",
       "Day of the week      0\n",
       "CarCount             0\n",
       "BikeCount            0\n",
       "BusCount             0\n",
       "TruckCount           0\n",
       "Total                0\n",
       "Traffic Situation    0\n",
       "dtype: int64"
      ]
     },
     "execution_count": 6,
     "metadata": {},
     "output_type": "execute_result"
    }
   ],
   "source": [
    "df.isnull().sum()"
   ]
  },
  {
   "cell_type": "code",
   "execution_count": 7,
   "id": "9059b271-519e-48bd-8dc8-0d0482647f01",
   "metadata": {
    "collapsed": true,
    "jupyter": {
     "outputs_hidden": true
    },
    "tags": []
   },
   "outputs": [
    {
     "data": {
      "text/plain": [
       "<Axes: xlabel='Day of the week', ylabel='Count'>"
      ]
     },
     "execution_count": 7,
     "metadata": {},
     "output_type": "execute_result"
    },
    {
     "data": {
      "image/png": "[encoded data removed]",
      "text/plain": [
       "<Figure size 1000x500 with 1 Axes>"
      ]
     },
     "metadata": {},
     "output_type": "display_data"
    }
   ],
   "source": [
    "#['Time', 'Date', 'Day of the week', 'CarCount', 'BikeCount', 'BusCount',\n",
    "       #'TruckCount', 'Total', 'Traffic Situation']\n",
    "plt.figure(figsize=(10,5))\n",
    "sns.histplot(data=df, x=\"Day of the week\", hue=\"Traffic Situation\")"
   ]
  },
  {
   "cell_type": "code",
   "execution_count": 8,
   "id": "8fd5e7da-23b0-482c-9a06-55719bb837f1",
   "metadata": {
    "collapsed": true,
    "jupyter": {
     "outputs_hidden": true
    },
    "tags": []
   },
   "outputs": [
    {
     "data": {
      "text/plain": [
       "<Axes: xlabel='Date', ylabel='Count'>"
      ]
     },
     "execution_count": 8,
     "metadata": {},
     "output_type": "execute_result"
    },
    {
     "data": {
      "image/png": "[encoded data removed]",
      "text/plain": [
       "<Figure size 640x480 with 1 Axes>"
      ]
     },
     "metadata": {},
     "output_type": "display_data"
    }
   ],
   "source": [
    "sns.histplot(df, x=\"Date\", hue=\"Traffic Situation\", element=\"poly\")"
   ]
  },
  {
   "cell_type": "code",
   "execution_count": 9,
   "id": "63b0082f-9a89-4a9f-95e1-6ea8dcfb0779",
   "metadata": {
    "collapsed": true,
    "jupyter": {
     "outputs_hidden": true
    },
    "tags": []
   },
   "outputs": [
    {
     "data": {
      "text/plain": [
       "<Axes: xlabel='Total', ylabel='Count'>"
      ]
     },
     "execution_count": 9,
     "metadata": {},
     "output_type": "execute_result"
    },
    {
     "data": {
      "image/png": "[encoded data removed]",
      "text/plain": [
       "<Figure size 640x480 with 1 Axes>"
      ]
     },
     "metadata": {},
     "output_type": "display_data"
    }
   ],
   "source": [
    "sns.histplot(data=df, x=\"Total\", hue=\"Traffic Situation\", multiple=\"stack\")"
   ]
  },
  {
   "cell_type": "markdown",
   "id": "863ab1ef-c929-4d6c-81dc-37cbd6aba248",
   "metadata": {},
   "source": [
    "features engineering"
   ]
  },
  {
   "cell_type": "code",
   "execution_count": 10,
   "id": "56d044af-25d6-4aa1-88d0-c8f55ca2a2fd",
   "metadata": {
    "tags": []
   },
   "outputs": [
    {
     "data": {
      "text/plain": [
       "Index(['Time', 'Date', 'Day of the week', 'CarCount', 'BikeCount', 'BusCount',\n",
       "       'TruckCount', 'Total', 'Traffic Situation'],\n",
       "      dtype='object')"
      ]
     },
     "execution_count": 10,
     "metadata": {},
     "output_type": "execute_result"
    }
   ],
   "source": [
    "df.columns"
   ]
  },
  {
   "cell_type": "code",
   "execution_count": 11,
   "id": "d187b0d5-2747-456c-818b-3470c7233d31",
   "metadata": {
    "tags": []
   },
   "outputs": [
    {
     "data": {
      "text/plain": [
       "normal    1669\n",
       "heavy      682\n",
       "high       321\n",
       "low        304\n",
       "Name: Traffic Situation, dtype: int64"
      ]
     },
     "execution_count": 11,
     "metadata": {},
     "output_type": "execute_result"
    }
   ],
   "source": [
    "df['Traffic Situation'].value_counts()"
   ]
  },
  {
   "cell_type": "code",
   "execution_count": 12,
   "id": "a387741e-13ef-4a54-b8b1-a65b5d627e6d",
   "metadata": {
    "tags": []
   },
   "outputs": [],
   "source": [
    "#Converting target variable 'Traffic Situation' into Numeric form\n",
    "df['Traffic Situation'] = df['Traffic Situation'].replace({'low':0, 'normal':1, \n",
    "                                                              'heavy':2, 'high':3})"
   ]
  },
  {
   "cell_type": "code",
   "execution_count": 13,
   "id": "62af42cf-b738-406a-9195-e168ebb52e33",
   "metadata": {
    "collapsed": true,
    "jupyter": {
     "outputs_hidden": true
    },
    "tags": []
   },
   "outputs": [
    {
     "data": {
      "text/plain": [
       "Tuesday      480\n",
       "Wednesday    480\n",
       "Thursday     480\n",
       "Friday       384\n",
       "Saturday     384\n",
       "Sunday       384\n",
       "Monday       384\n",
       "Name: Day of the week, dtype: int64"
      ]
     },
     "execution_count": 13,
     "metadata": {},
     "output_type": "execute_result"
    }
   ],
   "source": [
    "df['Day of the week'].value_counts()"
   ]
  },
  {
   "cell_type": "code",
   "execution_count": 14,
   "id": "ebada65e-e62b-4949-bd04-ab14e9570dce",
   "metadata": {
    "tags": []
   },
   "outputs": [],
   "source": [
    "#Converting Days of weak into Numeric form\n",
    "df['Day of the week'] = df['Day of the week'].replace({'Monday':1,'Tuesday':2,\n",
    "                                                          'Wednesday':3,'Thursday':4,\n",
    "                                                          'Friday':5,'Saturday':6,\n",
    "                                                          'Sunday':7})"
   ]
  },
  {
   "cell_type": "code",
   "execution_count": 15,
   "id": "7f7bc05a-ac5c-49aa-bba6-28691fe317e6",
   "metadata": {
    "tags": []
   },
   "outputs": [],
   "source": [
    "#Extracting Specific time-related information from 'Time(24:00 am/pm)' column\n",
    "\n",
    "df['hour'] = pd.to_datetime(df['Time']).dt.hour #Hour in separate column\n",
    "df['minute'] = pd.to_datetime(df['Time']).dt.minute #Minute in separate column\n",
    "\n",
    "\n",
    "# replace 0 with AM\n",
    "# replace 1 with PM\n",
    "\n",
    "df['Temp'] = df['Time'].apply(lambda x: x.split(' ')[1]) #Temporary column for AM/PM\n",
    "df['AM/PM'] = df['Temp'].replace({'AM':0,'PM':1})"
   ]
  },
  {
   "cell_type": "code",
   "execution_count": 16,
   "id": "cd97f905-a477-4820-883e-67c6a14804e4",
   "metadata": {
    "collapsed": true,
    "jupyter": {
     "outputs_hidden": true
    },
    "tags": []
   },
   "outputs": [
    {
     "data": {
      "text/html": [
       "<div>\n",
       "<style scoped>\n",
       "    .dataframe tbody tr th:only-of-type {\n",
       "        vertical-align: middle;\n",
       "    }\n",
       "\n",
       "    .dataframe tbody tr th {\n",
       "        vertical-align: top;\n",
       "    }\n",
       "\n",
       "    .dataframe thead th {\n",
       "        text-align: right;\n",
       "    }\n",
       "</style>\n",
       "<table border=\"1\" class=\"dataframe\">\n",
       "  <thead>\n",
       "    <tr style=\"text-align: right;\">\n",
       "      <th></th>\n",
       "      <th>Date</th>\n",
       "      <th>Day of the week</th>\n",
       "      <th>CarCount</th>\n",
       "      <th>BikeCount</th>\n",
       "      <th>BusCount</th>\n",
       "      <th>TruckCount</th>\n",
       "      <th>Total</th>\n",
       "      <th>Traffic Situation</th>\n",
       "      <th>hour</th>\n",
       "      <th>minute</th>\n",
       "      <th>AM/PM</th>\n",
       "    </tr>\n",
       "  </thead>\n",
       "  <tbody>\n",
       "    <tr>\n",
       "      <th>0</th>\n",
       "      <td>10</td>\n",
       "      <td>2</td>\n",
       "      <td>31</td>\n",
       "      <td>0</td>\n",
       "      <td>4</td>\n",
       "      <td>4</td>\n",
       "      <td>39</td>\n",
       "      <td>0</td>\n",
       "      <td>0</td>\n",
       "      <td>0</td>\n",
       "      <td>0</td>\n",
       "    </tr>\n",
       "    <tr>\n",
       "      <th>1</th>\n",
       "      <td>10</td>\n",
       "      <td>2</td>\n",
       "      <td>49</td>\n",
       "      <td>0</td>\n",
       "      <td>3</td>\n",
       "      <td>3</td>\n",
       "      <td>55</td>\n",
       "      <td>0</td>\n",
       "      <td>0</td>\n",
       "      <td>15</td>\n",
       "      <td>0</td>\n",
       "    </tr>\n",
       "    <tr>\n",
       "      <th>2</th>\n",
       "      <td>10</td>\n",
       "      <td>2</td>\n",
       "      <td>46</td>\n",
       "      <td>0</td>\n",
       "      <td>3</td>\n",
       "      <td>6</td>\n",
       "      <td>55</td>\n",
       "      <td>0</td>\n",
       "      <td>0</td>\n",
       "      <td>30</td>\n",
       "      <td>0</td>\n",
       "    </tr>\n",
       "    <tr>\n",
       "      <th>3</th>\n",
       "      <td>10</td>\n",
       "      <td>2</td>\n",
       "      <td>51</td>\n",
       "      <td>0</td>\n",
       "      <td>2</td>\n",
       "      <td>5</td>\n",
       "      <td>58</td>\n",
       "      <td>0</td>\n",
       "      <td>0</td>\n",
       "      <td>45</td>\n",
       "      <td>0</td>\n",
       "    </tr>\n",
       "    <tr>\n",
       "      <th>4</th>\n",
       "      <td>10</td>\n",
       "      <td>2</td>\n",
       "      <td>57</td>\n",
       "      <td>6</td>\n",
       "      <td>15</td>\n",
       "      <td>16</td>\n",
       "      <td>94</td>\n",
       "      <td>1</td>\n",
       "      <td>1</td>\n",
       "      <td>0</td>\n",
       "      <td>0</td>\n",
       "    </tr>\n",
       "    <tr>\n",
       "      <th>...</th>\n",
       "      <td>...</td>\n",
       "      <td>...</td>\n",
       "      <td>...</td>\n",
       "      <td>...</td>\n",
       "      <td>...</td>\n",
       "      <td>...</td>\n",
       "      <td>...</td>\n",
       "      <td>...</td>\n",
       "      <td>...</td>\n",
       "      <td>...</td>\n",
       "      <td>...</td>\n",
       "    </tr>\n",
       "    <tr>\n",
       "      <th>2971</th>\n",
       "      <td>9</td>\n",
       "      <td>4</td>\n",
       "      <td>16</td>\n",
       "      <td>3</td>\n",
       "      <td>1</td>\n",
       "      <td>36</td>\n",
       "      <td>56</td>\n",
       "      <td>1</td>\n",
       "      <td>22</td>\n",
       "      <td>45</td>\n",
       "      <td>1</td>\n",
       "    </tr>\n",
       "    <tr>\n",
       "      <th>2972</th>\n",
       "      <td>9</td>\n",
       "      <td>4</td>\n",
       "      <td>11</td>\n",
       "      <td>0</td>\n",
       "      <td>1</td>\n",
       "      <td>30</td>\n",
       "      <td>42</td>\n",
       "      <td>1</td>\n",
       "      <td>23</td>\n",
       "      <td>0</td>\n",
       "      <td>1</td>\n",
       "    </tr>\n",
       "    <tr>\n",
       "      <th>2973</th>\n",
       "      <td>9</td>\n",
       "      <td>4</td>\n",
       "      <td>15</td>\n",
       "      <td>4</td>\n",
       "      <td>1</td>\n",
       "      <td>25</td>\n",
       "      <td>45</td>\n",
       "      <td>1</td>\n",
       "      <td>23</td>\n",
       "      <td>15</td>\n",
       "      <td>1</td>\n",
       "    </tr>\n",
       "    <tr>\n",
       "      <th>2974</th>\n",
       "      <td>9</td>\n",
       "      <td>4</td>\n",
       "      <td>16</td>\n",
       "      <td>5</td>\n",
       "      <td>0</td>\n",
       "      <td>27</td>\n",
       "      <td>48</td>\n",
       "      <td>1</td>\n",
       "      <td>23</td>\n",
       "      <td>30</td>\n",
       "      <td>1</td>\n",
       "    </tr>\n",
       "    <tr>\n",
       "      <th>2975</th>\n",
       "      <td>9</td>\n",
       "      <td>4</td>\n",
       "      <td>14</td>\n",
       "      <td>3</td>\n",
       "      <td>1</td>\n",
       "      <td>15</td>\n",
       "      <td>33</td>\n",
       "      <td>1</td>\n",
       "      <td>23</td>\n",
       "      <td>45</td>\n",
       "      <td>1</td>\n",
       "    </tr>\n",
       "  </tbody>\n",
       "</table>\n",
       "<p>2976 rows × 11 columns</p>\n",
       "</div>"
      ],
      "text/plain": [
       "      Date  Day of the week  CarCount  BikeCount  BusCount  TruckCount  Total  \\\n",
       "0       10                2        31          0         4           4     39   \n",
       "1       10                2        49          0         3           3     55   \n",
       "2       10                2        46          0         3           6     55   \n",
       "3       10                2        51          0         2           5     58   \n",
       "4       10                2        57          6        15          16     94   \n",
       "...    ...              ...       ...        ...       ...         ...    ...   \n",
       "2971     9                4        16          3         1          36     56   \n",
       "2972     9                4        11          0         1          30     42   \n",
       "2973     9                4        15          4         1          25     45   \n",
       "2974     9                4        16          5         0          27     48   \n",
       "2975     9                4        14          3         1          15     33   \n",
       "\n",
       "      Traffic Situation  hour  minute  AM/PM  \n",
       "0                     0     0       0      0  \n",
       "1                     0     0      15      0  \n",
       "2                     0     0      30      0  \n",
       "3                     0     0      45      0  \n",
       "4                     1     1       0      0  \n",
       "...                 ...   ...     ...    ...  \n",
       "2971                  1    22      45      1  \n",
       "2972                  1    23       0      1  \n",
       "2973                  1    23      15      1  \n",
       "2974                  1    23      30      1  \n",
       "2975                  1    23      45      1  \n",
       "\n",
       "[2976 rows x 11 columns]"
      ]
     },
     "execution_count": 16,
     "metadata": {},
     "output_type": "execute_result"
    }
   ],
   "source": [
    "#Now remove 'Temp' and 'Time' columns\n",
    "df= df.drop(columns = ['Time','Temp'], axis=1)\n",
    "df"
   ]
  },
  {
   "cell_type": "code",
   "execution_count": 17,
   "id": "987e65de-8fda-495a-9760-aee1e1f161ae",
   "metadata": {
    "collapsed": true,
    "jupyter": {
     "outputs_hidden": true
    },
    "tags": []
   },
   "outputs": [
    {
     "data": {
      "text/html": [
       "<div>\n",
       "<style scoped>\n",
       "    .dataframe tbody tr th:only-of-type {\n",
       "        vertical-align: middle;\n",
       "    }\n",
       "\n",
       "    .dataframe tbody tr th {\n",
       "        vertical-align: top;\n",
       "    }\n",
       "\n",
       "    .dataframe thead th {\n",
       "        text-align: right;\n",
       "    }\n",
       "</style>\n",
       "<table border=\"1\" class=\"dataframe\">\n",
       "  <thead>\n",
       "    <tr style=\"text-align: right;\">\n",
       "      <th></th>\n",
       "      <th>Date</th>\n",
       "      <th>Day of the week</th>\n",
       "      <th>CarCount</th>\n",
       "      <th>BikeCount</th>\n",
       "      <th>BusCount</th>\n",
       "      <th>TruckCount</th>\n",
       "      <th>Total</th>\n",
       "      <th>hour</th>\n",
       "      <th>minute</th>\n",
       "      <th>AM/PM</th>\n",
       "      <th>Traffic Situation</th>\n",
       "    </tr>\n",
       "  </thead>\n",
       "  <tbody>\n",
       "    <tr>\n",
       "      <th>Date</th>\n",
       "      <td>1.000000e+00</td>\n",
       "      <td>-1.672874e-02</td>\n",
       "      <td>-0.013453</td>\n",
       "      <td>-0.005089</td>\n",
       "      <td>-0.015536</td>\n",
       "      <td>0.024734</td>\n",
       "      <td>-0.010679</td>\n",
       "      <td>2.814316e-16</td>\n",
       "      <td>2.865092e-17</td>\n",
       "      <td>6.563367e-17</td>\n",
       "      <td>0.006594</td>\n",
       "    </tr>\n",
       "    <tr>\n",
       "      <th>Day of the week</th>\n",
       "      <td>-1.672874e-02</td>\n",
       "      <td>1.000000e+00</td>\n",
       "      <td>-0.002230</td>\n",
       "      <td>0.063583</td>\n",
       "      <td>-0.046031</td>\n",
       "      <td>-0.021895</td>\n",
       "      <td>-0.002953</td>\n",
       "      <td>-2.874150e-16</td>\n",
       "      <td>-5.201713e-17</td>\n",
       "      <td>-1.206884e-16</td>\n",
       "      <td>-0.024423</td>\n",
       "    </tr>\n",
       "    <tr>\n",
       "      <th>CarCount</th>\n",
       "      <td>-1.345292e-02</td>\n",
       "      <td>-2.230275e-03</td>\n",
       "      <td>1.000000</td>\n",
       "      <td>0.722539</td>\n",
       "      <td>0.692994</td>\n",
       "      <td>-0.628157</td>\n",
       "      <td>0.970443</td>\n",
       "      <td>1.480863e-01</td>\n",
       "      <td>-3.359952e-03</td>\n",
       "      <td>1.026836e-01</td>\n",
       "      <td>0.541331</td>\n",
       "    </tr>\n",
       "    <tr>\n",
       "      <th>BikeCount</th>\n",
       "      <td>-5.088914e-03</td>\n",
       "      <td>6.358283e-02</td>\n",
       "      <td>0.722539</td>\n",
       "      <td>1.000000</td>\n",
       "      <td>0.566364</td>\n",
       "      <td>-0.575399</td>\n",
       "      <td>0.797429</td>\n",
       "      <td>1.405488e-01</td>\n",
       "      <td>-7.978481e-03</td>\n",
       "      <td>1.404737e-01</td>\n",
       "      <td>0.407324</td>\n",
       "    </tr>\n",
       "    <tr>\n",
       "      <th>BusCount</th>\n",
       "      <td>-1.553604e-02</td>\n",
       "      <td>-4.603119e-02</td>\n",
       "      <td>0.692994</td>\n",
       "      <td>0.566364</td>\n",
       "      <td>1.000000</td>\n",
       "      <td>-0.546931</td>\n",
       "      <td>0.790705</td>\n",
       "      <td>1.657507e-01</td>\n",
       "      <td>-1.615958e-02</td>\n",
       "      <td>1.209151e-01</td>\n",
       "      <td>0.590153</td>\n",
       "    </tr>\n",
       "    <tr>\n",
       "      <th>TruckCount</th>\n",
       "      <td>2.473362e-02</td>\n",
       "      <td>-2.189502e-02</td>\n",
       "      <td>-0.628157</td>\n",
       "      <td>-0.575399</td>\n",
       "      <td>-0.546931</td>\n",
       "      <td>1.000000</td>\n",
       "      <td>-0.555471</td>\n",
       "      <td>-1.695231e-02</td>\n",
       "      <td>-1.119745e-03</td>\n",
       "      <td>9.508203e-05</td>\n",
       "      <td>-0.049809</td>\n",
       "    </tr>\n",
       "    <tr>\n",
       "      <th>Total</th>\n",
       "      <td>-1.067861e-02</td>\n",
       "      <td>-2.952752e-03</td>\n",
       "      <td>0.970443</td>\n",
       "      <td>0.797429</td>\n",
       "      <td>0.790705</td>\n",
       "      <td>-0.555471</td>\n",
       "      <td>1.000000</td>\n",
       "      <td>1.793136e-01</td>\n",
       "      <td>-8.310162e-03</td>\n",
       "      <td>1.370317e-01</td>\n",
       "      <td>0.631150</td>\n",
       "    </tr>\n",
       "    <tr>\n",
       "      <th>hour</th>\n",
       "      <td>2.814316e-16</td>\n",
       "      <td>-2.874150e-16</td>\n",
       "      <td>0.148086</td>\n",
       "      <td>0.140549</td>\n",
       "      <td>0.165751</td>\n",
       "      <td>-0.016952</td>\n",
       "      <td>0.179314</td>\n",
       "      <td>1.000000e+00</td>\n",
       "      <td>-1.003662e-17</td>\n",
       "      <td>8.667781e-01</td>\n",
       "      <td>0.175062</td>\n",
       "    </tr>\n",
       "    <tr>\n",
       "      <th>minute</th>\n",
       "      <td>2.865092e-17</td>\n",
       "      <td>-5.201713e-17</td>\n",
       "      <td>-0.003360</td>\n",
       "      <td>-0.007978</td>\n",
       "      <td>-0.016160</td>\n",
       "      <td>-0.001120</td>\n",
       "      <td>-0.008310</td>\n",
       "      <td>-1.003662e-17</td>\n",
       "      <td>1.000000e+00</td>\n",
       "      <td>-6.691275e-18</td>\n",
       "      <td>0.002993</td>\n",
       "    </tr>\n",
       "    <tr>\n",
       "      <th>AM/PM</th>\n",
       "      <td>6.563367e-17</td>\n",
       "      <td>-1.206884e-16</td>\n",
       "      <td>0.102684</td>\n",
       "      <td>0.140474</td>\n",
       "      <td>0.120915</td>\n",
       "      <td>0.000095</td>\n",
       "      <td>0.137032</td>\n",
       "      <td>8.667781e-01</td>\n",
       "      <td>-6.691275e-18</td>\n",
       "      <td>1.000000e+00</td>\n",
       "      <td>0.124653</td>\n",
       "    </tr>\n",
       "    <tr>\n",
       "      <th>Traffic Situation</th>\n",
       "      <td>6.594190e-03</td>\n",
       "      <td>-2.442348e-02</td>\n",
       "      <td>0.541331</td>\n",
       "      <td>0.407324</td>\n",
       "      <td>0.590153</td>\n",
       "      <td>-0.049809</td>\n",
       "      <td>0.631150</td>\n",
       "      <td>1.750623e-01</td>\n",
       "      <td>2.993107e-03</td>\n",
       "      <td>1.246532e-01</td>\n",
       "      <td>1.000000</td>\n",
       "    </tr>\n",
       "  </tbody>\n",
       "</table>\n",
       "</div>"
      ],
      "text/plain": [
       "                           Date  Day of the week  CarCount  BikeCount  \\\n",
       "Date               1.000000e+00    -1.672874e-02 -0.013453  -0.005089   \n",
       "Day of the week   -1.672874e-02     1.000000e+00 -0.002230   0.063583   \n",
       "CarCount          -1.345292e-02    -2.230275e-03  1.000000   0.722539   \n",
       "BikeCount         -5.088914e-03     6.358283e-02  0.722539   1.000000   \n",
       "BusCount          -1.553604e-02    -4.603119e-02  0.692994   0.566364   \n",
       "TruckCount         2.473362e-02    -2.189502e-02 -0.628157  -0.575399   \n",
       "Total             -1.067861e-02    -2.952752e-03  0.970443   0.797429   \n",
       "hour               2.814316e-16    -2.874150e-16  0.148086   0.140549   \n",
       "minute             2.865092e-17    -5.201713e-17 -0.003360  -0.007978   \n",
       "AM/PM              6.563367e-17    -1.206884e-16  0.102684   0.140474   \n",
       "Traffic Situation  6.594190e-03    -2.442348e-02  0.541331   0.407324   \n",
       "\n",
       "                   BusCount  TruckCount     Total          hour        minute  \\\n",
       "Date              -0.015536    0.024734 -0.010679  2.814316e-16  2.865092e-17   \n",
       "Day of the week   -0.046031   -0.021895 -0.002953 -2.874150e-16 -5.201713e-17   \n",
       "CarCount           0.692994   -0.628157  0.970443  1.480863e-01 -3.359952e-03   \n",
       "BikeCount          0.566364   -0.575399  0.797429  1.405488e-01 -7.978481e-03   \n",
       "BusCount           1.000000   -0.546931  0.790705  1.657507e-01 -1.615958e-02   \n",
       "TruckCount        -0.546931    1.000000 -0.555471 -1.695231e-02 -1.119745e-03   \n",
       "Total              0.790705   -0.555471  1.000000  1.793136e-01 -8.310162e-03   \n",
       "hour               0.165751   -0.016952  0.179314  1.000000e+00 -1.003662e-17   \n",
       "minute            -0.016160   -0.001120 -0.008310 -1.003662e-17  1.000000e+00   \n",
       "AM/PM              0.120915    0.000095  0.137032  8.667781e-01 -6.691275e-18   \n",
       "Traffic Situation  0.590153   -0.049809  0.631150  1.750623e-01  2.993107e-03   \n",
       "\n",
       "                          AM/PM  Traffic Situation  \n",
       "Date               6.563367e-17           0.006594  \n",
       "Day of the week   -1.206884e-16          -0.024423  \n",
       "CarCount           1.026836e-01           0.541331  \n",
       "BikeCount          1.404737e-01           0.407324  \n",
       "BusCount           1.209151e-01           0.590153  \n",
       "TruckCount         9.508203e-05          -0.049809  \n",
       "Total              1.370317e-01           0.631150  \n",
       "hour               8.667781e-01           0.175062  \n",
       "minute            -6.691275e-18           0.002993  \n",
       "AM/PM              1.000000e+00           0.124653  \n",
       "Traffic Situation  1.246532e-01           1.000000  "
      ]
     },
     "execution_count": 17,
     "metadata": {},
     "output_type": "execute_result"
    }
   ],
   "source": [
    "df[['Date', 'Day of the week', 'CarCount', 'BikeCount', 'BusCount',\n",
    "       'TruckCount', 'Total', 'hour', 'minute', 'AM/PM', 'Traffic Situation']].corr()"
   ]
  },
  {
   "cell_type": "code",
   "execution_count": 18,
   "id": "18a3667e-fcd8-477b-bcbe-4a62f8ef0582",
   "metadata": {
    "collapsed": true,
    "jupyter": {
     "outputs_hidden": true
    },
    "tags": []
   },
   "outputs": [
    {
     "data": {
      "text/plain": [
       "<Axes: >"
      ]
     },
     "execution_count": 18,
     "metadata": {},
     "output_type": "execute_result"
    },
    {
     "data": {
      "image/png": "[encoded data removed]",
      "text/plain": [
       "<Figure size 1900x1000 with 2 Axes>"
      ]
     },
     "metadata": {},
     "output_type": "display_data"
    }
   ],
   "source": [
    "plt.figure(figsize = (19,10))\n",
    "sns.heatmap(df[['Date', 'Day of the week', 'CarCount', 'BikeCount', 'BusCount',\n",
    "           'TruckCount', 'Total', 'hour', 'minute', 'AM/PM', 'Traffic Situation']].corr(),\n",
    "            cmap=\"YlGnBu\",annot=True)"
   ]
  },
  {
   "cell_type": "code",
   "execution_count": 19,
   "id": "a7a8a9a8-160b-4a2a-ae6b-e6e86f0ee6d8",
   "metadata": {
    "tags": []
   },
   "outputs": [
    {
     "data": {
      "text/plain": [
       "Index(['Date', 'Day of the week', 'CarCount', 'BikeCount', 'BusCount',\n",
       "       'TruckCount', 'Total', 'Traffic Situation', 'hour', 'minute', 'AM/PM'],\n",
       "      dtype='object')"
      ]
     },
     "execution_count": 19,
     "metadata": {},
     "output_type": "execute_result"
    }
   ],
   "source": [
    "df.columns"
   ]
  },
  {
   "cell_type": "code",
   "execution_count": 20,
   "id": "e71fba04-30eb-48d7-a825-01ae4b2a4179",
   "metadata": {
    "tags": []
   },
   "outputs": [],
   "source": [
    "X= df[['Date', 'Day of the week', 'CarCount', 'BikeCount', 'BusCount',\n",
    "       'TruckCount', 'Total','hour', 'minute', 'AM/PM']]\n",
    "\n",
    "y= df['Traffic Situation'].values"
   ]
  },
  {
   "cell_type": "code",
   "execution_count": 21,
   "id": "d920c92a-ebb9-4468-915e-08f750d77bf8",
   "metadata": {
    "tags": []
   },
   "outputs": [],
   "source": [
    "from sklearn.model_selection import train_test_split\n",
    "train_X, test_X, train_y, test_y = train_test_split(X,y,test_size=0.3 , random_state = 0)"
   ]
  },
  {
   "cell_type": "code",
   "execution_count": 22,
   "id": "b9c0f77d-7269-4311-935f-e24c43d536b2",
   "metadata": {
    "tags": []
   },
   "outputs": [],
   "source": [
    "from sklearn.preprocessing import StandardScaler\n",
    "sc = StandardScaler()\n",
    "train_X = sc.fit_transform(train_X)\n",
    "test_X = sc.transform(test_X)"
   ]
  },
  {
   "cell_type": "code",
   "execution_count": 23,
   "id": "ecd0d7cc-7f13-4a6f-b90f-74bd7537e31e",
   "metadata": {
    "tags": []
   },
   "outputs": [],
   "source": [
    "from sklearn.linear_model import LogisticRegression"
   ]
  },
  {
   "cell_type": "code",
   "execution_count": 24,
   "id": "12eba69d-472b-4e39-aa89-427c8672f347",
   "metadata": {
    "tags": []
   },
   "outputs": [
    {
     "name": "stdout",
     "output_type": "stream",
     "text": [
      "CPU times: total: 172 ms\n",
      "Wall time: 63.6 ms\n"
     ]
    },
    {
     "data": {
      "text/plain": [
       "0.8734602463605823"
      ]
     },
     "execution_count": 24,
     "metadata": {},
     "output_type": "execute_result"
    }
   ],
   "source": [
    "%%time\n",
    "lr = LogisticRegression()\n",
    "lr.fit(train_X,train_y)\n",
    "y_test_pred = lr.predict(test_X)\n",
    "acc_score = accuracy_score(test_y,y_test_pred)\n",
    "acc_score"
   ]
  },
  {
   "cell_type": "code",
   "execution_count": 25,
   "id": "a000b3ee-7c3f-4c3b-8362-57139b08e348",
   "metadata": {
    "tags": []
   },
   "outputs": [],
   "source": [
    "from sklearn.tree import DecisionTreeClassifier"
   ]
  },
  {
   "cell_type": "code",
   "execution_count": 26,
   "id": "ed31c443-f6f6-421c-8446-3b4d9abfe398",
   "metadata": {
    "tags": []
   },
   "outputs": [
    {
     "name": "stdout",
     "output_type": "stream",
     "text": [
      "CPU times: total: 0 ns\n",
      "Wall time: 5.13 ms\n"
     ]
    },
    {
     "data": {
      "text/plain": [
       "0.975363941769317"
      ]
     },
     "execution_count": 26,
     "metadata": {},
     "output_type": "execute_result"
    }
   ],
   "source": [
    "%%time\n",
    "dtc = DecisionTreeClassifier(random_state=0,max_depth=4)\n",
    "dtc.fit(train_X,train_y)\n",
    "y_test_pred = dtc.predict(test_X)\n",
    "acc_score = accuracy_score(test_y,y_test_pred)\n",
    "acc_score"
   ]
  },
  {
   "cell_type": "code",
   "execution_count": 27,
   "id": "fcf695db-9633-4e41-803f-02f71a088bc5",
   "metadata": {},
   "outputs": [],
   "source": [
    "from sklearn.ensemble import RandomForestClassifier"
   ]
  },
  {
   "cell_type": "code",
   "execution_count": 28,
   "id": "aa168a75-a14d-456e-bc52-50667597029a",
   "metadata": {
    "tags": []
   },
   "outputs": [
    {
     "name": "stdout",
     "output_type": "stream",
     "text": [
      "CPU times: total: 531 ms\n",
      "Wall time: 116 ms\n"
     ]
    },
    {
     "data": {
      "text/plain": [
       "0.9440089585666294"
      ]
     },
     "execution_count": 28,
     "metadata": {},
     "output_type": "execute_result"
    }
   ],
   "source": [
    "%%time\n",
    "rfc = RandomForestClassifier(n_estimators=50,random_state=0,max_depth=4)\n",
    "rfc.fit(train_X,train_y)\n",
    "y_test_pred = rfc.predict(test_X)\n",
    "acc_score = accuracy_score(test_y,y_test_pred)\n",
    "acc_score"
   ]
  },
  {
   "cell_type": "code",
   "execution_count": 29,
   "id": "340f3d2b-a152-4f49-b3cb-211fb0199d01",
   "metadata": {
    "tags": []
   },
   "outputs": [],
   "source": [
    "from sklearn.neighbors import KNeighborsClassifier"
   ]
  },
  {
   "cell_type": "code",
   "execution_count": 30,
   "id": "a2a6827b-2cd6-40e0-94c7-819e6af839fe",
   "metadata": {
    "tags": []
   },
   "outputs": [
    {
     "name": "stdout",
     "output_type": "stream",
     "text": [
      "CPU times: total: 15.6 ms\n",
      "Wall time: 21.1 ms\n"
     ]
    }
   ],
   "source": [
    "%%time\n",
    "knn = KNeighborsClassifier(n_neighbors=7,weights='distance')\n",
    "knn.fit(train_X,train_y)\n",
    "y_test_pred = knn.predict(test_X)\n",
    "acc_score = accuracy_score(test_y,y_test_pred)"
   ]
  },
  {
   "cell_type": "code",
   "execution_count": 31,
   "id": "f01d88fa-957f-4fe7-828d-3e13fecc9035",
   "metadata": {
    "tags": []
   },
   "outputs": [],
   "source": [
    "from sklearn.svm import SVC"
   ]
  },
  {
   "cell_type": "code",
   "execution_count": 32,
   "id": "4ea0124e-3541-4324-91f5-abd3655f3e98",
   "metadata": {
    "tags": []
   },
   "outputs": [
    {
     "name": "stdout",
     "output_type": "stream",
     "text": [
      "CPU times: total: 31.2 ms\n",
      "Wall time: 61 ms\n"
     ]
    },
    {
     "data": {
      "text/plain": [
       "0.9238521836506159"
      ]
     },
     "execution_count": 32,
     "metadata": {},
     "output_type": "execute_result"
    }
   ],
   "source": [
    "%%time\n",
    "svc = SVC(kernel='poly',degree=3,coef0=1)\n",
    "svc.fit(train_X,train_y)\n",
    "y_test_pred = svc.predict(test_X)\n",
    "acc_score = accuracy_score(test_y,y_test_pred)\n",
    "acc_score"
   ]
  },
  {
   "cell_type": "code",
   "execution_count": 33,
   "id": "7acfe5d7-538c-4731-80bd-559c471a3dff",
   "metadata": {},
   "outputs": [],
   "source": [
    "import tensorflow as tf\n",
    "from tensorflow import keras\n",
    "from tensorflow.keras.models import Sequential\n",
    "from tensorflow.keras.layers import Activation, Dense\n",
    "from tensorflow.keras.optimizers import Adam, SGD\n",
    "from tensorflow.keras.metrics import categorical_crossentropy"
   ]
  },
  {
   "cell_type": "code",
   "execution_count": 34,
   "id": "b12a0488-e0be-475f-a8d6-a9b625a186ba",
   "metadata": {},
   "outputs": [
    {
     "name": "stdout",
     "output_type": "stream",
     "text": [
      "Num GPUs Available:  1\n"
     ]
    }
   ],
   "source": [
    "physical_devices = tf.config.experimental.list_physical_devices('GPU')\n",
    "print(\"Num GPUs Available: \", len(physical_devices))\n",
    "tf.config.experimental.set_memory_growth(physical_devices[0], True)"
   ]
  },
  {
   "cell_type": "code",
   "execution_count": 35,
   "id": "f022e020-06a3-4d57-9389-e3682963e4ab",
   "metadata": {
    "tags": []
   },
   "outputs": [],
   "source": [
    "model = Sequential([\n",
    "    Dense(units=16, input_shape=(10,), activation='relu'),\n",
    "    Dense(units=4, activation='softmax')\n",
    "])"
   ]
  },
  {
   "cell_type": "code",
   "execution_count": 36,
   "id": "b0431d92-2b77-48ed-b62f-0302000d012c",
   "metadata": {
    "tags": []
   },
   "outputs": [
    {
     "name": "stdout",
     "output_type": "stream",
     "text": [
      "Model: \"sequential\"\n",
      "_________________________________________________________________\n",
      " Layer (type)                Output Shape              Param #   \n",
      "=================================================================\n",
      " dense (Dense)               (None, 16)                176       \n",
      "                                                                 \n",
      " dense_1 (Dense)             (None, 4)                 68        \n",
      "                                                                 \n",
      "=================================================================\n",
      "Total params: 244\n",
      "Trainable params: 244\n",
      "Non-trainable params: 0\n",
      "_________________________________________________________________\n"
     ]
    }
   ],
   "source": [
    "model.summary()"
   ]
  },
  {
   "cell_type": "code",
   "execution_count": 37,
   "id": "9dfaf28b-fe42-414c-98c1-87a8717585a4",
   "metadata": {
    "tags": []
   },
   "outputs": [],
   "source": [
    "model.compile(optimizer=Adam(learning_rate=0.001), loss='sparse_categorical_crossentropy', metrics=['accuracy'])"
   ]
  },
  {
   "cell_type": "code",
   "execution_count": 38,
   "id": "2d322a34-9d54-43ed-b20e-753772a0e0d8",
   "metadata": {
    "collapsed": true,
    "jupyter": {
     "outputs_hidden": true
    },
    "tags": []
   },
   "outputs": [
    {
     "name": "stdout",
     "output_type": "stream",
     "text": [
      "Epoch 1/30\n",
      "167/167 - 2s - loss: 1.0638 - accuracy: 0.5660 - val_loss: 0.8225 - val_accuracy: 0.6930 - 2s/epoch - 9ms/step\n",
      "Epoch 2/30\n",
      "167/167 - 0s - loss: 0.7574 - accuracy: 0.7389 - val_loss: 0.6756 - val_accuracy: 0.7746 - 471ms/epoch - 3ms/step\n",
      "Epoch 3/30\n",
      "167/167 - 0s - loss: 0.6459 - accuracy: 0.7803 - val_loss: 0.5933 - val_accuracy: 0.8010 - 435ms/epoch - 3ms/step\n",
      "Epoch 4/30\n",
      "167/167 - 0s - loss: 0.5687 - accuracy: 0.7911 - val_loss: 0.5315 - val_accuracy: 0.8106 - 440ms/epoch - 3ms/step\n",
      "Epoch 5/30\n",
      "167/167 - 0s - loss: 0.5059 - accuracy: 0.8073 - val_loss: 0.4802 - val_accuracy: 0.8249 - 443ms/epoch - 3ms/step\n",
      "Epoch 6/30\n",
      "167/167 - 0s - loss: 0.4517 - accuracy: 0.8271 - val_loss: 0.4362 - val_accuracy: 0.8441 - 423ms/epoch - 3ms/step\n",
      "Epoch 7/30\n",
      "167/167 - 0s - loss: 0.4062 - accuracy: 0.8469 - val_loss: 0.4006 - val_accuracy: 0.8705 - 430ms/epoch - 3ms/step\n",
      "Epoch 8/30\n",
      "167/167 - 0s - loss: 0.3700 - accuracy: 0.8691 - val_loss: 0.3746 - val_accuracy: 0.8873 - 432ms/epoch - 3ms/step\n",
      "Epoch 9/30\n",
      "167/167 - 0s - loss: 0.3423 - accuracy: 0.8794 - val_loss: 0.3564 - val_accuracy: 0.8921 - 425ms/epoch - 3ms/step\n",
      "Epoch 10/30\n",
      "167/167 - 0s - loss: 0.3207 - accuracy: 0.8920 - val_loss: 0.3424 - val_accuracy: 0.8945 - 451ms/epoch - 3ms/step\n",
      "Epoch 11/30\n",
      "167/167 - 0s - loss: 0.3027 - accuracy: 0.8968 - val_loss: 0.3287 - val_accuracy: 0.9161 - 418ms/epoch - 3ms/step\n",
      "Epoch 12/30\n",
      "167/167 - 0s - loss: 0.2875 - accuracy: 0.9010 - val_loss: 0.3158 - val_accuracy: 0.9185 - 435ms/epoch - 3ms/step\n",
      "Epoch 13/30\n",
      "167/167 - 0s - loss: 0.2749 - accuracy: 0.9064 - val_loss: 0.3072 - val_accuracy: 0.9161 - 450ms/epoch - 3ms/step\n",
      "Epoch 14/30\n",
      "167/167 - 0s - loss: 0.2625 - accuracy: 0.9088 - val_loss: 0.3040 - val_accuracy: 0.9185 - 467ms/epoch - 3ms/step\n",
      "Epoch 15/30\n",
      "167/167 - 0s - loss: 0.2527 - accuracy: 0.9160 - val_loss: 0.2958 - val_accuracy: 0.9161 - 477ms/epoch - 3ms/step\n",
      "Epoch 16/30\n",
      "167/167 - 1s - loss: 0.2435 - accuracy: 0.9172 - val_loss: 0.2939 - val_accuracy: 0.9185 - 514ms/epoch - 3ms/step\n",
      "Epoch 17/30\n",
      "167/167 - 1s - loss: 0.2351 - accuracy: 0.9256 - val_loss: 0.2875 - val_accuracy: 0.9209 - 512ms/epoch - 3ms/step\n",
      "Epoch 18/30\n",
      "167/167 - 0s - loss: 0.2276 - accuracy: 0.9274 - val_loss: 0.2815 - val_accuracy: 0.9257 - 454ms/epoch - 3ms/step\n",
      "Epoch 19/30\n",
      "167/167 - 1s - loss: 0.2206 - accuracy: 0.9316 - val_loss: 0.2777 - val_accuracy: 0.9233 - 547ms/epoch - 3ms/step\n",
      "Epoch 20/30\n",
      "167/167 - 1s - loss: 0.2136 - accuracy: 0.9304 - val_loss: 0.2765 - val_accuracy: 0.9233 - 507ms/epoch - 3ms/step\n",
      "Epoch 21/30\n",
      "167/167 - 0s - loss: 0.2075 - accuracy: 0.9364 - val_loss: 0.2753 - val_accuracy: 0.9257 - 498ms/epoch - 3ms/step\n",
      "Epoch 22/30\n",
      "167/167 - 0s - loss: 0.2020 - accuracy: 0.9358 - val_loss: 0.2721 - val_accuracy: 0.9353 - 482ms/epoch - 3ms/step\n",
      "Epoch 23/30\n",
      "167/167 - 0s - loss: 0.1969 - accuracy: 0.9364 - val_loss: 0.2697 - val_accuracy: 0.9305 - 435ms/epoch - 3ms/step\n",
      "Epoch 24/30\n",
      "167/167 - 0s - loss: 0.1919 - accuracy: 0.9394 - val_loss: 0.2668 - val_accuracy: 0.9353 - 489ms/epoch - 3ms/step\n",
      "Epoch 25/30\n",
      "167/167 - 1s - loss: 0.1874 - accuracy: 0.9454 - val_loss: 0.2713 - val_accuracy: 0.9376 - 517ms/epoch - 3ms/step\n",
      "Epoch 26/30\n",
      "167/167 - 0s - loss: 0.1837 - accuracy: 0.9442 - val_loss: 0.2635 - val_accuracy: 0.9353 - 431ms/epoch - 3ms/step\n",
      "Epoch 27/30\n",
      "167/167 - 0s - loss: 0.1796 - accuracy: 0.9460 - val_loss: 0.2600 - val_accuracy: 0.9400 - 449ms/epoch - 3ms/step\n",
      "Epoch 28/30\n",
      "167/167 - 0s - loss: 0.1750 - accuracy: 0.9502 - val_loss: 0.2591 - val_accuracy: 0.9448 - 435ms/epoch - 3ms/step\n",
      "Epoch 29/30\n",
      "167/167 - 0s - loss: 0.1714 - accuracy: 0.9478 - val_loss: 0.2570 - val_accuracy: 0.9353 - 452ms/epoch - 3ms/step\n",
      "Epoch 30/30\n",
      "167/167 - 1s - loss: 0.1690 - accuracy: 0.9490 - val_loss: 0.2571 - val_accuracy: 0.9424 - 504ms/epoch - 3ms/step\n",
      "CPU times: total: 4.53 s\n",
      "Wall time: 15.1 s\n"
     ]
    },
    {
     "data": {
      "text/plain": [
       "<keras.callbacks.History at 0x2804b583df0>"
      ]
     },
     "execution_count": 38,
     "metadata": {},
     "output_type": "execute_result"
    }
   ],
   "source": [
    "%%time\n",
    "model.fit(x=train_X, y=train_y, validation_split=0.2, batch_size=10, epochs=30, shuffle=True, verbose=2)"
   ]
  },
  {
   "cell_type": "code",
   "execution_count": 39,
   "id": "d6e26108-5105-49a4-9d09-7167a2b32a33",
   "metadata": {
    "tags": []
   },
   "outputs": [
    {
     "name": "stdout",
     "output_type": "stream",
     "text": [
      "28/28 [==============================] - 0s 1ms/step\n"
     ]
    },
    {
     "data": {
      "text/plain": [
       "0.9182530795072789"
      ]
     },
     "execution_count": 39,
     "metadata": {},
     "output_type": "execute_result"
    }
   ],
   "source": [
    "y_test_pred = model.predict(test_X)\n",
    "y_test_pred_classes = np.argmax(y_test_pred, axis=1)\n",
    "acc_score = accuracy_score(test_y,y_test_pred_classes)\n",
    "acc_score"
   ]
  },
  {
   "cell_type": "code",
   "execution_count": 40,
   "id": "6dfaba3a-986b-49e6-804e-5d2f9e6ad989",
   "metadata": {
    "tags": []
   },
   "outputs": [],
   "source": [
    "dnn = Sequential([\n",
    "    Dense(units=16, input_shape=(10,), activation='relu'),\n",
    "    Dense(units=32, activation='relu'),\n",
    "    Dense(units=48, activation='relu'),\n",
    "    Dense(units=4, activation='softmax')\n",
    "])"
   ]
  },
  {
   "cell_type": "code",
   "execution_count": 41,
   "id": "e8fc623a-5b58-4e5e-8f5f-8aaa56ca2292",
   "metadata": {
    "tags": []
   },
   "outputs": [
    {
     "name": "stdout",
     "output_type": "stream",
     "text": [
      "Model: \"sequential_1\"\n",
      "_________________________________________________________________\n",
      " Layer (type)                Output Shape              Param #   \n",
      "=================================================================\n",
      " dense_2 (Dense)             (None, 16)                176       \n",
      "                                                                 \n",
      " dense_3 (Dense)             (None, 32)                544       \n",
      "                                                                 \n",
      " dense_4 (Dense)             (None, 48)                1584      \n",
      "                                                                 \n",
      " dense_5 (Dense)             (None, 4)                 196       \n",
      "                                                                 \n",
      "=================================================================\n",
      "Total params: 2,500\n",
      "Trainable params: 2,500\n",
      "Non-trainable params: 0\n",
      "_________________________________________________________________\n"
     ]
    }
   ],
   "source": [
    "dnn.summary()"
   ]
  },
  {
   "cell_type": "code",
   "execution_count": 42,
   "id": "4db42490-2d88-4768-968d-5b1e9fbe7626",
   "metadata": {
    "tags": []
   },
   "outputs": [],
   "source": [
    "dnn.compile(optimizer=Adam(learning_rate=0.001), loss='sparse_categorical_crossentropy', metrics=['accuracy'])"
   ]
  },
  {
   "cell_type": "code",
   "execution_count": 43,
   "id": "535b6536-8fdf-4017-967a-afc67e40865a",
   "metadata": {
    "collapsed": true,
    "jupyter": {
     "outputs_hidden": true
    },
    "tags": []
   },
   "outputs": [
    {
     "name": "stdout",
     "output_type": "stream",
     "text": [
      "Epoch 1/30\n",
      "167/167 - 1s - loss: 0.8331 - accuracy: 0.7005 - val_loss: 0.5552 - val_accuracy: 0.7866 - 977ms/epoch - 6ms/step\n",
      "Epoch 2/30\n",
      "167/167 - 1s - loss: 0.4749 - accuracy: 0.8013 - val_loss: 0.3776 - val_accuracy: 0.8705 - 564ms/epoch - 3ms/step\n",
      "Epoch 3/30\n",
      "167/167 - 1s - loss: 0.3254 - accuracy: 0.8764 - val_loss: 0.3227 - val_accuracy: 0.8945 - 542ms/epoch - 3ms/step\n",
      "Epoch 4/30\n",
      "167/167 - 1s - loss: 0.2634 - accuracy: 0.8998 - val_loss: 0.2925 - val_accuracy: 0.8969 - 579ms/epoch - 3ms/step\n",
      "Epoch 5/30\n",
      "167/167 - 1s - loss: 0.2377 - accuracy: 0.9094 - val_loss: 0.2652 - val_accuracy: 0.9113 - 544ms/epoch - 3ms/step\n",
      "Epoch 6/30\n",
      "167/167 - 1s - loss: 0.2054 - accuracy: 0.9220 - val_loss: 0.2562 - val_accuracy: 0.9209 - 516ms/epoch - 3ms/step\n",
      "Epoch 7/30\n",
      "167/167 - 1s - loss: 0.1946 - accuracy: 0.9256 - val_loss: 0.2725 - val_accuracy: 0.9089 - 524ms/epoch - 3ms/step\n",
      "Epoch 8/30\n",
      "167/167 - 1s - loss: 0.1686 - accuracy: 0.9376 - val_loss: 0.2310 - val_accuracy: 0.9281 - 585ms/epoch - 4ms/step\n",
      "Epoch 9/30\n",
      "167/167 - 1s - loss: 0.1559 - accuracy: 0.9454 - val_loss: 0.2408 - val_accuracy: 0.9161 - 510ms/epoch - 3ms/step\n",
      "Epoch 10/30\n",
      "167/167 - 1s - loss: 0.1443 - accuracy: 0.9508 - val_loss: 0.2236 - val_accuracy: 0.9161 - 515ms/epoch - 3ms/step\n",
      "Epoch 11/30\n",
      "167/167 - 1s - loss: 0.1402 - accuracy: 0.9472 - val_loss: 0.2229 - val_accuracy: 0.9233 - 523ms/epoch - 3ms/step\n",
      "Epoch 12/30\n",
      "167/167 - 1s - loss: 0.1292 - accuracy: 0.9496 - val_loss: 0.1959 - val_accuracy: 0.9353 - 595ms/epoch - 4ms/step\n",
      "Epoch 13/30\n",
      "167/167 - 1s - loss: 0.1197 - accuracy: 0.9604 - val_loss: 0.2011 - val_accuracy: 0.9400 - 534ms/epoch - 3ms/step\n",
      "Epoch 14/30\n",
      "167/167 - 1s - loss: 0.1196 - accuracy: 0.9538 - val_loss: 0.1968 - val_accuracy: 0.9353 - 597ms/epoch - 4ms/step\n",
      "Epoch 15/30\n",
      "167/167 - 1s - loss: 0.1156 - accuracy: 0.9598 - val_loss: 0.2122 - val_accuracy: 0.9257 - 594ms/epoch - 4ms/step\n",
      "Epoch 16/30\n",
      "167/167 - 1s - loss: 0.1042 - accuracy: 0.9652 - val_loss: 0.1915 - val_accuracy: 0.9448 - 550ms/epoch - 3ms/step\n",
      "Epoch 17/30\n",
      "167/167 - 1s - loss: 0.0981 - accuracy: 0.9658 - val_loss: 0.2014 - val_accuracy: 0.9329 - 575ms/epoch - 3ms/step\n",
      "Epoch 18/30\n",
      "167/167 - 1s - loss: 0.0960 - accuracy: 0.9646 - val_loss: 0.1854 - val_accuracy: 0.9520 - 581ms/epoch - 3ms/step\n",
      "Epoch 19/30\n",
      "167/167 - 1s - loss: 0.0936 - accuracy: 0.9664 - val_loss: 0.1862 - val_accuracy: 0.9496 - 631ms/epoch - 4ms/step\n",
      "Epoch 20/30\n",
      "167/167 - 1s - loss: 0.0861 - accuracy: 0.9706 - val_loss: 0.1944 - val_accuracy: 0.9353 - 537ms/epoch - 3ms/step\n",
      "Epoch 21/30\n",
      "167/167 - 1s - loss: 0.0857 - accuracy: 0.9700 - val_loss: 0.1990 - val_accuracy: 0.9568 - 540ms/epoch - 3ms/step\n",
      "Epoch 22/30\n",
      "167/167 - 1s - loss: 0.0840 - accuracy: 0.9736 - val_loss: 0.1820 - val_accuracy: 0.9544 - 549ms/epoch - 3ms/step\n",
      "Epoch 23/30\n",
      "167/167 - 1s - loss: 0.0847 - accuracy: 0.9706 - val_loss: 0.1854 - val_accuracy: 0.9472 - 564ms/epoch - 3ms/step\n",
      "Epoch 24/30\n",
      "167/167 - 1s - loss: 0.0853 - accuracy: 0.9700 - val_loss: 0.1894 - val_accuracy: 0.9472 - 525ms/epoch - 3ms/step\n",
      "Epoch 25/30\n",
      "167/167 - 1s - loss: 0.0778 - accuracy: 0.9742 - val_loss: 0.2177 - val_accuracy: 0.9353 - 540ms/epoch - 3ms/step\n",
      "Epoch 26/30\n",
      "167/167 - 1s - loss: 0.0767 - accuracy: 0.9748 - val_loss: 0.1798 - val_accuracy: 0.9568 - 521ms/epoch - 3ms/step\n",
      "Epoch 27/30\n",
      "167/167 - 1s - loss: 0.0664 - accuracy: 0.9826 - val_loss: 0.1788 - val_accuracy: 0.9472 - 525ms/epoch - 3ms/step\n",
      "Epoch 28/30\n",
      "167/167 - 1s - loss: 0.0705 - accuracy: 0.9784 - val_loss: 0.1955 - val_accuracy: 0.9400 - 563ms/epoch - 3ms/step\n",
      "Epoch 29/30\n",
      "167/167 - 1s - loss: 0.0656 - accuracy: 0.9826 - val_loss: 0.1826 - val_accuracy: 0.9592 - 573ms/epoch - 3ms/step\n",
      "Epoch 30/30\n",
      "167/167 - 1s - loss: 0.0676 - accuracy: 0.9760 - val_loss: 0.1776 - val_accuracy: 0.9496 - 534ms/epoch - 3ms/step\n",
      "CPU times: total: 4.14 s\n",
      "Wall time: 17.1 s\n"
     ]
    },
    {
     "data": {
      "text/plain": [
       "<keras.callbacks.History at 0x280750701c0>"
      ]
     },
     "execution_count": 43,
     "metadata": {},
     "output_type": "execute_result"
    }
   ],
   "source": [
    "%%time\n",
    "dnn.fit(x=train_X, y=train_y, validation_split=0.2, batch_size=10, epochs=30, shuffle=True, verbose=2)"
   ]
  },
  {
   "cell_type": "code",
   "execution_count": 44,
   "id": "4154912d-74fc-480d-8e96-7ba0f2664658",
   "metadata": {
    "tags": []
   },
   "outputs": [
    {
     "name": "stdout",
     "output_type": "stream",
     "text": [
      "28/28 [==============================] - 0s 1ms/step\n"
     ]
    },
    {
     "data": {
      "text/plain": [
       "0.93505039193729"
      ]
     },
     "execution_count": 44,
     "metadata": {},
     "output_type": "execute_result"
    }
   ],
   "source": [
    "y_test_pred = dnn.predict(test_X)\n",
    "y_test_pred_classes = np.argmax(y_test_pred, axis=1)\n",
    "acc_score = accuracy_score(test_y,y_test_pred_classes)\n",
    "acc_score"
   ]
  },
  {
   "cell_type": "code",
   "execution_count": null,
   "id": "22fc9d0c-6cbd-4c42-a6fc-6629674661b0",
   "metadata": {},
   "outputs": [],
   "source": []
  }
 ],
 "metadata": {
  "kernelspec": {
   "display_name": "Python 3 (ipykernel)",
   "language": "python",
   "name": "python3"
  },
  "language_info": {
   "codemirror_mode": {
    "name": "ipython",
    "version": 3
   },
   "file_extension": ".py",
   "mimetype": "text/x-python",
   "name": "python",
   "nbconvert_exporter": "python",
   "pygments_lexer": "ipython3",
   "version": "3.10.12"
  }
 },
 "nbformat": 4,
 "nbformat_minor": 5
}
